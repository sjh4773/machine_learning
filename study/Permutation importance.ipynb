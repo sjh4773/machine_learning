{
 "cells": [
  {
   "cell_type": "markdown",
   "id": "767cfe7c",
   "metadata": {},
   "source": [
    "### Permutation(순열) importance 개요\n",
    "- 특정 피처들의 값을 완전히 변조했을 때 모델 성능이 얼마나 저하되는지를 기준으로  해당 피처의 중요도를 산정\n",
    "- 학습 데이터를 제거하거나/변조하면 다시 재 학습을 수행해야 하므로 수행 시간이 오래 걸림\n",
    "- 일반적으로 테스트 데이터(검증용 데이터)에 특정 피처들을 반복적으로 변조한 뒤 해당 피처의 중요도를 평균적으로 산정"
   ]
  },
  {
   "cell_type": "markdown",
   "id": "5f12ba7f",
   "metadata": {},
   "source": [
    "### Permutation importance 프로세스\n",
    "- 원본 모델의 기준 평가 성능을 설정.\n",
    "- 개별 feature 별로 아래 수행\n",
    "    - 1. 설정된 iteration 값 별로 아래 수행\n",
    "        - a. 해당 feature로 shuffle\n",
    "        - b. 모델 성능 평가\n",
    "    - 2. 기준 평가 성능에서 모델 성능이 얼마나 저하되었는지 평가"
   ]
  },
  {
   "cell_type": "code",
   "execution_count": 3,
   "id": "232255fe",
   "metadata": {},
   "outputs": [
    {
     "name": "stdout",
     "output_type": "stream",
     "text": [
      "r2 score: 0.35666062386954545\n"
     ]
    }
   ],
   "source": [
    "from sklearn.datasets import load_diabetes\n",
    "from sklearn.model_selection import train_test_split\n",
    "from sklearn.linear_model import Ridge\n",
    "from sklearn.metrics import r2_score\n",
    "import numpy as np\n",
    "\n",
    "diabetes = load_diabetes()\n",
    "X_train, X_val, y_train, y_val = train_test_split(diabetes.data, diabetes.target, random_state=0)\n",
    "\n",
    "# 학습, 예측, R2 Score 평가\n",
    "model = Ridge(alpha=1e-2).fit(X_train,y_train)\n",
    "y_pred = model.predict(X_val)\n",
    "print('r2 score:',r2_score(y_val,y_pred))"
   ]
  },
  {
   "cell_type": "code",
   "execution_count": 4,
   "id": "e2e1f608",
   "metadata": {},
   "outputs": [
    {
     "name": "stdout",
     "output_type": "stream",
     "text": [
      "s5   0.2042 +/- 0.04965\n",
      "bmi   0.1758 +/- 0.0484\n",
      "bp   0.0884 +/- 0.03284\n",
      "sex   0.0559 +/- 0.02319\n"
     ]
    }
   ],
   "source": [
    "from sklearn.inspection import permutation_importance\n",
    "r = permutation_importance(model, X_val, y_val, n_repeats=30, random_state=0)\n",
    "\n",
    "# 가장 평균 permutation importance가 높은 순으로 내림차순 정렬 후 평균 permutation importance값과 표준 편차 출력\n",
    "for i in r.importances_mean.argsort()[::-1]:\n",
    "    if r.importances_mean[i] -2 * r.importances_std[i] > 0:\n",
    "        print(diabetes.feature_names[i],\" \",np.round(r.importances_mean[i], 4), \"+/-\", np.round(r.importances_std[i], 5))"
   ]
  }
 ],
 "metadata": {
  "kernelspec": {
   "display_name": "Python 3",
   "language": "python",
   "name": "python3"
  },
  "language_info": {
   "codemirror_mode": {
    "name": "ipython",
    "version": 3
   },
   "file_extension": ".py",
   "mimetype": "text/x-python",
   "name": "python",
   "nbconvert_exporter": "python",
   "pygments_lexer": "ipython3",
   "version": "3.8.8"
  }
 },
 "nbformat": 4,
 "nbformat_minor": 5
}
