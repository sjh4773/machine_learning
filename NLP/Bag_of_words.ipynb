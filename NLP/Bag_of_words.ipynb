{
  "nbformat": 4,
  "nbformat_minor": 0,
  "metadata": {
    "colab": {
      "name": "Bag of words.ipynb",
      "provenance": []
    },
    "kernelspec": {
      "name": "python3",
      "display_name": "Python 3"
    },
    "language_info": {
      "name": "python"
    }
  },
  "cells": [
    {
      "cell_type": "markdown",
      "metadata": {
        "id": "ADwOhwA0o00C"
      },
      "source": [
        "# BOW\n",
        "Document Term Matrix: 개별 문서(또는 문장)을 단어들의 횟수나 정규화 변환된 횟수로 표현\n",
        "\n",
        "- 장점\n",
        "  - 쉽고 빠른 구축\n",
        "  - 예상보다 문서의 특징을 잘 나타내어 전통적으로 여러 분야에서 활용도가 높음\n",
        "\n",
        "- 단점\n",
        "  - 문맥 의미(Semantic Context) 반영 문제\n",
        "  - 희소 행렬 문제\n",
        "\n",
        "# BOW 피처 벡터화 유형\n",
        "\n",
        "- 단순 카운트 기반의 벡터화\n",
        "  - 단어 피처에 값을 부여할 때 각 문서에서 해당 단어가 나타나는 횟수, 즉 Count를 부여하는 경우를 카운트 벡터화라고 합니다. 카운트 벡터화에서는 카운트 값이 높을수록 중요한 단어로 인식됩니다.\n",
        "\n",
        "- TF-IDF 벡터화\n",
        "  - 카운트만 부여할 경우 그 문서의 특징을 나타내기보다는 언어의\n",
        "    특성상 문장에서 가장 자주 사용될 수 밖에 없는 단어까지 높은\n",
        "    값을 부여하게 됩니다. 이러한 문제를 보완하기 위해 TF-IDF(Term\n",
        "    Frequency Inverse Document Frequency) 벡터화를 사용합니다.\n",
        "    TF-IDF는 개별 문서에서 자주 나타나는 단어에 높은 가중치를 주되\n",
        "    , 모든 문서에서 전반적으로 자주 나타나는 단어에 대해서는\n",
        "    패널티를 주는 방식으로 값을 부여합니다.\n",
        "  - 특정 단어가 다른 문서에는 나타나지 않고 특정 문서에서만 자주\n",
        "    사용된다면 해당 단어는 해당 문서를 잘 특징짓는 중요 단어일 가\n",
        "    능성이 높음\n",
        "  - 특정 단어가 매우 많은 여러 문서에서 빈번히 나타난다면 해당\n",
        "    단어는 개별 문서를 특징짓는 정보로서의 의미를 상실\n",
        "\n",
        "- TF(Term Frequency)\n",
        "  - 문서에서 해당 단어가 얼마나 나왔는지를 나타내는 지표\n",
        "\n",
        "- DF(Document Frequency)\n",
        "  - 해당 단어가 몇 개의 문서에서 나타났는지를 나타내는 지표\n",
        "\n",
        "- IDF(Inverse Document Frequency)\n",
        "  - DF의 역수로서 전체 문서수/DF"
      ]
    },
    {
      "cell_type": "code",
      "metadata": {
        "id": "lrHTzcRQdNxh"
      },
      "source": [
        "import nltk\n"
      ],
      "execution_count": 2,
      "outputs": []
    },
    {
      "cell_type": "markdown",
      "metadata": {
        "id": "48YkUo1A2IN4"
      },
      "source": [
        "### 사이킷런 CounterVectorizer 테스트"
      ]
    },
    {
      "cell_type": "code",
      "metadata": {
        "colab": {
          "base_uri": "https://localhost:8080/"
        },
        "id": "TBriw-KudIlK",
        "outputId": "9edc080a-66f2-477c-92e6-ff6cc2dc15de"
      },
      "source": [
        "text_sample_01 = 'The Matrix is everywhere its all around us, here even in this room.\\\n",
        "                  You can see it out your window or on your television. \\\n",
        "                  Your feel it when you go to work, or go to church or pay your taxes.'\n",
        "text_sample_02 = 'You take the blue pill and the story ends. You wake in your bed and you believe whatever you want to believe \\\n",
        "                  You take the red pill and you stay in Wonderland and I show you how deep the rabbit-hole goes.'\n",
        "text = []\n",
        "text.append(text_sample_01); text.append(text_sample_02)\n",
        "print(text,\"\\n\", len(text))"
      ],
      "execution_count": 4,
      "outputs": [
        {
          "output_type": "stream",
          "name": "stdout",
          "text": [
            "['The Matrix is everywhere its all around us, here even in this room.                  You can see it out your window or on your television.                   Your feel it when you go to work, or go to church or pay your taxes.', 'You take the blue pill and the story ends. You wake in your bed and you believe whatever you want to believe                   You take the red pill and you stay in Wonderland and I show you how deep the rabbit-hole goes.'] \n",
            " 2\n"
          ]
        }
      ]
    },
    {
      "cell_type": "markdown",
      "metadata": {
        "id": "g6Q7tsAL2apT"
      },
      "source": [
        "### CounterVectorizer 객체 생성 후 fit(), transform()으로 텍스트에 대한 feature vectorization 수행"
      ]
    },
    {
      "cell_type": "code",
      "metadata": {
        "colab": {
          "base_uri": "https://localhost:8080/"
        },
        "id": "Vz-y464d2L_m",
        "outputId": "4a23afcc-0dc5-4b08-c5dd-bc4dc7f51858"
      },
      "source": [
        "from sklearn.feature_extraction.text import CountVectorizer\n",
        "\n",
        "# Count Vectorization으로 feature extraction 변환 수행\n",
        "cnt_vect = CountVectorizer()\n",
        "cnt_vect.fit(text)"
      ],
      "execution_count": 5,
      "outputs": [
        {
          "output_type": "execute_result",
          "data": {
            "text/plain": [
              "CountVectorizer(analyzer='word', binary=False, decode_error='strict',\n",
              "                dtype=<class 'numpy.int64'>, encoding='utf-8', input='content',\n",
              "                lowercase=True, max_df=1.0, max_features=None, min_df=1,\n",
              "                ngram_range=(1, 1), preprocessor=None, stop_words=None,\n",
              "                strip_accents=None, token_pattern='(?u)\\\\b\\\\w\\\\w+\\\\b',\n",
              "                tokenizer=None, vocabulary=None)"
            ]
          },
          "metadata": {},
          "execution_count": 5
        }
      ]
    },
    {
      "cell_type": "code",
      "metadata": {
        "id": "axD8yfKV3ElI"
      },
      "source": [
        "ftr_vect = cnt_vect.transform(text)"
      ],
      "execution_count": 7,
      "outputs": []
    },
    {
      "cell_type": "markdown",
      "metadata": {
        "id": "tYQfuBm_3SZQ"
      },
      "source": [
        "### 피처 벡터화 후 데이터 유형 및 여러 속성 확인"
      ]
    },
    {
      "cell_type": "code",
      "metadata": {
        "colab": {
          "base_uri": "https://localhost:8080/"
        },
        "id": "IOzJ6zxl3OSr",
        "outputId": "3f0f425e-5ea5-4faf-c05f-f825dbe378fd"
      },
      "source": [
        "print(type(ftr_vect), ftr_vect.shape)\n",
        "print(ftr_vect)"
      ],
      "execution_count": 8,
      "outputs": [
        {
          "output_type": "stream",
          "name": "stdout",
          "text": [
            "<class 'scipy.sparse.csr.csr_matrix'> (2, 51)\n",
            "  (0, 0)\t1\n",
            "  (0, 2)\t1\n",
            "  (0, 6)\t1\n",
            "  (0, 7)\t1\n",
            "  (0, 10)\t1\n",
            "  (0, 11)\t1\n",
            "  (0, 12)\t1\n",
            "  (0, 13)\t2\n",
            "  (0, 15)\t1\n",
            "  (0, 18)\t1\n",
            "  (0, 19)\t1\n",
            "  (0, 20)\t2\n",
            "  (0, 21)\t1\n",
            "  (0, 22)\t1\n",
            "  (0, 23)\t1\n",
            "  (0, 24)\t3\n",
            "  (0, 25)\t1\n",
            "  (0, 26)\t1\n",
            "  (0, 30)\t1\n",
            "  (0, 31)\t1\n",
            "  (0, 36)\t1\n",
            "  (0, 37)\t1\n",
            "  (0, 38)\t1\n",
            "  (0, 39)\t1\n",
            "  (0, 40)\t2\n",
            "  :\t:\n",
            "  (1, 1)\t4\n",
            "  (1, 3)\t1\n",
            "  (1, 4)\t2\n",
            "  (1, 5)\t1\n",
            "  (1, 8)\t1\n",
            "  (1, 9)\t1\n",
            "  (1, 14)\t1\n",
            "  (1, 16)\t1\n",
            "  (1, 17)\t1\n",
            "  (1, 18)\t2\n",
            "  (1, 27)\t2\n",
            "  (1, 28)\t1\n",
            "  (1, 29)\t1\n",
            "  (1, 32)\t1\n",
            "  (1, 33)\t1\n",
            "  (1, 34)\t1\n",
            "  (1, 35)\t2\n",
            "  (1, 38)\t4\n",
            "  (1, 40)\t1\n",
            "  (1, 42)\t1\n",
            "  (1, 43)\t1\n",
            "  (1, 44)\t1\n",
            "  (1, 47)\t1\n",
            "  (1, 49)\t7\n",
            "  (1, 50)\t1\n"
          ]
        }
      ]
    },
    {
      "cell_type": "code",
      "metadata": {
        "colab": {
          "base_uri": "https://localhost:8080/"
        },
        "id": "7G-sfe_X3bIT",
        "outputId": "6cf0a632-12d8-4103-cf07-60ff716ffa9d"
      },
      "source": [
        "print(cnt_vect.vocabulary_)"
      ],
      "execution_count": 9,
      "outputs": [
        {
          "output_type": "stream",
          "name": "stdout",
          "text": [
            "{'the': 38, 'matrix': 22, 'is': 19, 'everywhere': 11, 'its': 21, 'all': 0, 'around': 2, 'us': 41, 'here': 15, 'even': 10, 'in': 18, 'this': 39, 'room': 30, 'you': 49, 'can': 6, 'see': 31, 'it': 20, 'out': 25, 'your': 50, 'window': 46, 'or': 24, 'on': 23, 'television': 37, 'feel': 12, 'when': 45, 'go': 13, 'to': 40, 'work': 48, 'church': 7, 'pay': 26, 'taxes': 36, 'take': 35, 'blue': 5, 'pill': 27, 'and': 1, 'story': 34, 'ends': 9, 'wake': 42, 'bed': 3, 'believe': 4, 'whatever': 44, 'want': 43, 'red': 29, 'stay': 33, 'wonderland': 47, 'show': 32, 'how': 17, 'deep': 8, 'rabbit': 28, 'hole': 16, 'goes': 14}\n"
          ]
        }
      ]
    },
    {
      "cell_type": "code",
      "metadata": {
        "colab": {
          "base_uri": "https://localhost:8080/"
        },
        "id": "4MVc6Wa84reh",
        "outputId": "accdc34b-2be0-481a-fc13-f1238e60cebf"
      },
      "source": [
        "cnt_vect = CountVectorizer(max_features=5, stop_words='english')\n",
        "cnt_vect.fit(text)\n",
        "ftr_vect = cnt_vect.transform(text)\n",
        "print(type(ftr_vect), ftr_vect.shape)\n",
        "print(cnt_vect.vocabulary_)"
      ],
      "execution_count": 12,
      "outputs": [
        {
          "output_type": "stream",
          "name": "stdout",
          "text": [
            "<class 'scipy.sparse.csr.csr_matrix'> (2, 5)\n",
            "{'window': 4, 'pill': 1, 'wake': 2, 'believe': 0, 'want': 3}\n"
          ]
        }
      ]
    },
    {
      "cell_type": "markdown",
      "metadata": {
        "id": "b-Q12t9c5YZg"
      },
      "source": [
        "### ngram_range 확인"
      ]
    },
    {
      "cell_type": "code",
      "metadata": {
        "colab": {
          "base_uri": "https://localhost:8080/"
        },
        "id": "9XBR9KrZ5B6A",
        "outputId": "2f6a34d0-58ca-4067-fd0f-b8413f3c7813"
      },
      "source": [
        "cnt_vect = CountVectorizer(ngram_range=(1,3))\n",
        "cnt_vect.fit(text)\n",
        "ftr_vect = cnt_vect.transform(text)\n",
        "print(type(ftr_vect), ftr_vect.shape)\n",
        "print(cnt_vect.vocabulary_)"
      ],
      "execution_count": 15,
      "outputs": [
        {
          "output_type": "stream",
          "name": "stdout",
          "text": [
            "<class 'scipy.sparse.csr.csr_matrix'> (2, 201)\n",
            "{'the': 129, 'matrix': 77, 'is': 66, 'everywhere': 40, 'its': 74, 'all': 0, 'around': 11, 'us': 150, 'here': 51, 'even': 37, 'in': 59, 'this': 140, 'room': 106, 'you': 174, 'can': 25, 'see': 109, 'it': 69, 'out': 90, 'your': 191, 'window': 165, 'or': 83, 'on': 80, 'television': 126, 'feel': 43, 'when': 162, 'go': 46, 'to': 143, 'work': 171, 'church': 28, 'pay': 93, 'taxes': 125, 'the matrix': 132, 'matrix is': 78, 'is everywhere': 67, 'everywhere its': 41, 'its all': 75, 'all around': 1, 'around us': 12, 'us here': 151, 'here even': 52, 'even in': 38, 'in this': 60, 'this room': 141, 'room you': 107, 'you can': 177, 'can see': 26, 'see it': 110, 'it out': 70, 'out your': 91, 'your window': 199, 'window or': 166, 'or on': 86, 'on your': 81, 'your television': 197, 'television your': 127, 'your feel': 194, 'feel it': 44, 'it when': 72, 'when you': 163, 'you go': 179, 'go to': 47, 'to work': 148, 'work or': 172, 'or go': 84, 'to church': 146, 'church or': 29, 'or pay': 88, 'pay your': 94, 'your taxes': 196, 'the matrix is': 133, 'matrix is everywhere': 79, 'is everywhere its': 68, 'everywhere its all': 42, 'its all around': 76, 'all around us': 2, 'around us here': 13, 'us here even': 152, 'here even in': 53, 'even in this': 39, 'in this room': 61, 'this room you': 142, 'room you can': 108, 'you can see': 178, 'can see it': 27, 'see it out': 111, 'it out your': 71, 'out your window': 92, 'your window or': 200, 'window or on': 167, 'or on your': 87, 'on your television': 82, 'your television your': 198, 'television your feel': 128, 'your feel it': 195, 'feel it when': 45, 'it when you': 73, 'when you go': 164, 'you go to': 180, 'go to work': 49, 'to work or': 149, 'work or go': 173, 'or go to': 85, 'go to church': 48, 'to church or': 147, 'church or pay': 30, 'or pay your': 89, 'pay your taxes': 95, 'take': 121, 'blue': 22, 'pill': 96, 'and': 3, 'story': 118, 'ends': 34, 'wake': 153, 'bed': 14, 'believe': 17, 'whatever': 159, 'want': 156, 'red': 103, 'stay': 115, 'wonderland': 168, 'show': 112, 'how': 56, 'deep': 31, 'rabbit': 100, 'hole': 54, 'goes': 50, 'you take': 185, 'take the': 122, 'the blue': 130, 'blue pill': 23, 'pill and': 97, 'and the': 6, 'the story': 138, 'story ends': 119, 'ends you': 35, 'you wake': 187, 'wake in': 154, 'in your': 64, 'your bed': 192, 'bed and': 15, 'and you': 8, 'you believe': 175, 'believe whatever': 18, 'whatever you': 160, 'you want': 189, 'want to': 157, 'to believe': 144, 'believe you': 20, 'the red': 136, 'red pill': 104, 'you stay': 183, 'stay in': 116, 'in wonderland': 62, 'wonderland and': 169, 'and show': 4, 'show you': 113, 'you how': 181, 'how deep': 57, 'deep the': 32, 'the rabbit': 134, 'rabbit hole': 101, 'hole goes': 55, 'you take the': 186, 'take the blue': 123, 'the blue pill': 131, 'blue pill and': 24, 'pill and the': 98, 'and the story': 7, 'the story ends': 139, 'story ends you': 120, 'ends you wake': 36, 'you wake in': 188, 'wake in your': 155, 'in your bed': 65, 'your bed and': 193, 'bed and you': 16, 'and you believe': 9, 'you believe whatever': 176, 'believe whatever you': 19, 'whatever you want': 161, 'you want to': 190, 'want to believe': 158, 'to believe you': 145, 'believe you take': 21, 'take the red': 124, 'the red pill': 137, 'red pill and': 105, 'pill and you': 99, 'and you stay': 10, 'you stay in': 184, 'stay in wonderland': 117, 'in wonderland and': 63, 'wonderland and show': 170, 'and show you': 5, 'show you how': 114, 'you how deep': 182, 'how deep the': 58, 'deep the rabbit': 33, 'the rabbit hole': 135, 'rabbit hole goes': 102}\n"
          ]
        }
      ]
    }
  ]
}