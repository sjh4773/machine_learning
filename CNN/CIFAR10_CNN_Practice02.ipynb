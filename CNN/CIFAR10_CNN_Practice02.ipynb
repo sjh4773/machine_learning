{
  "nbformat": 4,
  "nbformat_minor": 0,
  "metadata": {
    "colab": {
      "name": "CIFAR10_CNN_Practice02.ipynb",
      "provenance": [],
      "collapsed_sections": []
    },
    "kernelspec": {
      "name": "python3",
      "display_name": "Python 3"
    },
    "language_info": {
      "name": "python"
    },
    "accelerator": "GPU"
  },
  "cells": [
    {
      "cell_type": "markdown",
      "metadata": {
        "id": "hplJq0J8087A"
      },
      "source": [
        "### weight 초기화를 He Normal로 변경 후 성능 검증"
      ]
    },
    {
      "cell_type": "code",
      "metadata": {
        "id": "cU015_Gd3SQ0"
      },
      "source": [
        "import numpy as np\n",
        "import pandas as pd\n",
        "\n",
        "import os"
      ],
      "execution_count": 1,
      "outputs": []
    },
    {
      "cell_type": "code",
      "metadata": {
        "colab": {
          "base_uri": "https://localhost:8080/"
        },
        "id": "URYyArhZ3YJ6",
        "outputId": "70c4af6d-183b-402c-cfeb-20275f33b80b"
      },
      "source": [
        "from tensorflow.keras.datasets import cifar10\n",
        "from tensorflow.keras.utils import to_categorical\n",
        "\n",
        "(train_images, train_labels), (test_images, test_labels) = cifar10.load_data()\n",
        "print(\"train dataset shape:\", train_images.shape, train_labels.shape)\n",
        "print(\"test dataset shape:\", test_images.shape, train_labels.shape)"
      ],
      "execution_count": 2,
      "outputs": [
        {
          "output_type": "stream",
          "name": "stdout",
          "text": [
            "Downloading data from https://www.cs.toronto.edu/~kriz/cifar-10-python.tar.gz\n",
            "170500096/170498071 [==============================] - 3s 0us/step\n",
            "170508288/170498071 [==============================] - 3s 0us/step\n",
            "train dataset shape: (50000, 32, 32, 3) (50000, 1)\n",
            "test dataset shape: (10000, 32, 32, 3) (50000, 1)\n"
          ]
        }
      ]
    },
    {
      "cell_type": "code",
      "metadata": {
        "colab": {
          "base_uri": "https://localhost:8080/"
        },
        "id": "JLhIDZhW3YIB",
        "outputId": "2a9e7e3f-170a-4ab9-da18-c4b15a129979"
      },
      "source": [
        "train_images[0, :, :, :], train_labels[0, :]"
      ],
      "execution_count": 3,
      "outputs": [
        {
          "output_type": "execute_result",
          "data": {
            "text/plain": [
              "(array([[[ 59,  62,  63],\n",
              "         [ 43,  46,  45],\n",
              "         [ 50,  48,  43],\n",
              "         ...,\n",
              "         [158, 132, 108],\n",
              "         [152, 125, 102],\n",
              "         [148, 124, 103]],\n",
              " \n",
              "        [[ 16,  20,  20],\n",
              "         [  0,   0,   0],\n",
              "         [ 18,   8,   0],\n",
              "         ...,\n",
              "         [123,  88,  55],\n",
              "         [119,  83,  50],\n",
              "         [122,  87,  57]],\n",
              " \n",
              "        [[ 25,  24,  21],\n",
              "         [ 16,   7,   0],\n",
              "         [ 49,  27,   8],\n",
              "         ...,\n",
              "         [118,  84,  50],\n",
              "         [120,  84,  50],\n",
              "         [109,  73,  42]],\n",
              " \n",
              "        ...,\n",
              " \n",
              "        [[208, 170,  96],\n",
              "         [201, 153,  34],\n",
              "         [198, 161,  26],\n",
              "         ...,\n",
              "         [160, 133,  70],\n",
              "         [ 56,  31,   7],\n",
              "         [ 53,  34,  20]],\n",
              " \n",
              "        [[180, 139,  96],\n",
              "         [173, 123,  42],\n",
              "         [186, 144,  30],\n",
              "         ...,\n",
              "         [184, 148,  94],\n",
              "         [ 97,  62,  34],\n",
              "         [ 83,  53,  34]],\n",
              " \n",
              "        [[177, 144, 116],\n",
              "         [168, 129,  94],\n",
              "         [179, 142,  87],\n",
              "         ...,\n",
              "         [216, 184, 140],\n",
              "         [151, 118,  84],\n",
              "         [123,  92,  72]]], dtype=uint8), array([6], dtype=uint8))"
            ]
          },
          "metadata": {},
          "execution_count": 3
        }
      ]
    },
    {
      "cell_type": "code",
      "metadata": {
        "colab": {
          "base_uri": "https://localhost:8080/"
        },
        "id": "2y5YeokM3YF8",
        "outputId": "e0a1b6ca-740a-4961-948c-0ece73c21c75"
      },
      "source": [
        "NAMES = np.array(['airplane', 'automobile', 'bird', 'cat', 'deer', 'dog', 'frog', 'horse', 'ship', 'truck'])\n",
        "print(train_labels[:10])"
      ],
      "execution_count": 4,
      "outputs": [
        {
          "output_type": "stream",
          "name": "stdout",
          "text": [
            "[[6]\n",
            " [9]\n",
            " [9]\n",
            " [4]\n",
            " [1]\n",
            " [1]\n",
            " [2]\n",
            " [7]\n",
            " [8]\n",
            " [3]]\n"
          ]
        }
      ]
    },
    {
      "cell_type": "code",
      "metadata": {
        "colab": {
          "base_uri": "https://localhost:8080/",
          "height": 270
        },
        "id": "nUuOpqDE3YD7",
        "outputId": "88804e6b-0653-45cd-f68f-4e1842ce3c86"
      },
      "source": [
        "import matplotlib.pyplot as plt\n",
        "import cv2\n",
        "%matplotlib inline\n",
        "\n",
        "def show_images(images, labels, ncols=8):\n",
        "    figure, axs = plt.subplots(figsize=(22, 6), nrows=1, ncols=ncols)\n",
        "    for i in range(ncols):\n",
        "        axs[i].imshow(images[i])\n",
        "        label = labels[i].squeeze()\n",
        "        axs[i].set_title(NAMES[int(label)])\n",
        "        \n",
        "show_images(train_images[:8], train_labels[:8], ncols=8)\n",
        "show_images(train_images[8:16], train_labels[8:16], ncols=8)"
      ],
      "execution_count": 5,
      "outputs": [
        {
          "output_type": "display_data",
          "data": {
            "image/png": "[encoded data removed]",
            "text/plain": [
              "<Figure size 1584x432 with 8 Axes>"
            ]
          },
          "metadata": {
            "needs_background": "light"
          }
        },
        {
          "output_type": "display_data",
          "data": {
            "image/png": "[encoded data removed]",
            "text/plain": [
              "<Figure size 1584x432 with 8 Axes>"
            ]
          },
          "metadata": {
            "needs_background": "light"
          }
        }
      ]
    },
    {
      "cell_type": "code",
      "metadata": {
        "id": "GUA9Ftdh3YBr"
      },
      "source": [
        "def get_preprocessed_data(images, labels):\n",
        "    \n",
        "    # 학습과 테스트 이미지 array를 0~1 사이값으로 scale 및 float32 형 변환\n",
        "    images = np.array(images/255.0, dtype=np.float32)\n",
        "    labels = np.array(labels, dtype=np.float32)\n",
        "    labels = labels.squeeze()\n",
        "    \n",
        "    return images, labels"
      ],
      "execution_count": 6,
      "outputs": []
    },
    {
      "cell_type": "code",
      "metadata": {
        "id": "jm_WvK2oj-Lz"
      },
      "source": [
        "# 0~1사이값 float32로 변경하는 함수 호출 한 뒤 OHE 적용\n",
        "def get_preprocessed_ohe(images, labels):\n",
        "    images, labels = get_preprocessed_data(images, labels)\n",
        "    # OHE 적용\n",
        "    oh_labels = to_categorical(labels)\n",
        "    return images, oh_labels\n",
        "\n",
        "train_images, train_oh_labels = get_preprocessed_ohe(train_images, train_labels)\n",
        "test_images, test_oh_labels = get_preprocessed_ohe(test_images, test_labels)"
      ],
      "execution_count": 7,
      "outputs": []
    },
    {
      "cell_type": "code",
      "metadata": {
        "id": "DnQ5SEh13Xx6"
      },
      "source": [
        "IMAGE_SIZE=32"
      ],
      "execution_count": 8,
      "outputs": []
    },
    {
      "cell_type": "code",
      "metadata": {
        "colab": {
          "base_uri": "https://localhost:8080/"
        },
        "id": "XyRm5AmQ3Xqk",
        "outputId": "bb7c2cc1-8d62-4294-f33d-8706056b9ea6"
      },
      "source": [
        "from tensorflow.keras.models import Sequential, Model\n",
        "from tensorflow.keras.layers import Input, Dense, Conv2D, Dropout, Flatten, Activation, MaxPooling2D, GlobalAveragePooling2D\n",
        "from tensorflow.keras.optimizers import Adam, RMSprop\n",
        "from tensorflow.keras.layers import BatchNormalization\n",
        "from tensorflow.keras.callbacks import ReduceLROnPlateau, EarlyStopping, ModelCheckpoint, LearningRateScheduler\n",
        "\n",
        "input_tensor = Input(shape=(IMAGE_SIZE, IMAGE_SIZE, 3))\n",
        "\n",
        "x = Conv2D(filters=32, kernel_size=(3,3), padding='same', activation='relu', kernel_initializer='he_normal')(input_tensor)\n",
        "x = Conv2D(filters=32, kernel_size=(3,3), padding='same', activation='relu', kernel_initializer='he_normal')(x)\n",
        "x = MaxPooling2D(pool_size=(2, 2))(x)\n",
        "\n",
        "x = Conv2D(filters=64, kernel_size=3, padding='same', activation='relu', kernel_initializer='he_normal')(x)\n",
        "x = Conv2D(filters=64, kernel_size=3, padding='same', kernel_initializer='he_normal')(x)\n",
        "x = Activation('relu')(x)\n",
        "x = MaxPooling2D(pool_size=2)(x)\n",
        "\n",
        "x = Conv2D(filters=128, kernel_size=(3,3), padding='same', activation='relu', kernel_initializer='he_normal')(x)\n",
        "x = Conv2D(filters=128, kernel_size=(3,3), padding='same', activation='relu', kernel_initializer='he_normal')(x)\n",
        "x = MaxPooling2D(pool_size=2)(x)\n",
        "\n",
        "# cifar10의 클래스가 10개이므로 마지막 classification의 Dense layer units 갯수는 10\n",
        "x = Flatten(name='flatten')(x)\n",
        "x = Dropout(rate=0.5)(x)\n",
        "x = Dense(300, activation='relu', name='fc1')(x)\n",
        "x = Dropout(rate=0.3)(x)\n",
        "output = Dense(10, activation='softmax', name='output')(x)\n",
        "\n",
        "model = Model(inputs=input_tensor, outputs=output)\n",
        "\n",
        "model.summary()\n",
        "                  "
      ],
      "execution_count": 9,
      "outputs": [
        {
          "output_type": "stream",
          "name": "stdout",
          "text": [
            "Model: \"model\"\n",
            "_________________________________________________________________\n",
            "Layer (type)                 Output Shape              Param #   \n",
            "=================================================================\n",
            "input_1 (InputLayer)         [(None, 32, 32, 3)]       0         \n",
            "_________________________________________________________________\n",
            "conv2d (Conv2D)              (None, 32, 32, 32)        896       \n",
            "_________________________________________________________________\n",
            "conv2d_1 (Conv2D)            (None, 32, 32, 32)        9248      \n",
            "_________________________________________________________________\n",
            "max_pooling2d (MaxPooling2D) (None, 16, 16, 32)        0         \n",
            "_________________________________________________________________\n",
            "conv2d_2 (Conv2D)            (None, 16, 16, 64)        18496     \n",
            "_________________________________________________________________\n",
            "conv2d_3 (Conv2D)            (None, 16, 16, 64)        36928     \n",
            "_________________________________________________________________\n",
            "activation (Activation)      (None, 16, 16, 64)        0         \n",
            "_________________________________________________________________\n",
            "max_pooling2d_1 (MaxPooling2 (None, 8, 8, 64)          0         \n",
            "_________________________________________________________________\n",
            "conv2d_4 (Conv2D)            (None, 8, 8, 128)         73856     \n",
            "_________________________________________________________________\n",
            "conv2d_5 (Conv2D)            (None, 8, 8, 128)         147584    \n",
            "_________________________________________________________________\n",
            "max_pooling2d_2 (MaxPooling2 (None, 4, 4, 128)         0         \n",
            "_________________________________________________________________\n",
            "flatten (Flatten)            (None, 2048)              0         \n",
            "_________________________________________________________________\n",
            "dropout (Dropout)            (None, 2048)              0         \n",
            "_________________________________________________________________\n",
            "fc1 (Dense)                  (None, 300)               614700    \n",
            "_________________________________________________________________\n",
            "dropout_1 (Dropout)          (None, 300)               0         \n",
            "_________________________________________________________________\n",
            "output (Dense)               (None, 10)                3010      \n",
            "=================================================================\n",
            "Total params: 904,718\n",
            "Trainable params: 904,718\n",
            "Non-trainable params: 0\n",
            "_________________________________________________________________\n"
          ]
        }
      ]
    },
    {
      "cell_type": "code",
      "metadata": {
        "id": "TmLd42Ud3mIV"
      },
      "source": [
        "model.compile(optimizer=Adam(), loss='categorical_crossentropy', metrics=['accuracy'])"
      ],
      "execution_count": 10,
      "outputs": []
    },
    {
      "cell_type": "code",
      "metadata": {
        "colab": {
          "base_uri": "https://localhost:8080/"
        },
        "id": "VS-1KIt53mGI",
        "outputId": "c25573c1-6f6e-44ec-b75b-5c0af49cf71e"
      },
      "source": [
        "history = model.fit(x=train_images, y=train_oh_labels, batch_size=64, epochs=30, validation_split=0.15)"
      ],
      "execution_count": 11,
      "outputs": [
        {
          "output_type": "stream",
          "name": "stdout",
          "text": [
            "Epoch 1/30\n",
            "665/665 [==============================] - 47s 22ms/step - loss: 1.5581 - accuracy: 0.4256 - val_loss: 1.2070 - val_accuracy: 0.5736\n",
            "Epoch 2/30\n",
            "665/665 [==============================] - 14s 21ms/step - loss: 1.0965 - accuracy: 0.6091 - val_loss: 0.9264 - val_accuracy: 0.6740\n",
            "Epoch 3/30\n",
            "665/665 [==============================] - 14s 20ms/step - loss: 0.9113 - accuracy: 0.6805 - val_loss: 0.8193 - val_accuracy: 0.7123\n",
            "Epoch 4/30\n",
            "665/665 [==============================] - 14s 21ms/step - loss: 0.7913 - accuracy: 0.7227 - val_loss: 0.7796 - val_accuracy: 0.7317\n",
            "Epoch 5/30\n",
            "665/665 [==============================] - 14s 21ms/step - loss: 0.7184 - accuracy: 0.7480 - val_loss: 0.7550 - val_accuracy: 0.7423\n",
            "Epoch 6/30\n",
            "665/665 [==============================] - 14s 21ms/step - loss: 0.6385 - accuracy: 0.7750 - val_loss: 0.7149 - val_accuracy: 0.7571\n",
            "Epoch 7/30\n",
            "665/665 [==============================] - 14s 21ms/step - loss: 0.5849 - accuracy: 0.7959 - val_loss: 0.6791 - val_accuracy: 0.7629\n",
            "Epoch 8/30\n",
            "665/665 [==============================] - 14s 21ms/step - loss: 0.5436 - accuracy: 0.8108 - val_loss: 0.6408 - val_accuracy: 0.7777\n",
            "Epoch 9/30\n",
            "665/665 [==============================] - 14s 20ms/step - loss: 0.5074 - accuracy: 0.8212 - val_loss: 0.6336 - val_accuracy: 0.7825\n",
            "Epoch 10/30\n",
            "665/665 [==============================] - 14s 21ms/step - loss: 0.4668 - accuracy: 0.8355 - val_loss: 0.6452 - val_accuracy: 0.7849\n",
            "Epoch 11/30\n",
            "665/665 [==============================] - 14s 21ms/step - loss: 0.4357 - accuracy: 0.8466 - val_loss: 0.7793 - val_accuracy: 0.7536\n",
            "Epoch 12/30\n",
            "665/665 [==============================] - 14s 21ms/step - loss: 0.4154 - accuracy: 0.8517 - val_loss: 0.6440 - val_accuracy: 0.7869\n",
            "Epoch 13/30\n",
            "665/665 [==============================] - 13s 20ms/step - loss: 0.3927 - accuracy: 0.8608 - val_loss: 0.6186 - val_accuracy: 0.7991\n",
            "Epoch 14/30\n",
            "665/665 [==============================] - 13s 20ms/step - loss: 0.3799 - accuracy: 0.8645 - val_loss: 0.6305 - val_accuracy: 0.7987\n",
            "Epoch 15/30\n",
            "665/665 [==============================] - 13s 20ms/step - loss: 0.3622 - accuracy: 0.8706 - val_loss: 0.6556 - val_accuracy: 0.7881\n",
            "Epoch 16/30\n",
            "665/665 [==============================] - 14s 21ms/step - loss: 0.3411 - accuracy: 0.8799 - val_loss: 0.6197 - val_accuracy: 0.8023\n",
            "Epoch 17/30\n",
            "665/665 [==============================] - 14s 21ms/step - loss: 0.3273 - accuracy: 0.8848 - val_loss: 0.7107 - val_accuracy: 0.7901\n",
            "Epoch 18/30\n",
            "665/665 [==============================] - 14s 21ms/step - loss: 0.3476 - accuracy: 0.8782 - val_loss: 0.6564 - val_accuracy: 0.7988\n",
            "Epoch 19/30\n",
            "665/665 [==============================] - 14s 20ms/step - loss: 0.3070 - accuracy: 0.8916 - val_loss: 0.6626 - val_accuracy: 0.7987\n",
            "Epoch 20/30\n",
            "665/665 [==============================] - 14s 20ms/step - loss: 0.3018 - accuracy: 0.8933 - val_loss: 0.6914 - val_accuracy: 0.7932\n",
            "Epoch 21/30\n",
            "665/665 [==============================] - 14s 21ms/step - loss: 0.2944 - accuracy: 0.8950 - val_loss: 0.6641 - val_accuracy: 0.7961\n",
            "Epoch 22/30\n",
            "665/665 [==============================] - 14s 21ms/step - loss: 0.2971 - accuracy: 0.8964 - val_loss: 0.6471 - val_accuracy: 0.8037\n",
            "Epoch 23/30\n",
            "665/665 [==============================] - 14s 21ms/step - loss: 0.2756 - accuracy: 0.9033 - val_loss: 0.6702 - val_accuracy: 0.8025\n",
            "Epoch 24/30\n",
            "665/665 [==============================] - 14s 21ms/step - loss: 0.2706 - accuracy: 0.9053 - val_loss: 0.6946 - val_accuracy: 0.7979\n",
            "Epoch 25/30\n",
            "665/665 [==============================] - 14s 20ms/step - loss: 0.2691 - accuracy: 0.9058 - val_loss: 0.6875 - val_accuracy: 0.7989\n",
            "Epoch 26/30\n",
            "665/665 [==============================] - 14s 21ms/step - loss: 0.2694 - accuracy: 0.9060 - val_loss: 0.6863 - val_accuracy: 0.8017\n",
            "Epoch 27/30\n",
            "665/665 [==============================] - 13s 20ms/step - loss: 0.2552 - accuracy: 0.9112 - val_loss: 0.6843 - val_accuracy: 0.8015\n",
            "Epoch 28/30\n",
            "665/665 [==============================] - 14s 21ms/step - loss: 0.2542 - accuracy: 0.9115 - val_loss: 0.7013 - val_accuracy: 0.7983\n",
            "Epoch 29/30\n",
            "665/665 [==============================] - 14s 21ms/step - loss: 0.2542 - accuracy: 0.9130 - val_loss: 0.7267 - val_accuracy: 0.7945\n",
            "Epoch 30/30\n",
            "665/665 [==============================] - 14s 21ms/step - loss: 0.2452 - accuracy: 0.9155 - val_loss: 0.6953 - val_accuracy: 0.8019\n"
          ]
        }
      ]
    },
    {
      "cell_type": "code",
      "metadata": {
        "colab": {
          "base_uri": "https://localhost:8080/",
          "height": 410
        },
        "id": "yfKyYWl43mER",
        "outputId": "412665eb-c461-4b45-a936-d3fdefb822e0"
      },
      "source": [
        "import matplotlib.pyplot as plt\n",
        "%matplotlib inline\n",
        "\n",
        "def show_history(history):\n",
        "    plt.figure(figsize=(6,6))\n",
        "    plt.yticks(np.arange(0,1,0.05))\n",
        "    plt.plot(history.history['accuracy'], label='train')\n",
        "    plt.plot(history.history['val_accuracy'], label='valid')\n",
        "    plt.legend()\n",
        "    \n",
        "show_history(history)\n",
        "\n",
        "# 테스트 데이터로 성능 평가\n",
        "model.evaluate(test_images, test_oh_labels)"
      ],
      "execution_count": 12,
      "outputs": [
        {
          "output_type": "stream",
          "name": "stdout",
          "text": [
            "313/313 [==============================] - 3s 8ms/step - loss: 0.6928 - accuracy: 0.8099\n"
          ]
        },
        {
          "output_type": "execute_result",
          "data": {
            "text/plain": [
              "[0.6927993893623352, 0.8098999857902527]"
            ]
          },
          "metadata": {},
          "execution_count": 12
        },
        {
          "output_type": "display_data",
          "data": {
            "image/png": "[encoded data removed]",
            "text/plain": [
              "<Figure size 432x432 with 1 Axes>"
            ]
          },
          "metadata": {
            "needs_background": "light"
          }
        }
      ]
    },
    {
      "cell_type": "code",
      "metadata": {
        "colab": {
          "base_uri": "https://localhost:8080/"
        },
        "id": "pGivo-YP3mCW",
        "outputId": "6dc40a85-d929-4982-a63e-1c79ebd0a835"
      },
      "source": [
        "# 테스트용 4차원 이미지 배열을 입력해서 predict() 수행\n",
        "# predict()의 결과는 softmax 적용 결과. 학습 데이터의 원-핫 인코딩 적용 여부와 관계 없이 softmax 적용 결과는 무조건 2차원\n",
        "preds = model.predict(np.expand_dims(test_images[0], axis=0))\n",
        "print('예측 결과 shape:', preds.shape)\n",
        "print('에측 결과:', preds)"
      ],
      "execution_count": 13,
      "outputs": [
        {
          "output_type": "stream",
          "name": "stdout",
          "text": [
            "예측 결과 shape: (1, 10)\n",
            "에측 결과: [[5.7360314e-08 5.8046276e-13 4.6078178e-08 9.9928194e-01 2.9391254e-08\n",
            "  6.6255487e-04 5.5094504e-05 8.8518446e-09 2.9895060e-07 7.2345720e-11]]\n"
          ]
        }
      ]
    },
    {
      "cell_type": "code",
      "metadata": {
        "colab": {
          "base_uri": "https://localhost:8080/"
        },
        "id": "SP9F4Kq73mAw",
        "outputId": "3e1cd80e-74af-46b9-a3cd-89fbf60e8ce3"
      },
      "source": [
        "preds = model.predict(test_images[:32], batch_size=32)\n",
        "print('예측 결과 shape:', preds.shape)\n",
        "print('예측 결과:', preds)"
      ],
      "execution_count": 14,
      "outputs": [
        {
          "output_type": "stream",
          "name": "stdout",
          "text": [
            "예측 결과 shape: (32, 10)\n",
            "예측 결과: [[5.73591095e-08 5.80456148e-13 4.60772078e-08 9.99281943e-01\n",
            "  2.93904154e-08 6.62545965e-04 5.50940349e-05 8.85170959e-09\n",
            "  2.98948891e-07 7.23437907e-11]\n",
            " [1.61255389e-06 2.62063782e-04 8.60038191e-19 1.98310759e-14\n",
            "  3.01451019e-17 7.10652965e-20 2.34663894e-12 9.38825358e-22\n",
            "  9.99735773e-01 5.75811157e-07]\n",
            " [1.79760915e-03 8.52356702e-02 5.47367836e-06 3.76687967e-04\n",
            "  3.54059353e-06 4.59304829e-07 1.62659679e-04 4.47731509e-07\n",
            "  8.31077695e-01 8.13397691e-02]\n",
            " [9.65675414e-01 1.02496066e-03 1.96240493e-03 3.03437537e-05\n",
            "  4.33369307e-03 1.29128739e-06 3.34759330e-04 1.11946918e-06\n",
            "  2.53848750e-02 1.25095074e-03]\n",
            " [8.16210638e-14 6.06939013e-11 1.20606055e-05 1.49140078e-05\n",
            "  5.38245672e-07 3.85187549e-10 9.99972463e-01 2.87263296e-14\n",
            "  7.72072961e-10 2.06652599e-12]\n",
            " [2.75609023e-06 1.80217990e-06 3.24631180e-03 4.19310853e-02\n",
            "  2.90512592e-02 1.10195540e-01 8.14741611e-01 7.44638208e-04\n",
            "  4.83730128e-06 8.01282804e-05]\n",
            " [8.79649292e-07 9.98564065e-01 3.91382704e-09 2.02725214e-08\n",
            "  3.75881444e-11 5.99687633e-10 3.59975616e-07 1.29840432e-08\n",
            "  8.93932484e-10 1.43475062e-03]\n",
            " [1.01876464e-02 4.77250906e-05 2.57605702e-01 1.21073723e-02\n",
            "  2.00544417e-01 5.29825129e-03 5.08477926e-01 3.54203070e-03\n",
            "  1.98358670e-03 2.05377015e-04]\n",
            " [1.07221943e-07 1.88753879e-09 2.24618692e-04 9.88728285e-01\n",
            "  4.73198667e-03 1.05612946e-03 5.19425655e-03 6.03006411e-05\n",
            "  1.75626099e-06 2.52650852e-06]\n",
            " [2.58431646e-05 9.82731760e-01 4.42247516e-10 1.37013586e-07\n",
            "  2.09153708e-10 9.44034156e-11 3.44482373e-07 1.55795724e-11\n",
            "  7.92675637e-05 1.71626322e-02]\n",
            " [9.72964704e-01 1.59869905e-05 9.60783660e-03 1.48740201e-03\n",
            "  7.98088592e-03 7.55120825e-04 2.25646188e-04 1.66679558e-03\n",
            "  4.71971044e-03 5.75850310e-04]\n",
            " [5.71631584e-22 2.87214028e-15 9.71075222e-33 1.50279853e-31\n",
            "  6.51569841e-37 2.74509589e-36 7.34061369e-32 7.50545107e-36\n",
            "  9.63477609e-26 1.00000000e+00]\n",
            " [1.24686873e-02 1.23402448e-02 1.53919617e-02 3.03273559e-01\n",
            "  9.46775153e-02 4.90483463e-01 3.75215150e-03 5.09543084e-02\n",
            "  1.43577624e-03 1.52224088e-02]\n",
            " [7.92912394e-13 7.21217807e-15 1.33945954e-09 3.23035354e-09\n",
            "  1.40441311e-10 2.08574693e-05 1.13644015e-16 9.99979138e-01\n",
            "  5.72927199e-15 1.38602990e-10]\n",
            " [4.04490441e-09 2.14782631e-06 5.27941660e-16 4.42742360e-14\n",
            "  4.96792752e-14 9.83878002e-17 2.53239584e-16 8.78555363e-15\n",
            "  1.05079913e-07 9.99997735e-01]\n",
            " [3.19959712e-04 3.29069771e-05 3.44907530e-05 9.27482673e-04\n",
            "  8.36650317e-04 2.25344102e-05 6.60491526e-01 3.82409091e-08\n",
            "  3.37183177e-01 1.51354761e-04]\n",
            " [2.63406633e-07 2.38684211e-11 2.68632750e-04 2.99009793e-02\n",
            "  4.82155826e-09 9.67569709e-01 7.37113659e-09 2.25996599e-03\n",
            "  5.18927550e-07 5.51621561e-11]\n",
            " [6.45735099e-07 6.70959233e-10 1.14075090e-04 9.61334109e-02\n",
            "  1.48005881e-06 8.42413865e-03 7.35358014e-08 8.95322621e-01\n",
            "  5.14109047e-07 2.97505608e-06]\n",
            " [2.25949606e-11 1.09244319e-12 2.80076530e-21 2.55319719e-17\n",
            "  2.87339461e-19 1.95054972e-20 7.36374793e-18 4.04144726e-22\n",
            "  1.00000000e+00 3.79646181e-09]\n",
            " [1.53795518e-14 2.02417456e-13 8.70695658e-06 1.95387218e-09\n",
            "  2.01736050e-09 4.14561235e-13 9.99991298e-01 2.90805181e-14\n",
            "  1.82778285e-13 8.01134858e-15]\n",
            " [1.51503086e-01 2.55427510e-02 2.60986928e-02 9.57042165e-03\n",
            "  8.71234224e-05 8.05994645e-02 1.26529221e-05 6.79627359e-01\n",
            "  1.03618040e-04 2.68547684e-02]\n",
            " [9.93882537e-01 3.61234892e-12 6.11745287e-03 2.25385044e-09\n",
            "  2.34732456e-09 4.97743825e-11 1.10467546e-08 1.79322824e-13\n",
            "  9.68941927e-10 5.54916085e-13]\n",
            " [7.81485811e-03 1.32085525e-08 7.88247678e-04 9.79168362e-06\n",
            "  9.90589261e-01 7.56718066e-07 3.91732146e-06 1.23823156e-06\n",
            "  7.91898288e-04 5.25841308e-08]\n",
            " [4.27126051e-20 4.12140793e-07 1.96250480e-28 1.40861397e-28\n",
            "  5.47883529e-31 3.96838334e-33 9.53641068e-26 1.15543936e-31\n",
            "  6.10900354e-24 9.99999642e-01]\n",
            " [5.94450044e-04 1.74026255e-07 1.27453998e-01 1.67738080e-01\n",
            "  6.57613873e-01 4.09606434e-02 5.20498725e-03 4.16533760e-04\n",
            "  8.41047040e-07 1.63899986e-05]\n",
            " [4.54772916e-03 2.36934738e-05 4.06172812e-01 2.69260108e-01\n",
            "  2.24506855e-02 9.25098266e-03 2.86161572e-01 3.28823982e-04\n",
            "  8.00794631e-04 1.00284349e-03]\n",
            " [1.62556171e-05 2.20965362e-08 1.58225968e-01 9.57802534e-02\n",
            "  5.16774617e-02 3.16242546e-01 2.72423549e-05 3.77947927e-01\n",
            "  1.31048755e-05 6.91529785e-05]\n",
            " [9.87806141e-01 7.86250709e-09 7.33334478e-03 7.72161933e-04\n",
            "  3.73709295e-03 1.31439319e-05 7.91452330e-05 7.50471154e-05\n",
            "  1.82607022e-04 1.34112975e-06]\n",
            " [3.16670459e-08 1.27953660e-06 8.06037463e-07 3.76512344e-06\n",
            "  9.50432888e-09 4.73074913e-08 7.24649160e-11 4.59051080e-06\n",
            "  4.41995729e-09 9.99989510e-01]\n",
            " [1.44591228e-08 5.51343082e-10 1.90944018e-04 7.14492717e-06\n",
            "  5.10097574e-03 2.27825652e-08 9.94700909e-01 1.19744992e-10\n",
            "  6.05409500e-10 2.09810658e-09]\n",
            " [9.35598057e-11 3.17392397e-11 5.26166586e-05 3.88099124e-06\n",
            "  9.95987102e-06 2.08759658e-08 9.99933481e-01 5.54816366e-11\n",
            "  2.52969229e-10 2.15118895e-10]\n",
            " [2.44173574e-15 9.77755208e-20 1.17707964e-06 2.79631233e-04\n",
            "  1.26021025e-08 9.99719083e-01 1.85947773e-08 4.48024977e-08\n",
            "  6.86278601e-17 2.88167025e-15]]\n"
          ]
        }
      ]
    },
    {
      "cell_type": "code",
      "metadata": {
        "colab": {
          "base_uri": "https://localhost:8080/"
        },
        "id": "EESAZYva3l-A",
        "outputId": "df9cb844-3a6d-42f5-ccf9-92c0d4212757"
      },
      "source": [
        "predicted_class = np.argmax(preds, axis=1)\n",
        "print('예측 클래스 값:', predicted_class)"
      ],
      "execution_count": 15,
      "outputs": [
        {
          "output_type": "stream",
          "name": "stdout",
          "text": [
            "예측 클래스 값: [3 8 8 0 6 6 1 6 3 1 0 9 5 7 9 6 5 7 8 6 7 0 4 9 4 2 7 0 9 6 6 5]\n"
          ]
        }
      ]
    },
    {
      "cell_type": "code",
      "metadata": {
        "colab": {
          "base_uri": "https://localhost:8080/",
          "height": 270
        },
        "id": "A2-DXQj13wnh",
        "outputId": "acb4e2d4-1b2e-4afb-a980-b6413dda0d4c"
      },
      "source": [
        "show_images(test_images[:8], predicted_class[:8], ncols=8)\n",
        "show_images(test_images[:8], test_labels[:8], ncols=8)"
      ],
      "execution_count": 16,
      "outputs": [
        {
          "output_type": "display_data",
          "data": {
            "image/png": "[encoded data removed]",
            "text/plain": [
              "<Figure size 1584x432 with 8 Axes>"
            ]
          },
          "metadata": {
            "needs_background": "light"
          }
        },
        {
          "output_type": "display_data",
          "data": {
            "image/png": "[encoded data removed]",
            "text/plain": [
              "<Figure size 1584x432 with 8 Axes>"
            ]
          },
          "metadata": {
            "needs_background": "light"
          }
        }
      ]
    },
    {
      "cell_type": "markdown",
      "metadata": {
        "id": "pYAtFiRj1I57"
      },
      "source": [
        "### Batch Normalization을 모델에 적용 후 성능 검증\n",
        "\n",
        "- Batch Normalization 효과\n",
        "1. 뛰어난 성능 향상 효과\n",
        "2. Regularization 효과 -> 정규화 후에 스케일링, Shift로 일종의 Noise 추가 효과\n",
        "3. 가중치 초기화(Weight Initialization) 설정을 크게 신경 쓸 필요 없음"
      ]
    },
    {
      "cell_type": "code",
      "metadata": {
        "id": "sCn5apJs1MEv",
        "colab": {
          "base_uri": "https://localhost:8080/"
        },
        "outputId": "fe6457ae-8921-4b20-9ba4-e0c474193ff2"
      },
      "source": [
        "from tensorflow.keras.layers import BatchNormalization\n",
        "\n",
        "input_tensor = Input(shape=(IMAGE_SIZE, IMAGE_SIZE, 3))\n",
        "\n",
        "x = Conv2D(filters=32, kernel_size=(3,3), padding='same')(input_tensor)\n",
        "x = BatchNormalization()(x)\n",
        "x = Activation('relu')(x)\n",
        "\n",
        "x = Conv2D(filters=32, kernel_size=(3,3), padding='same')(x)\n",
        "x = BatchNormalization()(x)\n",
        "x = Activation('relu')(x)\n",
        "x = MaxPooling2D(pool_size=(2,2))(x)\n",
        "\n",
        "x = Conv2D(filters=64, kernel_size=3, padding='same')(x)\n",
        "x = Activation('relu')(x)\n",
        "x = Activation('relu')(x)\n",
        "x = MaxPooling2D(pool_size=2)(x)\n",
        "\n",
        "x = Conv2D(filters=128, kernel_size=3, padding='same')(x)\n",
        "x = BatchNormalization()(x)\n",
        "x = Activation('relu')(x)\n",
        "\n",
        "x = Conv2D(filters=128, kernel_size=3, padding='same')(x)\n",
        "x = BatchNormalization()(x)\n",
        "x = Activation('relu')(x)\n",
        "x = MaxPooling2D(pool_size=2)(x)\n",
        "\n",
        "# cifar10의 클래스가 10개 이므로 마지막 classification의 Dense layer units 갯수는 10\n",
        "x = Flatten(name='flatten')(x)\n",
        "x = Dropout(rate=0.5)(x)\n",
        "x = Dense(300, activation='relu', name='fc1')(x)\n",
        "x = Dropout(rate=0.3)(x)\n",
        "output = Dense(10, activation='softmax', name='output')(x)\n",
        "\n",
        "model = Model(inputs=input_tensor, outputs=output)\n",
        "\n",
        "model.summary()"
      ],
      "execution_count": 17,
      "outputs": [
        {
          "output_type": "stream",
          "name": "stdout",
          "text": [
            "Model: \"model_1\"\n",
            "_________________________________________________________________\n",
            "Layer (type)                 Output Shape              Param #   \n",
            "=================================================================\n",
            "input_2 (InputLayer)         [(None, 32, 32, 3)]       0         \n",
            "_________________________________________________________________\n",
            "conv2d_6 (Conv2D)            (None, 32, 32, 32)        896       \n",
            "_________________________________________________________________\n",
            "batch_normalization (BatchNo (None, 32, 32, 32)        128       \n",
            "_________________________________________________________________\n",
            "activation_1 (Activation)    (None, 32, 32, 32)        0         \n",
            "_________________________________________________________________\n",
            "conv2d_7 (Conv2D)            (None, 32, 32, 32)        9248      \n",
            "_________________________________________________________________\n",
            "batch_normalization_1 (Batch (None, 32, 32, 32)        128       \n",
            "_________________________________________________________________\n",
            "activation_2 (Activation)    (None, 32, 32, 32)        0         \n",
            "_________________________________________________________________\n",
            "max_pooling2d_3 (MaxPooling2 (None, 16, 16, 32)        0         \n",
            "_________________________________________________________________\n",
            "conv2d_8 (Conv2D)            (None, 16, 16, 64)        18496     \n",
            "_________________________________________________________________\n",
            "activation_3 (Activation)    (None, 16, 16, 64)        0         \n",
            "_________________________________________________________________\n",
            "activation_4 (Activation)    (None, 16, 16, 64)        0         \n",
            "_________________________________________________________________\n",
            "max_pooling2d_4 (MaxPooling2 (None, 8, 8, 64)          0         \n",
            "_________________________________________________________________\n",
            "conv2d_9 (Conv2D)            (None, 8, 8, 128)         73856     \n",
            "_________________________________________________________________\n",
            "batch_normalization_2 (Batch (None, 8, 8, 128)         512       \n",
            "_________________________________________________________________\n",
            "activation_5 (Activation)    (None, 8, 8, 128)         0         \n",
            "_________________________________________________________________\n",
            "conv2d_10 (Conv2D)           (None, 8, 8, 128)         147584    \n",
            "_________________________________________________________________\n",
            "batch_normalization_3 (Batch (None, 8, 8, 128)         512       \n",
            "_________________________________________________________________\n",
            "activation_6 (Activation)    (None, 8, 8, 128)         0         \n",
            "_________________________________________________________________\n",
            "max_pooling2d_5 (MaxPooling2 (None, 4, 4, 128)         0         \n",
            "_________________________________________________________________\n",
            "flatten (Flatten)            (None, 2048)              0         \n",
            "_________________________________________________________________\n",
            "dropout_2 (Dropout)          (None, 2048)              0         \n",
            "_________________________________________________________________\n",
            "fc1 (Dense)                  (None, 300)               614700    \n",
            "_________________________________________________________________\n",
            "dropout_3 (Dropout)          (None, 300)               0         \n",
            "_________________________________________________________________\n",
            "output (Dense)               (None, 10)                3010      \n",
            "=================================================================\n",
            "Total params: 869,070\n",
            "Trainable params: 868,430\n",
            "Non-trainable params: 640\n",
            "_________________________________________________________________\n"
          ]
        }
      ]
    },
    {
      "cell_type": "code",
      "metadata": {
        "id": "DVCyNlmO1M3P",
        "colab": {
          "base_uri": "https://localhost:8080/"
        },
        "outputId": "091cefee-e6a9-4736-9ce8-1fbed987610e"
      },
      "source": [
        "# label 값이 원-핫 인코딩이 아니므로 loss는 categorical_crossentropy임.\n",
        "model.compile(optimizer=Adam(), loss='categorical_crossentropy', metrics=['accuracy'])\n",
        "history = model.fit(x=train_images, y=train_oh_labels, batch_size=64, epochs=30, validation_split=0.15)"
      ],
      "execution_count": 18,
      "outputs": [
        {
          "output_type": "stream",
          "name": "stdout",
          "text": [
            "Epoch 1/30\n",
            "665/665 [==============================] - 16s 22ms/step - loss: 1.5579 - accuracy: 0.4379 - val_loss: 1.4588 - val_accuracy: 0.4793\n",
            "Epoch 2/30\n",
            "665/665 [==============================] - 14s 21ms/step - loss: 1.1181 - accuracy: 0.6040 - val_loss: 1.3813 - val_accuracy: 0.5697\n",
            "Epoch 3/30\n",
            "665/665 [==============================] - 14s 21ms/step - loss: 0.9470 - accuracy: 0.6687 - val_loss: 0.8839 - val_accuracy: 0.6836\n",
            "Epoch 4/30\n",
            "665/665 [==============================] - 14s 21ms/step - loss: 0.8335 - accuracy: 0.7072 - val_loss: 0.8132 - val_accuracy: 0.7152\n",
            "Epoch 5/30\n",
            "665/665 [==============================] - 14s 21ms/step - loss: 0.7650 - accuracy: 0.7336 - val_loss: 0.8866 - val_accuracy: 0.7032\n",
            "Epoch 6/30\n",
            "665/665 [==============================] - 14s 21ms/step - loss: 0.6987 - accuracy: 0.7576 - val_loss: 0.7212 - val_accuracy: 0.7465\n",
            "Epoch 7/30\n",
            "665/665 [==============================] - 14s 21ms/step - loss: 0.6442 - accuracy: 0.7779 - val_loss: 0.7446 - val_accuracy: 0.7487\n",
            "Epoch 8/30\n",
            "665/665 [==============================] - 14s 21ms/step - loss: 0.5935 - accuracy: 0.7979 - val_loss: 0.6742 - val_accuracy: 0.7673\n",
            "Epoch 9/30\n",
            "665/665 [==============================] - 14s 21ms/step - loss: 0.5542 - accuracy: 0.8091 - val_loss: 0.6891 - val_accuracy: 0.7603\n",
            "Epoch 10/30\n",
            "665/665 [==============================] - 14s 21ms/step - loss: 0.5176 - accuracy: 0.8220 - val_loss: 0.6402 - val_accuracy: 0.7808\n",
            "Epoch 11/30\n",
            "665/665 [==============================] - 14s 21ms/step - loss: 0.4814 - accuracy: 0.8347 - val_loss: 0.6050 - val_accuracy: 0.7971\n",
            "Epoch 12/30\n",
            "665/665 [==============================] - 14s 22ms/step - loss: 0.4512 - accuracy: 0.8434 - val_loss: 0.8168 - val_accuracy: 0.7368\n",
            "Epoch 13/30\n",
            "665/665 [==============================] - 14s 21ms/step - loss: 0.4217 - accuracy: 0.8531 - val_loss: 0.7142 - val_accuracy: 0.7739\n",
            "Epoch 14/30\n",
            "665/665 [==============================] - 14s 21ms/step - loss: 0.3931 - accuracy: 0.8635 - val_loss: 0.7064 - val_accuracy: 0.7857\n",
            "Epoch 15/30\n",
            "665/665 [==============================] - 14s 21ms/step - loss: 0.3666 - accuracy: 0.8736 - val_loss: 0.6329 - val_accuracy: 0.8044\n",
            "Epoch 16/30\n",
            "665/665 [==============================] - 14s 22ms/step - loss: 0.3485 - accuracy: 0.8778 - val_loss: 0.6604 - val_accuracy: 0.7864\n",
            "Epoch 17/30\n",
            "665/665 [==============================] - 14s 21ms/step - loss: 0.3300 - accuracy: 0.8861 - val_loss: 0.5883 - val_accuracy: 0.8137\n",
            "Epoch 18/30\n",
            "665/665 [==============================] - 14s 21ms/step - loss: 0.3026 - accuracy: 0.8968 - val_loss: 0.6920 - val_accuracy: 0.7897\n",
            "Epoch 19/30\n",
            "665/665 [==============================] - 14s 21ms/step - loss: 0.2950 - accuracy: 0.8960 - val_loss: 0.6494 - val_accuracy: 0.7963\n",
            "Epoch 20/30\n",
            "665/665 [==============================] - 14s 21ms/step - loss: 0.2729 - accuracy: 0.9042 - val_loss: 0.6488 - val_accuracy: 0.8021\n",
            "Epoch 21/30\n",
            "665/665 [==============================] - 14s 21ms/step - loss: 0.2580 - accuracy: 0.9095 - val_loss: 0.5861 - val_accuracy: 0.8249\n",
            "Epoch 22/30\n",
            "665/665 [==============================] - 13s 20ms/step - loss: 0.2413 - accuracy: 0.9154 - val_loss: 0.5841 - val_accuracy: 0.8251\n",
            "Epoch 23/30\n",
            "665/665 [==============================] - 13s 20ms/step - loss: 0.2271 - accuracy: 0.9206 - val_loss: 0.7179 - val_accuracy: 0.7973\n",
            "Epoch 24/30\n",
            "665/665 [==============================] - 13s 20ms/step - loss: 0.2240 - accuracy: 0.9234 - val_loss: 0.6043 - val_accuracy: 0.8209\n",
            "Epoch 25/30\n",
            "665/665 [==============================] - 14s 21ms/step - loss: 0.2111 - accuracy: 0.9265 - val_loss: 0.7376 - val_accuracy: 0.7973\n",
            "Epoch 26/30\n",
            "665/665 [==============================] - 14s 21ms/step - loss: 0.2009 - accuracy: 0.9300 - val_loss: 0.6351 - val_accuracy: 0.8216\n",
            "Epoch 27/30\n",
            "665/665 [==============================] - 14s 21ms/step - loss: 0.1905 - accuracy: 0.9337 - val_loss: 0.7180 - val_accuracy: 0.8027\n",
            "Epoch 28/30\n",
            "665/665 [==============================] - 14s 21ms/step - loss: 0.1937 - accuracy: 0.9333 - val_loss: 0.6742 - val_accuracy: 0.8219\n",
            "Epoch 29/30\n",
            "665/665 [==============================] - 14s 21ms/step - loss: 0.1792 - accuracy: 0.9378 - val_loss: 0.6486 - val_accuracy: 0.8275\n",
            "Epoch 30/30\n",
            "665/665 [==============================] - 14s 21ms/step - loss: 0.1745 - accuracy: 0.9401 - val_loss: 0.7259 - val_accuracy: 0.8040\n"
          ]
        }
      ]
    },
    {
      "cell_type": "code",
      "metadata": {
        "id": "wU2ERvYt39yQ",
        "colab": {
          "base_uri": "https://localhost:8080/"
        },
        "outputId": "c29828c8-1bc8-42a3-8061-4985648590a8"
      },
      "source": [
        "model.evaluate(test_images, test_oh_labels)"
      ],
      "execution_count": 19,
      "outputs": [
        {
          "output_type": "stream",
          "name": "stdout",
          "text": [
            "313/313 [==============================] - 3s 8ms/step - loss: 0.7286 - accuracy: 0.7984\n"
          ]
        },
        {
          "output_type": "execute_result",
          "data": {
            "text/plain": [
              "[0.7286224961280823, 0.7983999848365784]"
            ]
          },
          "metadata": {},
          "execution_count": 19
        }
      ]
    },
    {
      "cell_type": "markdown",
      "metadata": {
        "id": "jY1_umkD4ICj"
      },
      "source": [
        "### He Normal 적용 후 Batch Normalization"
      ]
    },
    {
      "cell_type": "code",
      "metadata": {
        "id": "9gu6-lKn4LHU",
        "colab": {
          "base_uri": "https://localhost:8080/"
        },
        "outputId": "2c26c3f1-74b7-4c98-e147-ea9ac6d8616d"
      },
      "source": [
        "from tensorflow.keras.models import Sequential, Model\n",
        "from tensorflow.keras.layers import Input, Dense , Conv2D , Dropout , Flatten , Activation, MaxPooling2D , GlobalAveragePooling2D\n",
        "from tensorflow.keras.optimizers import Adam , RMSprop \n",
        "from tensorflow.keras.layers import BatchNormalization\n",
        "from tensorflow.keras.callbacks import ReduceLROnPlateau , EarlyStopping , ModelCheckpoint , LearningRateScheduler\n",
        "\n",
        "\n",
        "input_tensor = Input(shape=(IMAGE_SIZE, IMAGE_SIZE, 3))\n",
        "\n",
        "#x = Conv2D(filters=32, kernel_size=(5, 5), padding='valid', activation='relu')(input_tensor)\n",
        "x = Conv2D(filters=32, kernel_size=(3, 3), padding='same', kernel_initializer='he_normal')(input_tensor)\n",
        "x = BatchNormalization()(x)\n",
        "x = Activation('relu')(x)\n",
        "\n",
        "x = Conv2D(filters=32, kernel_size=(3, 3), padding='same', kernel_initializer='he_normal')(x)\n",
        "x = BatchNormalization()(x)\n",
        "x = Activation('relu')(x)\n",
        "x = MaxPooling2D(pool_size=(2, 2))(x)\n",
        "\n",
        "x = Conv2D(filters=64, kernel_size=3, padding='same', kernel_initializer='he_normal')(x)\n",
        "x = BatchNormalization()(x)\n",
        "x = Activation('relu')(x)\n",
        "\n",
        "x = Conv2D(filters=64, kernel_size=3, padding='same', kernel_initializer='he_normal')(x)\n",
        "x = Activation('relu')(x)\n",
        "x = Activation('relu')(x)\n",
        "x = MaxPooling2D(pool_size=2)(x)\n",
        "\n",
        "x = Conv2D(filters=128, kernel_size=3, padding='same', kernel_initializer='he_normal')(x)\n",
        "x = BatchNormalization()(x)\n",
        "x = Activation('relu')(x)\n",
        "\n",
        "x = Conv2D(filters=128, kernel_size=3, padding='same', kernel_initializer='he_normal')(x)\n",
        "x = BatchNormalization()(x)\n",
        "x = Activation('relu')(x)\n",
        "x = MaxPooling2D(pool_size=2)(x)\n",
        "\n",
        "# cifar10의 클래스가 10개 이므로 마지막 classification의 Dense layer units갯수는 10\n",
        "x = Flatten(name='flatten')(x)\n",
        "x = Dropout(rate=0.5)(x)\n",
        "x = Dense(300, activation='relu', name='fc1')(x)\n",
        "x = Dropout(rate=0.3)(x)\n",
        "output = Dense(10, activation='softmax', name='output')(x)\n",
        "\n",
        "model = Model(inputs=input_tensor, outputs=output)\n",
        "\n",
        "model.summary()"
      ],
      "execution_count": 20,
      "outputs": [
        {
          "output_type": "stream",
          "name": "stdout",
          "text": [
            "Model: \"model_2\"\n",
            "_________________________________________________________________\n",
            "Layer (type)                 Output Shape              Param #   \n",
            "=================================================================\n",
            "input_3 (InputLayer)         [(None, 32, 32, 3)]       0         \n",
            "_________________________________________________________________\n",
            "conv2d_11 (Conv2D)           (None, 32, 32, 32)        896       \n",
            "_________________________________________________________________\n",
            "batch_normalization_4 (Batch (None, 32, 32, 32)        128       \n",
            "_________________________________________________________________\n",
            "activation_7 (Activation)    (None, 32, 32, 32)        0         \n",
            "_________________________________________________________________\n",
            "conv2d_12 (Conv2D)           (None, 32, 32, 32)        9248      \n",
            "_________________________________________________________________\n",
            "batch_normalization_5 (Batch (None, 32, 32, 32)        128       \n",
            "_________________________________________________________________\n",
            "activation_8 (Activation)    (None, 32, 32, 32)        0         \n",
            "_________________________________________________________________\n",
            "max_pooling2d_6 (MaxPooling2 (None, 16, 16, 32)        0         \n",
            "_________________________________________________________________\n",
            "conv2d_13 (Conv2D)           (None, 16, 16, 64)        18496     \n",
            "_________________________________________________________________\n",
            "batch_normalization_6 (Batch (None, 16, 16, 64)        256       \n",
            "_________________________________________________________________\n",
            "activation_9 (Activation)    (None, 16, 16, 64)        0         \n",
            "_________________________________________________________________\n",
            "conv2d_14 (Conv2D)           (None, 16, 16, 64)        36928     \n",
            "_________________________________________________________________\n",
            "activation_10 (Activation)   (None, 16, 16, 64)        0         \n",
            "_________________________________________________________________\n",
            "activation_11 (Activation)   (None, 16, 16, 64)        0         \n",
            "_________________________________________________________________\n",
            "max_pooling2d_7 (MaxPooling2 (None, 8, 8, 64)          0         \n",
            "_________________________________________________________________\n",
            "conv2d_15 (Conv2D)           (None, 8, 8, 128)         73856     \n",
            "_________________________________________________________________\n",
            "batch_normalization_7 (Batch (None, 8, 8, 128)         512       \n",
            "_________________________________________________________________\n",
            "activation_12 (Activation)   (None, 8, 8, 128)         0         \n",
            "_________________________________________________________________\n",
            "conv2d_16 (Conv2D)           (None, 8, 8, 128)         147584    \n",
            "_________________________________________________________________\n",
            "batch_normalization_8 (Batch (None, 8, 8, 128)         512       \n",
            "_________________________________________________________________\n",
            "activation_13 (Activation)   (None, 8, 8, 128)         0         \n",
            "_________________________________________________________________\n",
            "max_pooling2d_8 (MaxPooling2 (None, 4, 4, 128)         0         \n",
            "_________________________________________________________________\n",
            "flatten (Flatten)            (None, 2048)              0         \n",
            "_________________________________________________________________\n",
            "dropout_4 (Dropout)          (None, 2048)              0         \n",
            "_________________________________________________________________\n",
            "fc1 (Dense)                  (None, 300)               614700    \n",
            "_________________________________________________________________\n",
            "dropout_5 (Dropout)          (None, 300)               0         \n",
            "_________________________________________________________________\n",
            "output (Dense)               (None, 10)                3010      \n",
            "=================================================================\n",
            "Total params: 906,254\n",
            "Trainable params: 905,486\n",
            "Non-trainable params: 768\n",
            "_________________________________________________________________\n"
          ]
        }
      ]
    },
    {
      "cell_type": "code",
      "metadata": {
        "id": "Swdcfszq4QXy",
        "colab": {
          "base_uri": "https://localhost:8080/"
        },
        "outputId": "4c470f64-5981-44c8-8d81-4900cc36f147"
      },
      "source": [
        "model.compile(optimizer=Adam(), loss='categorical_crossentropy', metrics=['accuracy'])\n",
        "history = model.fit(x=train_images, y=train_oh_labels, batch_size=64, epochs=30, validation_split=0.15)"
      ],
      "execution_count": 21,
      "outputs": [
        {
          "output_type": "stream",
          "name": "stdout",
          "text": [
            "Epoch 1/30\n",
            "665/665 [==============================] - 18s 25ms/step - loss: 1.6132 - accuracy: 0.4139 - val_loss: 1.5175 - val_accuracy: 0.4588\n",
            "Epoch 2/30\n",
            "665/665 [==============================] - 16s 23ms/step - loss: 1.1382 - accuracy: 0.5908 - val_loss: 1.1235 - val_accuracy: 0.5941\n",
            "Epoch 3/30\n",
            "665/665 [==============================] - 15s 23ms/step - loss: 0.9434 - accuracy: 0.6685 - val_loss: 0.9074 - val_accuracy: 0.6843\n",
            "Epoch 4/30\n",
            "665/665 [==============================] - 15s 23ms/step - loss: 0.8111 - accuracy: 0.7158 - val_loss: 0.9835 - val_accuracy: 0.6553\n",
            "Epoch 5/30\n",
            "665/665 [==============================] - 16s 24ms/step - loss: 0.7231 - accuracy: 0.7491 - val_loss: 0.7654 - val_accuracy: 0.7331\n",
            "Epoch 6/30\n",
            "665/665 [==============================] - 16s 24ms/step - loss: 0.6586 - accuracy: 0.7730 - val_loss: 0.8645 - val_accuracy: 0.7069\n",
            "Epoch 7/30\n",
            "665/665 [==============================] - 16s 24ms/step - loss: 0.5926 - accuracy: 0.7953 - val_loss: 0.7741 - val_accuracy: 0.7271\n",
            "Epoch 8/30\n",
            "665/665 [==============================] - 16s 24ms/step - loss: 0.5470 - accuracy: 0.8116 - val_loss: 0.6931 - val_accuracy: 0.7639\n",
            "Epoch 9/30\n",
            "665/665 [==============================] - 16s 24ms/step - loss: 0.5029 - accuracy: 0.8254 - val_loss: 0.6876 - val_accuracy: 0.7771\n",
            "Epoch 10/30\n",
            "665/665 [==============================] - 16s 24ms/step - loss: 0.4729 - accuracy: 0.8368 - val_loss: 0.9174 - val_accuracy: 0.7313\n",
            "Epoch 11/30\n",
            "665/665 [==============================] - 16s 24ms/step - loss: 0.4249 - accuracy: 0.8531 - val_loss: 0.7099 - val_accuracy: 0.7644\n",
            "Epoch 12/30\n",
            "665/665 [==============================] - 16s 24ms/step - loss: 0.3983 - accuracy: 0.8619 - val_loss: 0.6912 - val_accuracy: 0.7849\n",
            "Epoch 13/30\n",
            "665/665 [==============================] - 16s 24ms/step - loss: 0.3707 - accuracy: 0.8710 - val_loss: 0.6945 - val_accuracy: 0.7875\n",
            "Epoch 14/30\n",
            "665/665 [==============================] - 16s 24ms/step - loss: 0.3372 - accuracy: 0.8827 - val_loss: 0.6503 - val_accuracy: 0.7915\n",
            "Epoch 15/30\n",
            "665/665 [==============================] - 16s 24ms/step - loss: 0.3103 - accuracy: 0.8929 - val_loss: 0.7940 - val_accuracy: 0.7751\n",
            "Epoch 16/30\n",
            "665/665 [==============================] - 16s 25ms/step - loss: 0.2923 - accuracy: 0.8984 - val_loss: 0.6508 - val_accuracy: 0.8028\n",
            "Epoch 17/30\n",
            "665/665 [==============================] - 16s 24ms/step - loss: 0.2715 - accuracy: 0.9054 - val_loss: 0.5859 - val_accuracy: 0.8261\n",
            "Epoch 18/30\n",
            "665/665 [==============================] - 16s 24ms/step - loss: 0.2590 - accuracy: 0.9106 - val_loss: 1.1183 - val_accuracy: 0.7409\n",
            "Epoch 19/30\n",
            "665/665 [==============================] - 16s 24ms/step - loss: 0.2492 - accuracy: 0.9147 - val_loss: 0.6031 - val_accuracy: 0.8317\n",
            "Epoch 20/30\n",
            "665/665 [==============================] - 16s 24ms/step - loss: 0.2358 - accuracy: 0.9181 - val_loss: 0.6505 - val_accuracy: 0.8252\n",
            "Epoch 21/30\n",
            "665/665 [==============================] - 16s 24ms/step - loss: 0.2095 - accuracy: 0.9276 - val_loss: 0.6309 - val_accuracy: 0.8299\n",
            "Epoch 22/30\n",
            "665/665 [==============================] - 16s 24ms/step - loss: 0.1957 - accuracy: 0.9314 - val_loss: 0.8893 - val_accuracy: 0.7695\n",
            "Epoch 23/30\n",
            "665/665 [==============================] - 16s 24ms/step - loss: 0.1838 - accuracy: 0.9361 - val_loss: 0.8206 - val_accuracy: 0.8019\n",
            "Epoch 24/30\n",
            "665/665 [==============================] - 17s 25ms/step - loss: 0.1905 - accuracy: 0.9346 - val_loss: 0.6775 - val_accuracy: 0.8209\n",
            "Epoch 25/30\n",
            "665/665 [==============================] - 16s 24ms/step - loss: 0.1775 - accuracy: 0.9394 - val_loss: 0.6445 - val_accuracy: 0.8204\n",
            "Epoch 26/30\n",
            "665/665 [==============================] - 15s 23ms/step - loss: 0.1643 - accuracy: 0.9442 - val_loss: 0.7744 - val_accuracy: 0.8077\n",
            "Epoch 27/30\n",
            "665/665 [==============================] - 15s 23ms/step - loss: 0.1700 - accuracy: 0.9429 - val_loss: 0.6453 - val_accuracy: 0.8319\n",
            "Epoch 28/30\n",
            "665/665 [==============================] - 16s 24ms/step - loss: 0.1465 - accuracy: 0.9488 - val_loss: 0.7293 - val_accuracy: 0.8229\n",
            "Epoch 29/30\n",
            "665/665 [==============================] - 16s 23ms/step - loss: 0.1418 - accuracy: 0.9514 - val_loss: 0.7144 - val_accuracy: 0.8229\n",
            "Epoch 30/30\n",
            "665/665 [==============================] - 16s 23ms/step - loss: 0.1453 - accuracy: 0.9510 - val_loss: 0.8269 - val_accuracy: 0.8081\n"
          ]
        }
      ]
    },
    {
      "cell_type": "code",
      "metadata": {
        "id": "S9cPpA0T4Ujw",
        "colab": {
          "base_uri": "https://localhost:8080/"
        },
        "outputId": "d6f6af73-5892-45dd-f605-bbea19788ee3"
      },
      "source": [
        "model.evaluate(test_images, test_oh_labels, batch_size=64)"
      ],
      "execution_count": 22,
      "outputs": [
        {
          "output_type": "stream",
          "name": "stdout",
          "text": [
            "157/157 [==============================] - 2s 11ms/step - loss: 0.8995 - accuracy: 0.7973\n"
          ]
        },
        {
          "output_type": "execute_result",
          "data": {
            "text/plain": [
              "[0.8995194435119629, 0.7972999811172485]"
            ]
          },
          "metadata": {},
          "execution_count": 22
        }
      ]
    },
    {
      "cell_type": "code",
      "metadata": {
        "id": "B9FGFqwy4W8n",
        "colab": {
          "base_uri": "https://localhost:8080/"
        },
        "outputId": "acd62f40-4f79-4414-cd3c-1991d3473338"
      },
      "source": [
        "preds = model.predict(np.expand_dims(test_images[0], axis=0))\n",
        "predicted_class = np.argmax(preds, axis=1)\n",
        "print(\"예측 클래스 값:\", predicted_class)"
      ],
      "execution_count": 23,
      "outputs": [
        {
          "output_type": "stream",
          "name": "stdout",
          "text": [
            "예측 클래스 값: [3]\n"
          ]
        }
      ]
    },
    {
      "cell_type": "markdown",
      "metadata": {
        "id": "djcny0dQgLsP"
      },
      "source": [
        "### 학습률 동적 변경에 따른 모델 성능 비교"
      ]
    },
    {
      "cell_type": "code",
      "metadata": {
        "id": "qfZTGPuzf8C-"
      },
      "source": [
        "# 0~1 사이값의 float32로 변경하는 함수\n",
        "def get_preprocessed_data(images, labels):\n",
        "    images = np.array(images/255.0, dtype=np.float32)\n",
        "    labels = np.array(labels, dtype=np.float32)\n",
        "    \n",
        "    return images, labels\n",
        "\n",
        "# 0~1 사이값 float32로 변경하는 함수 호출 한 뒤 OHE 적용\n",
        "def get_preprocessed_ohe(images, labels):\n",
        "    images, labels = get_preprocessed_data(images, labels)\n",
        "    oh_labels = to_categorical(labels)\n",
        "    \n",
        "    return images, oh_labels\n",
        "\n",
        "# 학습/검증/테스트 데이터 세트에 전처리 및 OHE 적용한 뒤 반환\n",
        "def get_train_valid_test_set(train_images, train_labels, test_images, test_labels, valid_size=0.15, random_state=2021):\n",
        "    train_images, train_oh_labels = get_preprocessed_ohe(train_images, train_labels)\n",
        "    test_images, test_oh_labels = get_preprocessed_ohe(test_images, test_labels)\n",
        "    \n",
        "    tr_images, val_images, tr_oh_labels, val_oh_labels = train_test_split(train_images, train_oh_labels, test_size=valid_size, random_state=random_state)\n",
        "    \n",
        "    return (tr_images, tr_oh_labels), (val_images, val_oh_labels), (test_images, test_oh_labels)"
      ],
      "execution_count": 32,
      "outputs": []
    },
    {
      "cell_type": "code",
      "metadata": {
        "id": "QBI2setIdS7J"
      },
      "source": [
        "\n",
        "def create_model(verbose=False):\n",
        "    input_tensor = Input(shape=(IMAGE_SIZE, IMAGE_SIZE, 3))\n",
        "\n",
        "    #x = Conv2D(filters=32, kernel_size=(5, 5), padding='valid', activation='relu')(input_tensor)\n",
        "    x = Conv2D(filters=32, kernel_size=(3, 3), padding='same', kernel_initializer='he_normal')(input_tensor)\n",
        "    x = BatchNormalization()(x)\n",
        "    x = Activation('relu')(x)\n",
        "\n",
        "    x = Conv2D(filters=32, kernel_size=(3, 3), padding='same', kernel_initializer='he_normal')(x)\n",
        "    x = BatchNormalization()(x)\n",
        "    x = Activation('relu')(x)\n",
        "    x = MaxPooling2D(pool_size=(2, 2))(x)\n",
        "\n",
        "    x = Conv2D(filters=64, kernel_size=3, padding='same', kernel_initializer='he_normal')(x)\n",
        "    x = BatchNormalization()(x)\n",
        "    x = Activation('relu')(x)\n",
        "\n",
        "    x = Conv2D(filters=64, kernel_size=3, padding='same', kernel_initializer='he_normal')(x)\n",
        "    x = Activation('relu')(x)\n",
        "    x = Activation('relu')(x)\n",
        "    x = MaxPooling2D(pool_size=2)(x)\n",
        "\n",
        "    x = Conv2D(filters=128, kernel_size=3, padding='same', kernel_initializer='he_normal')(x)\n",
        "    x = BatchNormalization()(x)\n",
        "    x = Activation('relu')(x)\n",
        "\n",
        "    x = Conv2D(filters=128, kernel_size=3, padding='same', kernel_initializer='he_normal')(x)\n",
        "    x = BatchNormalization()(x)\n",
        "    x = Activation('relu')(x)\n",
        "    x = MaxPooling2D(pool_size=2)(x)\n",
        "\n",
        "    # cifar10의 클래스가 10개 이므로 마지막 classification의 Dense layer units갯수는 10\n",
        "    x = Flatten(name='flatten')(x)\n",
        "    x = Dropout(rate=0.5)(x)\n",
        "    x = Dense(300, activation='relu', name='fc1')(x)\n",
        "    x = Dropout(rate=0.3)(x)\n",
        "    output = Dense(10, activation='softmax', name='output')(x)\n",
        "\n",
        "    model = Model(inputs=input_tensor, outputs=output)\n",
        "\n",
        "    if verbose:\n",
        "        model.summary()\n",
        "\n",
        "    return model"
      ],
      "execution_count": 33,
      "outputs": []
    },
    {
      "cell_type": "code",
      "metadata": {
        "colab": {
          "base_uri": "https://localhost:8080/"
        },
        "id": "FveyllRgdj__",
        "outputId": "c1e19cbd-ec60-4ab5-d868-6e6398366e0d"
      },
      "source": [
        "# ModelCheckpoint 동작시키기 전에 기존 저장된 모델은 모두 삭제\n",
        "!rm *.hdf5"
      ],
      "execution_count": 34,
      "outputs": [
        {
          "output_type": "stream",
          "name": "stdout",
          "text": [
            "rm: cannot remove '*.hdf5': No such file or directory\n"
          ]
        }
      ]
    },
    {
      "cell_type": "code",
      "metadata": {
        "colab": {
          "base_uri": "https://localhost:8080/"
        },
        "id": "Fna1EWJvgXPW",
        "outputId": "40fa39bb-708f-4931-9bea-a402f5b54db6"
      },
      "source": [
        "from sklearn.model_selection import train_test_split\n",
        "\n",
        "(train_images, train_labels), (test_images, test_labels) = cifar10.load_data()\n",
        "print(train_images.shape, train_labels.shape, test_images.shape, test_labels.shape)\n",
        "\n",
        "(tr_images, tr_oh_labels), (val_images, val_oh_labels), (test_images, test_oh_labels) = get_train_valid_test_set(train_images, train_labels, test_images, test_labels, valid_size=0.15, random_state=2021)\n",
        "\n",
        "print(tr_images.shape, tr_oh_labels.shape, val_images.shape, val_oh_labels.shape, test_images.shape, test_oh_labels.shape)"
      ],
      "execution_count": 37,
      "outputs": [
        {
          "output_type": "stream",
          "name": "stdout",
          "text": [
            "(50000, 32, 32, 3) (50000, 1) (10000, 32, 32, 3) (10000, 1)\n",
            "(42500, 32, 32, 3) (42500, 10) (7500, 32, 32, 3) (7500, 10) (10000, 32, 32, 3) (10000, 10)\n"
          ]
        }
      ]
    },
    {
      "cell_type": "code",
      "metadata": {
        "colab": {
          "base_uri": "https://localhost:8080/"
        },
        "id": "dZAsiE4Xg-Wv",
        "outputId": "ba431ddb-431b-4958-d450-0b11103729a6"
      },
      "source": [
        "!pwd"
      ],
      "execution_count": 39,
      "outputs": [
        {
          "output_type": "stream",
          "name": "stdout",
          "text": [
            "/content\n"
          ]
        }
      ]
    },
    {
      "cell_type": "code",
      "metadata": {
        "colab": {
          "base_uri": "https://localhost:8080/"
        },
        "id": "xdIz3B3Ddwjb",
        "outputId": "8824ce9e-848c-44b9-c493-01d43bef64c8"
      },
      "source": [
        "model = create_model()\n",
        "model.compile(optimizer=Adam(lr=0.001), loss='categorical_crossentropy', metrics=['accuracy'])\n",
        "\n",
        "# validation loss가 향상되는 모델만 저장.\n",
        "mcp_cb = ModelCheckpoint(filepath='/content/weights.{epoch:02d}-{val_loss:.2f}.hdf5', monitor='val_loss',\n",
        "                         save_best_only=True, save_weight_only=True, mode='min', period=1, verbose=0)\n",
        "# 5번 iteration내에 validation loss가 향상되지 않으면 learning rate을 기존 learning rate * 0.2로 줄임\n",
        "rlr_cb = ReduceLROnPlateau(monitor='val_loss', factor=0.2, patience=5, mode='min', verbose=1)\n",
        "# 10번 iteration내에 validation loss가 향상되지 않으면 더 이상 학습하지 않고 종료\n",
        "ely_cb = EarlyStopping(monitor='val_loss', patience=10, mode='min', verbose=1)\n",
        "\n",
        "history = model.fit(x=tr_images, y=tr_oh_labels, batch_size=32, epochs=30, shuffle=True,\n",
        "                    validation_data=(val_images, val_oh_labels),\n",
        "                    callbacks=[mcp_cb, rlr_cb, ely_cb])"
      ],
      "execution_count": 40,
      "outputs": [
        {
          "output_type": "stream",
          "name": "stdout",
          "text": [
            "WARNING:tensorflow:`period` argument is deprecated. Please use `save_freq` to specify the frequency in number of batches seen.\n"
          ]
        },
        {
          "output_type": "stream",
          "name": "stderr",
          "text": [
            "/usr/local/lib/python3.7/dist-packages/keras/optimizer_v2/optimizer_v2.py:356: UserWarning: The `lr` argument is deprecated, use `learning_rate` instead.\n",
            "  \"The `lr` argument is deprecated, use `learning_rate` instead.\")\n"
          ]
        },
        {
          "output_type": "stream",
          "name": "stdout",
          "text": [
            "Epoch 1/30\n",
            "1329/1329 [==============================] - 25s 18ms/step - loss: 1.5625 - accuracy: 0.4316 - val_loss: 1.2121 - val_accuracy: 0.5588\n",
            "Epoch 2/30\n",
            "1329/1329 [==============================] - 23s 17ms/step - loss: 1.1086 - accuracy: 0.6061 - val_loss: 1.7000 - val_accuracy: 0.4680\n",
            "Epoch 3/30\n",
            "1329/1329 [==============================] - 23s 17ms/step - loss: 0.9152 - accuracy: 0.6794 - val_loss: 0.9100 - val_accuracy: 0.6829\n",
            "Epoch 4/30\n",
            "1329/1329 [==============================] - 23s 17ms/step - loss: 0.8014 - accuracy: 0.7239 - val_loss: 0.8665 - val_accuracy: 0.7017\n",
            "Epoch 5/30\n",
            "1329/1329 [==============================] - 23s 17ms/step - loss: 0.7223 - accuracy: 0.7515 - val_loss: 0.7472 - val_accuracy: 0.7513\n",
            "Epoch 6/30\n",
            "1329/1329 [==============================] - 23s 17ms/step - loss: 0.6540 - accuracy: 0.7749 - val_loss: 0.8503 - val_accuracy: 0.7281\n",
            "Epoch 7/30\n",
            "1329/1329 [==============================] - 23s 17ms/step - loss: 0.5865 - accuracy: 0.8017 - val_loss: 0.6881 - val_accuracy: 0.7699\n",
            "Epoch 8/30\n",
            "1329/1329 [==============================] - 23s 17ms/step - loss: 0.5380 - accuracy: 0.8173 - val_loss: 0.5930 - val_accuracy: 0.7959\n",
            "Epoch 9/30\n",
            "1329/1329 [==============================] - 23s 17ms/step - loss: 0.4857 - accuracy: 0.8353 - val_loss: 0.5598 - val_accuracy: 0.8163\n",
            "Epoch 10/30\n",
            "1329/1329 [==============================] - 23s 17ms/step - loss: 0.4496 - accuracy: 0.8461 - val_loss: 0.6595 - val_accuracy: 0.7936\n",
            "Epoch 11/30\n",
            "1329/1329 [==============================] - 24s 18ms/step - loss: 0.4095 - accuracy: 0.8602 - val_loss: 0.6105 - val_accuracy: 0.8013\n",
            "Epoch 12/30\n",
            "1329/1329 [==============================] - 23s 17ms/step - loss: 0.3817 - accuracy: 0.8696 - val_loss: 0.6342 - val_accuracy: 0.7992\n",
            "Epoch 13/30\n",
            "1329/1329 [==============================] - 23s 17ms/step - loss: 0.3591 - accuracy: 0.8780 - val_loss: 0.5818 - val_accuracy: 0.8191\n",
            "Epoch 14/30\n",
            "1329/1329 [==============================] - 23s 17ms/step - loss: 0.3289 - accuracy: 0.8871 - val_loss: 0.6306 - val_accuracy: 0.7981\n",
            "\n",
            "Epoch 00014: ReduceLROnPlateau reducing learning rate to 0.00020000000949949026.\n",
            "Epoch 15/30\n",
            "1329/1329 [==============================] - 23s 17ms/step - loss: 0.2144 - accuracy: 0.9251 - val_loss: 0.4805 - val_accuracy: 0.8608\n",
            "Epoch 16/30\n",
            "1329/1329 [==============================] - 23s 17ms/step - loss: 0.1795 - accuracy: 0.9380 - val_loss: 0.5040 - val_accuracy: 0.8575\n",
            "Epoch 17/30\n",
            "1329/1329 [==============================] - 23s 17ms/step - loss: 0.1641 - accuracy: 0.9430 - val_loss: 0.5003 - val_accuracy: 0.8589\n",
            "Epoch 18/30\n",
            "1329/1329 [==============================] - 23s 18ms/step - loss: 0.1482 - accuracy: 0.9487 - val_loss: 0.5334 - val_accuracy: 0.8603\n",
            "Epoch 19/30\n",
            "1329/1329 [==============================] - 25s 18ms/step - loss: 0.1370 - accuracy: 0.9514 - val_loss: 0.5466 - val_accuracy: 0.8591\n",
            "Epoch 20/30\n",
            "1329/1329 [==============================] - 24s 18ms/step - loss: 0.1244 - accuracy: 0.9562 - val_loss: 0.5494 - val_accuracy: 0.8581\n",
            "\n",
            "Epoch 00020: ReduceLROnPlateau reducing learning rate to 4.0000001899898055e-05.\n",
            "Epoch 21/30\n",
            "1329/1329 [==============================] - 24s 18ms/step - loss: 0.1037 - accuracy: 0.9642 - val_loss: 0.5338 - val_accuracy: 0.8653\n",
            "Epoch 22/30\n",
            "1329/1329 [==============================] - 24s 18ms/step - loss: 0.0981 - accuracy: 0.9660 - val_loss: 0.5526 - val_accuracy: 0.8648\n",
            "Epoch 23/30\n",
            "1329/1329 [==============================] - 24s 18ms/step - loss: 0.0952 - accuracy: 0.9673 - val_loss: 0.5544 - val_accuracy: 0.8625\n",
            "Epoch 24/30\n",
            "1329/1329 [==============================] - 24s 18ms/step - loss: 0.0901 - accuracy: 0.9680 - val_loss: 0.5613 - val_accuracy: 0.8621\n",
            "Epoch 25/30\n",
            "1329/1329 [==============================] - 24s 18ms/step - loss: 0.0866 - accuracy: 0.9698 - val_loss: 0.5711 - val_accuracy: 0.8612\n",
            "\n",
            "Epoch 00025: ReduceLROnPlateau reducing learning rate to 8.000000525498762e-06.\n",
            "Epoch 00025: early stopping\n"
          ]
        }
      ]
    },
    {
      "cell_type": "code",
      "metadata": {
        "colab": {
          "base_uri": "https://localhost:8080/"
        },
        "id": "veJt7q7xfacA",
        "outputId": "cdc4de76-f9a6-41e9-97ad-65edae6c314c"
      },
      "source": [
        "model.evaluate(test_images, test_oh_labels)"
      ],
      "execution_count": 46,
      "outputs": [
        {
          "output_type": "stream",
          "name": "stdout",
          "text": [
            "313/313 [==============================] - 3s 9ms/step - loss: 0.5225 - accuracy: 0.8457\n"
          ]
        },
        {
          "output_type": "execute_result",
          "data": {
            "text/plain": [
              "[0.5224917531013489, 0.8457000255584717]"
            ]
          },
          "metadata": {},
          "execution_count": 46
        }
      ]
    },
    {
      "cell_type": "code",
      "metadata": {
        "colab": {
          "base_uri": "https://localhost:8080/"
        },
        "id": "1NF5TntTjaeD",
        "outputId": "143e7228-418b-42a6-d32f-72f3d74c89dc"
      },
      "source": [
        "!ls -lia"
      ],
      "execution_count": 47,
      "outputs": [
        {
          "output_type": "stream",
          "name": "stdout",
          "text": [
            "total 86032\n",
            "2625397 drwxr-xr-x 1 root root     4096 Oct  3 14:32 .\n",
            "   8664 drwxr-xr-x 1 root root     4096 Oct  3 12:38 ..\n",
            "3017069 drwxr-xr-x 4 root root     4096 Sep 30 17:11 .config\n",
            "2625398 drwxr-xr-x 1 root root     4096 Sep 30 17:12 sample_data\n",
            "   4438 -rw-r--r-- 1 root root 11006832 Oct  3 14:27 weights.01-1.21.hdf5\n",
            "   4439 -rw-r--r-- 1 root root 11006832 Oct  3 14:28 weights.03-0.91.hdf5\n",
            "   4440 -rw-r--r-- 1 root root 11006832 Oct  3 14:28 weights.04-0.87.hdf5\n",
            "   4441 -rw-r--r-- 1 root root 11006832 Oct  3 14:28 weights.05-0.75.hdf5\n",
            "   4442 -rw-r--r-- 1 root root 11006832 Oct  3 14:29 weights.07-0.69.hdf5\n",
            "   4443 -rw-r--r-- 1 root root 11006832 Oct  3 14:30 weights.08-0.59.hdf5\n",
            "   4444 -rw-r--r-- 1 root root 11006832 Oct  3 14:30 weights.09-0.56.hdf5\n",
            "   4445 -rw-r--r-- 1 root root 11006832 Oct  3 14:32 weights.15-0.48.hdf5\n"
          ]
        }
      ]
    },
    {
      "cell_type": "markdown",
      "metadata": {
        "id": "NYmKoVfVkSMu"
      },
      "source": [
        "#### 최적 weight를 모델로 재로딩한 다음에 테스트 데이터로 다시 평가"
      ]
    },
    {
      "cell_type": "code",
      "metadata": {
        "colab": {
          "base_uri": "https://localhost:8080/"
        },
        "id": "ZBcMpbpNjx9_",
        "outputId": "f0a223ce-04b6-48a6-c365-80b55db9850f"
      },
      "source": [
        "model = create_model()\n",
        "model.compile(optimizer=Adam(lr=0.001), loss='categorical_crossentropy', metrics=['accuracy'])\n",
        "model.load_weights('/content/weights.15-0.48.hdf5')"
      ],
      "execution_count": 48,
      "outputs": [
        {
          "output_type": "stream",
          "name": "stderr",
          "text": [
            "/usr/local/lib/python3.7/dist-packages/keras/optimizer_v2/optimizer_v2.py:356: UserWarning: The `lr` argument is deprecated, use `learning_rate` instead.\n",
            "  \"The `lr` argument is deprecated, use `learning_rate` instead.\")\n"
          ]
        }
      ]
    },
    {
      "cell_type": "code",
      "metadata": {
        "colab": {
          "base_uri": "https://localhost:8080/"
        },
        "id": "bZndgO6Tls8S",
        "outputId": "70083e2f-148b-4797-d185-55e276083cab"
      },
      "source": [
        "model.evaluate(test_images, test_oh_labels)"
      ],
      "execution_count": 45,
      "outputs": [
        {
          "output_type": "stream",
          "name": "stdout",
          "text": [
            "313/313 [==============================] - 3s 9ms/step - loss: 0.5225 - accuracy: 0.8457\n"
          ]
        },
        {
          "output_type": "execute_result",
          "data": {
            "text/plain": [
              "[0.5224917531013489, 0.8457000255584717]"
            ]
          },
          "metadata": {},
          "execution_count": 45
        }
      ]
    },
    {
      "cell_type": "code",
      "metadata": {
        "id": "KMiEhmxlmBkO"
      },
      "source": [
        ""
      ],
      "execution_count": null,
      "outputs": []
    }
  ]
}