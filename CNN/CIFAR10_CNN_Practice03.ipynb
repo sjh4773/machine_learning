{
  "nbformat": 4,
  "nbformat_minor": 0,
  "metadata": {
    "colab": {
      "name": "CIFAR10_CNN_Practice03.ipynb",
      "provenance": [],
      "collapsed_sections": []
    },
    "kernelspec": {
      "name": "python3",
      "display_name": "Python 3"
    },
    "language_info": {
      "name": "python"
    },
    "accelerator": "GPU"
  },
  "cells": [
    {
      "cell_type": "markdown",
      "metadata": {
        "id": "eduC47Vq8DO6"
      },
      "source": [
        "## Global Average Pooling 적용\n",
        "\n",
        "채널 단위로 average 하여 값을 뽑아냄"
      ]
    },
    {
      "cell_type": "code",
      "metadata": {
        "id": "t7yd_tJh40oJ"
      },
      "source": [
        "import tensorflow as tf\n",
        "import numpy as np\n",
        "import pandas as pd\n",
        "\n",
        "import random as python_random\n",
        "from tensorflow.keras.utils import to_categorical\n",
        "from sklearn.model_selection import train_test_split\n",
        "from tensorflow.keras.datasets import cifar10\n",
        "\n",
        "from tensorflow.keras.models import Sequential, Model\n",
        "from tensorflow.keras.layers import Input, Dense , Conv2D , Dropout , Flatten , Activation, MaxPooling2D , GlobalAveragePooling2D\n",
        "from tensorflow.keras.optimizers import Adam , RMSprop \n",
        "from tensorflow.keras.layers import BatchNormalization\n",
        "from tensorflow.keras.callbacks import ReduceLROnPlateau , EarlyStopping , ModelCheckpoint , LearningRateScheduler\n",
        "from tensorflow.keras.regularizers import l1, l2, l1_l2\n",
        "\n",
        "IMAGE_SIZE = 32\n",
        "\n",
        "# 0~1 사이값의 float32로 변경하는 함수\n",
        "def get_preprocessed_data(images, labels):\n",
        "    images = np.array(images/255.0, dtype=np.float32)\n",
        "    labels = np.array(labels, dtype=np.float32)\n",
        "    \n",
        "    return images, labels\n",
        "\n",
        "# 0~1 사이값 float32로 변경하는 함수 호출 한 뒤 OHE 적용\n",
        "def get_preprocessed_ohe(images, labels):\n",
        "    images, labels = get_preprocessed_data(images, labels)\n",
        "    oh_labels = to_categorical(labels)\n",
        "    \n",
        "    return images, oh_labels\n",
        "\n",
        "# 학습/검증/테스트 데이터 세트에 전처리 및 OHE 적용한 뒤 반환\n",
        "def get_train_valid_test_set(train_images, train_labels, test_images, test_labels, valid_size=0.15, random_state=2021):\n",
        "    train_images, train_oh_labels = get_preprocessed_ohe(train_images, train_labels)\n",
        "    test_images, test_oh_labels = get_preprocessed_ohe(test_images, test_labels)\n",
        "    \n",
        "    tr_images, val_images, tr_oh_labels, val_oh_labels = train_test_split(train_images, train_oh_labels, test_size=valid_size, random_state=random_state)\n",
        "    \n",
        "    return (tr_images, tr_oh_labels), (val_images, val_oh_labels), (test_images, test_oh_labels)\n",
        "\n",
        "\n",
        "def create_model(verbose=False):\n",
        "    input_tensor = Input(shape=(IMAGE_SIZE, IMAGE_SIZE, 3))\n",
        "\n",
        "    #x = Conv2D(filters=32, kernel_size=(5, 5), padding='valid', activation='relu')(input_tensor)\n",
        "    x = Conv2D(filters=32, kernel_size=(3, 3), padding='same')(input_tensor)\n",
        "    x = BatchNormalization()(x)\n",
        "    x = Activation('relu')(x)\n",
        "\n",
        "    x = Conv2D(filters=64, kernel_size=(3, 3), padding='same')(x)\n",
        "    x = BatchNormalization()(x)\n",
        "    x = Activation('relu')(x)\n",
        "    x = MaxPooling2D(pool_size=(2, 2))(x)\n",
        "\n",
        "    x = Conv2D(filters=128, kernel_size=3, padding='same')(x)\n",
        "    x = BatchNormalization()(x)\n",
        "    x = Activation('relu')(x)\n",
        "\n",
        "    x = Conv2D(filters=128, kernel_size=3, padding='same')(x)\n",
        "    x = Activation('relu')(x)\n",
        "    x = Activation('relu')(x)\n",
        "    x = MaxPooling2D(pool_size=2)(x)\n",
        "\n",
        "    x = Conv2D(filters=256, kernel_size=3, padding='same')(x)\n",
        "    x = BatchNormalization()(x)\n",
        "    x = Activation('relu')(x)\n",
        "\n",
        "    x = Conv2D(filters=512, kernel_size=3, strides=2, padding='same')(x)\n",
        "    x = BatchNormalization()(x)\n",
        "    x = Activation('relu')(x)\n",
        "    \n",
        "\n",
        "    # Flatten 대신 Global AveragePooling 을 적용.\n",
        "    x = GlobalAveragePooling2D()(x)\n",
        "    x = Dropout(rate=0.5)(x)\n",
        "    x = Dense(50, activation='relu', name='fc1')(x)\n",
        "    x = Dropout(rate=0.2)(x)\n",
        "    output = Dense(10, activation='softmax', name='output')(x)\n",
        "\n",
        "    model = Model(inputs=input_tensor, outputs=output)\n",
        "\n",
        "    if verbose:\n",
        "        model.summary()\n",
        "\n",
        "    return model"
      ],
      "execution_count": 4,
      "outputs": []
    },
    {
      "cell_type": "code",
      "metadata": {
        "id": "saZw617K8lwi"
      },
      "source": [
        "import matplotlib.pyplot as plt\n",
        "%matplotlib inline\n",
        "\n",
        "def show_history(histroy):\n",
        "    plt.figure(figsize=(8,4))\n",
        "    plt.yticks(np.arange(0, 1, 0.05))\n",
        "    plt.xticks(np.arange(0, 30, 2))\n",
        "    plt.plot(history.history['accuracy'], label='train')\n",
        "    plt.plot(history.history['val_accuracy'], label='valid')\n",
        "    plt.legend()"
      ],
      "execution_count": 5,
      "outputs": []
    },
    {
      "cell_type": "code",
      "metadata": {
        "id": "B0mMmm_Y7bIJ",
        "colab": {
          "base_uri": "https://localhost:8080/"
        },
        "outputId": "ff6f3de4-8393-45fb-87bd-4d4350bc4fac"
      },
      "source": [
        "# CIFAR10 데이터 재 로딩 및 Scaling/OHE 전처리 적용하여 학습/검증/데이터 세트 생성. \n",
        "(train_images, train_labels), (test_images, test_labels) = cifar10.load_data()\n",
        "print(train_images.shape, train_labels.shape, test_images.shape, test_labels.shape)\n",
        "(tr_images, tr_oh_labels), (val_images, val_oh_labels), (test_images, test_oh_labels) = \\\n",
        "    get_train_valid_test_set(train_images, train_labels, test_images, test_labels, valid_size=0.15, random_state=2021)\n",
        "\n",
        "print(tr_images.shape, tr_oh_labels.shape, val_images.shape, val_oh_labels.shape, test_images.shape, test_oh_labels.shape)"
      ],
      "execution_count": 6,
      "outputs": [
        {
          "output_type": "stream",
          "name": "stdout",
          "text": [
            "Downloading data from https://www.cs.toronto.edu/~kriz/cifar-10-python.tar.gz\n",
            "170500096/170498071 [==============================] - 11s 0us/step\n",
            "170508288/170498071 [==============================] - 11s 0us/step\n",
            "(50000, 32, 32, 3) (50000, 1) (10000, 32, 32, 3) (10000, 1)\n",
            "(42500, 32, 32, 3) (42500, 10) (7500, 32, 32, 3) (7500, 10) (10000, 32, 32, 3) (10000, 10)\n"
          ]
        }
      ]
    },
    {
      "cell_type": "code",
      "metadata": {
        "id": "fhRjAWpb6WKb",
        "colab": {
          "base_uri": "https://localhost:8080/"
        },
        "outputId": "26f0d916-d1cd-4580-adee-5feb7c3da2a8"
      },
      "source": [
        "model = create_model()\n",
        "model.compile(optimizer=Adam(lr=0.001), loss='categorical_crossentropy', metrics=['accuracy'])\n",
        "\n",
        "# 5번 iteration내에 validation loss가 향상되지 않으면 learning rate을 기존 learning rate * 0.2로 줄임\n",
        "rlr_cb = ReduceLROnPlateau(monitor='val_loss', factor=0.2, patience=5, mode='min', verbose=1)\n",
        "# 10번 iteration내에 validation loss가 향상되지 않으면 더 이상 학습하지 않고 종료\n",
        "ely_cb = EarlyStopping(monitor='val_loss', patience=10, mode='min', verbose=1)\n",
        "\n",
        "history = model.fit(x=tr_images, y=tr_oh_labels, batch_size=32, epochs=30, shuffle=True,\n",
        "                    validation_data=(val_images, val_oh_labels),\n",
        "                    callbacks=[rlr_cb, ely_cb])"
      ],
      "execution_count": 8,
      "outputs": [
        {
          "output_type": "stream",
          "name": "stderr",
          "text": [
            "/usr/local/lib/python3.7/dist-packages/keras/optimizer_v2/optimizer_v2.py:356: UserWarning: The `lr` argument is deprecated, use `learning_rate` instead.\n",
            "  \"The `lr` argument is deprecated, use `learning_rate` instead.\")\n"
          ]
        },
        {
          "output_type": "stream",
          "name": "stdout",
          "text": [
            "Epoch 1/30\n",
            "1329/1329 [==============================] - 72s 30ms/step - loss: 1.4648 - accuracy: 0.4666 - val_loss: 1.7329 - val_accuracy: 0.4717\n",
            "Epoch 2/30\n",
            "1329/1329 [==============================] - 38s 29ms/step - loss: 1.0545 - accuracy: 0.6256 - val_loss: 1.1053 - val_accuracy: 0.6140\n",
            "Epoch 3/30\n",
            "1329/1329 [==============================] - 38s 29ms/step - loss: 0.8648 - accuracy: 0.6965 - val_loss: 0.8847 - val_accuracy: 0.6949\n",
            "Epoch 4/30\n",
            "1329/1329 [==============================] - 38s 29ms/step - loss: 0.7318 - accuracy: 0.7499 - val_loss: 1.0620 - val_accuracy: 0.6440\n",
            "Epoch 5/30\n",
            "1329/1329 [==============================] - 38s 28ms/step - loss: 0.6282 - accuracy: 0.7887 - val_loss: 0.8709 - val_accuracy: 0.7224\n",
            "Epoch 6/30\n",
            "1329/1329 [==============================] - 38s 29ms/step - loss: 0.5468 - accuracy: 0.8143 - val_loss: 0.6564 - val_accuracy: 0.7743\n",
            "Epoch 7/30\n",
            "1329/1329 [==============================] - 37s 28ms/step - loss: 0.4758 - accuracy: 0.8386 - val_loss: 0.8739 - val_accuracy: 0.7315\n",
            "Epoch 8/30\n",
            "1329/1329 [==============================] - 37s 28ms/step - loss: 0.4137 - accuracy: 0.8609 - val_loss: 0.5926 - val_accuracy: 0.8044\n",
            "Epoch 9/30\n",
            "1329/1329 [==============================] - 37s 28ms/step - loss: 0.3550 - accuracy: 0.8792 - val_loss: 0.7775 - val_accuracy: 0.7557\n",
            "Epoch 10/30\n",
            "1329/1329 [==============================] - 37s 28ms/step - loss: 0.3098 - accuracy: 0.8946 - val_loss: 0.8952 - val_accuracy: 0.7496\n",
            "Epoch 11/30\n",
            "1329/1329 [==============================] - 37s 28ms/step - loss: 0.2635 - accuracy: 0.9120 - val_loss: 0.6494 - val_accuracy: 0.8037\n",
            "Epoch 12/30\n",
            "1329/1329 [==============================] - 38s 28ms/step - loss: 0.2239 - accuracy: 0.9252 - val_loss: 0.9635 - val_accuracy: 0.7629\n",
            "Epoch 13/30\n",
            "1329/1329 [==============================] - 38s 29ms/step - loss: 0.1965 - accuracy: 0.9344 - val_loss: 0.7214 - val_accuracy: 0.8100\n",
            "\n",
            "Epoch 00013: ReduceLROnPlateau reducing learning rate to 0.00020000000949949026.\n",
            "Epoch 14/30\n",
            "1329/1329 [==============================] - 38s 29ms/step - loss: 0.0911 - accuracy: 0.9693 - val_loss: 0.5736 - val_accuracy: 0.8537\n",
            "Epoch 15/30\n",
            "1329/1329 [==============================] - 38s 29ms/step - loss: 0.0622 - accuracy: 0.9790 - val_loss: 0.6013 - val_accuracy: 0.8551\n",
            "Epoch 16/30\n",
            "1329/1329 [==============================] - 38s 28ms/step - loss: 0.0494 - accuracy: 0.9838 - val_loss: 0.6297 - val_accuracy: 0.8519\n",
            "Epoch 17/30\n",
            "1329/1329 [==============================] - 38s 29ms/step - loss: 0.0427 - accuracy: 0.9864 - val_loss: 0.6453 - val_accuracy: 0.8556\n",
            "Epoch 18/30\n",
            "1329/1329 [==============================] - 38s 29ms/step - loss: 0.0386 - accuracy: 0.9873 - val_loss: 0.6716 - val_accuracy: 0.8539\n",
            "Epoch 19/30\n",
            "1329/1329 [==============================] - 38s 29ms/step - loss: 0.0330 - accuracy: 0.9894 - val_loss: 0.7079 - val_accuracy: 0.8527\n",
            "\n",
            "Epoch 00019: ReduceLROnPlateau reducing learning rate to 4.0000001899898055e-05.\n",
            "Epoch 20/30\n",
            "1329/1329 [==============================] - 38s 29ms/step - loss: 0.0225 - accuracy: 0.9929 - val_loss: 0.6738 - val_accuracy: 0.8579\n",
            "Epoch 21/30\n",
            "1329/1329 [==============================] - 38s 28ms/step - loss: 0.0191 - accuracy: 0.9941 - val_loss: 0.6877 - val_accuracy: 0.8577\n",
            "Epoch 22/30\n",
            "1329/1329 [==============================] - 38s 29ms/step - loss: 0.0165 - accuracy: 0.9952 - val_loss: 0.6932 - val_accuracy: 0.8597\n",
            "Epoch 23/30\n",
            "1329/1329 [==============================] - 39s 29ms/step - loss: 0.0168 - accuracy: 0.9953 - val_loss: 0.7131 - val_accuracy: 0.8571\n",
            "Epoch 24/30\n",
            "1329/1329 [==============================] - 38s 29ms/step - loss: 0.0148 - accuracy: 0.9956 - val_loss: 0.7130 - val_accuracy: 0.8603\n",
            "\n",
            "Epoch 00024: ReduceLROnPlateau reducing learning rate to 8.000000525498762e-06.\n",
            "Epoch 00024: early stopping\n"
          ]
        }
      ]
    },
    {
      "cell_type": "code",
      "metadata": {
        "id": "I4zi7a8B7TLq",
        "colab": {
          "base_uri": "https://localhost:8080/",
          "height": 283
        },
        "outputId": "e5266e42-dcbc-451b-fd5f-905cb3cd21ab"
      },
      "source": [
        "model.evaluate(test_images, test_oh_labels)\n",
        "show_history(history)"
      ],
      "execution_count": 9,
      "outputs": [
        {
          "output_type": "stream",
          "name": "stdout",
          "text": [
            "313/313 [==============================] - 3s 10ms/step - loss: 0.7036 - accuracy: 0.8576\n"
          ]
        },
        {
          "output_type": "display_data",
          "data": {
            "image/png": "[encoded data removed]",
            "text/plain": [
              "<Figure size 576x288 with 1 Axes>"
            ]
          },
          "metadata": {
            "needs_background": "light"
          }
        }
      ]
    },
    {
      "cell_type": "markdown",
      "metadata": {
        "id": "5fAQ-kiE_buR"
      },
      "source": [
        "### 가중치 규제\n",
        "\n",
        "개별 layer 별로 tensorflow.keras.regularizers의 l1, l2, l1_l2를 이용하여 가중치 규제를 적용할 수 있음"
      ]
    },
    {
      "cell_type": "code",
      "metadata": {
        "id": "HKnE9TLG_mlZ",
        "colab": {
          "base_uri": "https://localhost:8080/"
        },
        "outputId": "94d17788-b663-4f96-972d-6375e3eb82b4"
      },
      "source": [
        "input_tensor = Input(shape=(IMAGE_SIZE, IMAGE_SIZE, 3))\n",
        "\n",
        "#x = Conv2D(filters=32, kernel_size=(5, 5), padding='valid', activation='relu')(input_tensor)\n",
        "x = Conv2D(filters=32, kernel_size=(3, 3), padding='same', kernel_regularizer=l2(0.00001))(input_tensor)\n",
        "x = BatchNormalization()(x)\n",
        "x = Activation('relu')(x)\n",
        "\n",
        "x = Conv2D(filters=64, kernel_size=(3, 3), padding='same', kernel_regularizer=l2(0.00001))(x)\n",
        "x = BatchNormalization()(x)\n",
        "x = Activation('relu')(x)\n",
        "x = MaxPooling2D(pool_size=(2, 2))(x)\n",
        "\n",
        "x = Conv2D(filters=128, kernel_size=3, padding='same', kernel_regularizer=l1_l2(l1=1e-5, l2=1e-4))(x)\n",
        "x = BatchNormalization()(x)\n",
        "x = Activation('relu')(x)\n",
        "\n",
        "x = Conv2D(filters=128, kernel_size=3, padding='same', kernel_regularizer=l2(1e-5))(x)\n",
        "x = Activation('relu')(x)\n",
        "x = Activation('relu')(x)\n",
        "x = MaxPooling2D(pool_size=2)(x)\n",
        "\n",
        "x = Conv2D(filters=256, kernel_size=3, padding='same', kernel_regularizer=l2(1e-5))(x)\n",
        "x = BatchNormalization()(x)\n",
        "x = Activation('relu')(x)\n",
        "\n",
        "x = Conv2D(filters=512, kernel_size=3, strides=2, padding='same', kernel_regularizer=l2(1e-5))(x)\n",
        "x = BatchNormalization()(x)\n",
        "x = Activation('relu')(x)\n",
        "\n",
        "\n",
        "x = Flatten(name='flatten')(x)\n",
        "x = Dropout(rate=0.5)(x)\n",
        "x = Dense(300, activation='relu', kernel_regularizer=l2(1e-5), name='fc1')(x)\n",
        "x = Dropout(rate=0.2)(x)\n",
        "output = Dense(10, activation='softmax', name='output')(x)\n",
        "\n",
        "model = Model(inputs=input_tensor, outputs=output)\n",
        "\n",
        "model.summary()"
      ],
      "execution_count": 11,
      "outputs": [
        {
          "output_type": "stream",
          "name": "stdout",
          "text": [
            "Model: \"model_2\"\n",
            "_________________________________________________________________\n",
            "Layer (type)                 Output Shape              Param #   \n",
            "=================================================================\n",
            "input_4 (InputLayer)         [(None, 32, 32, 3)]       0         \n",
            "_________________________________________________________________\n",
            "conv2d_14 (Conv2D)           (None, 32, 32, 32)        896       \n",
            "_________________________________________________________________\n",
            "batch_normalization_12 (Batc (None, 32, 32, 32)        128       \n",
            "_________________________________________________________________\n",
            "activation_16 (Activation)   (None, 32, 32, 32)        0         \n",
            "_________________________________________________________________\n",
            "conv2d_15 (Conv2D)           (None, 32, 32, 64)        18496     \n",
            "_________________________________________________________________\n",
            "batch_normalization_13 (Batc (None, 32, 32, 64)        256       \n",
            "_________________________________________________________________\n",
            "activation_17 (Activation)   (None, 32, 32, 64)        0         \n",
            "_________________________________________________________________\n",
            "max_pooling2d_5 (MaxPooling2 (None, 16, 16, 64)        0         \n",
            "_________________________________________________________________\n",
            "conv2d_16 (Conv2D)           (None, 16, 16, 128)       73856     \n",
            "_________________________________________________________________\n",
            "batch_normalization_14 (Batc (None, 16, 16, 128)       512       \n",
            "_________________________________________________________________\n",
            "activation_18 (Activation)   (None, 16, 16, 128)       0         \n",
            "_________________________________________________________________\n",
            "conv2d_17 (Conv2D)           (None, 16, 16, 128)       147584    \n",
            "_________________________________________________________________\n",
            "activation_19 (Activation)   (None, 16, 16, 128)       0         \n",
            "_________________________________________________________________\n",
            "activation_20 (Activation)   (None, 16, 16, 128)       0         \n",
            "_________________________________________________________________\n",
            "max_pooling2d_6 (MaxPooling2 (None, 8, 8, 128)         0         \n",
            "_________________________________________________________________\n",
            "conv2d_18 (Conv2D)           (None, 8, 8, 256)         295168    \n",
            "_________________________________________________________________\n",
            "batch_normalization_15 (Batc (None, 8, 8, 256)         1024      \n",
            "_________________________________________________________________\n",
            "activation_21 (Activation)   (None, 8, 8, 256)         0         \n",
            "_________________________________________________________________\n",
            "conv2d_19 (Conv2D)           (None, 4, 4, 512)         1180160   \n",
            "_________________________________________________________________\n",
            "batch_normalization_16 (Batc (None, 4, 4, 512)         2048      \n",
            "_________________________________________________________________\n",
            "activation_22 (Activation)   (None, 4, 4, 512)         0         \n",
            "_________________________________________________________________\n",
            "flatten (Flatten)            (None, 8192)              0         \n",
            "_________________________________________________________________\n",
            "dropout_4 (Dropout)          (None, 8192)              0         \n",
            "_________________________________________________________________\n",
            "fc1 (Dense)                  (None, 300)               2457900   \n",
            "_________________________________________________________________\n",
            "dropout_5 (Dropout)          (None, 300)               0         \n",
            "_________________________________________________________________\n",
            "output (Dense)               (None, 10)                3010      \n",
            "=================================================================\n",
            "Total params: 4,181,038\n",
            "Trainable params: 4,179,054\n",
            "Non-trainable params: 1,984\n",
            "_________________________________________________________________\n"
          ]
        }
      ]
    },
    {
      "cell_type": "code",
      "metadata": {
        "id": "ZGHdlsZMCKNa",
        "colab": {
          "base_uri": "https://localhost:8080/"
        },
        "outputId": "e33ff7a7-c8d8-4822-cbc0-271b39f81f84"
      },
      "source": [
        "model.compile(optimizer=Adam(lr=0.001), loss='categorical_crossentropy', metrics=['accuracy'])\n",
        "\n",
        "# 5번 iteration내에 validation loss가 향상되지 않으면 learning rate을 기존 learning rate * 0.2로 줄임.  \n",
        "rlr_cb = ReduceLROnPlateau(monitor='val_loss', factor=0.2, patience=5, mode='min', verbose=1)\n",
        "# 10번 iteration내에 validation loss가 향상되지 않으면 더 이상 학습하지 않고 종료\n",
        "ely_cb = EarlyStopping(monitor='val_loss', patience=10, mode='min', verbose=1)\n",
        "\n",
        "\n",
        "history = model.fit(x=tr_images, y=tr_oh_labels, batch_size=32, epochs=30, shuffle=True,\n",
        "                    validation_data=(val_images, val_oh_labels),  \n",
        "                    callbacks=[rlr_cb, ely_cb] )"
      ],
      "execution_count": 12,
      "outputs": [
        {
          "output_type": "stream",
          "name": "stderr",
          "text": [
            "/usr/local/lib/python3.7/dist-packages/keras/optimizer_v2/optimizer_v2.py:356: UserWarning: The `lr` argument is deprecated, use `learning_rate` instead.\n",
            "  \"The `lr` argument is deprecated, use `learning_rate` instead.\")\n"
          ]
        },
        {
          "output_type": "stream",
          "name": "stdout",
          "text": [
            "Epoch 1/30\n",
            "1329/1329 [==============================] - 44s 32ms/step - loss: 1.5315 - accuracy: 0.4631 - val_loss: 1.5538 - val_accuracy: 0.4803\n",
            "Epoch 2/30\n",
            "1329/1329 [==============================] - 42s 32ms/step - loss: 1.1062 - accuracy: 0.6299 - val_loss: 1.0680 - val_accuracy: 0.6645\n",
            "Epoch 3/30\n",
            "1329/1329 [==============================] - 42s 32ms/step - loss: 0.9499 - accuracy: 0.6938 - val_loss: 1.0339 - val_accuracy: 0.6741\n",
            "Epoch 4/30\n",
            "1329/1329 [==============================] - 42s 32ms/step - loss: 0.8461 - accuracy: 0.7355 - val_loss: 0.8480 - val_accuracy: 0.7440\n",
            "Epoch 5/30\n",
            "1329/1329 [==============================] - 42s 32ms/step - loss: 0.7803 - accuracy: 0.7667 - val_loss: 0.7674 - val_accuracy: 0.7831\n",
            "Epoch 6/30\n",
            "1329/1329 [==============================] - 42s 32ms/step - loss: 0.7226 - accuracy: 0.7948 - val_loss: 0.8150 - val_accuracy: 0.7747\n",
            "Epoch 7/30\n",
            "1329/1329 [==============================] - 42s 32ms/step - loss: 0.6735 - accuracy: 0.8212 - val_loss: 0.8212 - val_accuracy: 0.7784\n",
            "Epoch 8/30\n",
            "1329/1329 [==============================] - 42s 32ms/step - loss: 0.6400 - accuracy: 0.8399 - val_loss: 0.7683 - val_accuracy: 0.8032\n",
            "Epoch 9/30\n",
            "1329/1329 [==============================] - 42s 32ms/step - loss: 0.5901 - accuracy: 0.8589 - val_loss: 0.7762 - val_accuracy: 0.8157\n",
            "Epoch 10/30\n",
            "1329/1329 [==============================] - 42s 32ms/step - loss: 0.5567 - accuracy: 0.8787 - val_loss: 0.8189 - val_accuracy: 0.8095\n",
            "\n",
            "Epoch 00010: ReduceLROnPlateau reducing learning rate to 0.00020000000949949026.\n",
            "Epoch 11/30\n",
            "1329/1329 [==============================] - 42s 32ms/step - loss: 0.4010 - accuracy: 0.9304 - val_loss: 0.7070 - val_accuracy: 0.8556\n",
            "Epoch 12/30\n",
            "1329/1329 [==============================] - 42s 32ms/step - loss: 0.3427 - accuracy: 0.9484 - val_loss: 0.7126 - val_accuracy: 0.8627\n",
            "Epoch 13/30\n",
            "1329/1329 [==============================] - 42s 32ms/step - loss: 0.3051 - accuracy: 0.9598 - val_loss: 0.7751 - val_accuracy: 0.8527\n",
            "Epoch 14/30\n",
            "1329/1329 [==============================] - 42s 32ms/step - loss: 0.2799 - accuracy: 0.9674 - val_loss: 0.7596 - val_accuracy: 0.8604\n",
            "Epoch 15/30\n",
            "1329/1329 [==============================] - 42s 32ms/step - loss: 0.2599 - accuracy: 0.9732 - val_loss: 0.7914 - val_accuracy: 0.8577\n",
            "Epoch 16/30\n",
            "1329/1329 [==============================] - 42s 32ms/step - loss: 0.2428 - accuracy: 0.9778 - val_loss: 0.8006 - val_accuracy: 0.8645\n",
            "\n",
            "Epoch 00016: ReduceLROnPlateau reducing learning rate to 4.0000001899898055e-05.\n",
            "Epoch 17/30\n",
            "1329/1329 [==============================] - 42s 32ms/step - loss: 0.2210 - accuracy: 0.9855 - val_loss: 0.7968 - val_accuracy: 0.8687\n",
            "Epoch 18/30\n",
            "1329/1329 [==============================] - 42s 32ms/step - loss: 0.2130 - accuracy: 0.9881 - val_loss: 0.8121 - val_accuracy: 0.8676\n",
            "Epoch 19/30\n",
            "1329/1329 [==============================] - 42s 32ms/step - loss: 0.2087 - accuracy: 0.9887 - val_loss: 0.8178 - val_accuracy: 0.8672\n",
            "Epoch 20/30\n",
            "1329/1329 [==============================] - 42s 32ms/step - loss: 0.2034 - accuracy: 0.9904 - val_loss: 0.8317 - val_accuracy: 0.8669\n",
            "Epoch 21/30\n",
            "1329/1329 [==============================] - 42s 32ms/step - loss: 0.1988 - accuracy: 0.9915 - val_loss: 0.8410 - val_accuracy: 0.8655\n",
            "\n",
            "Epoch 00021: ReduceLROnPlateau reducing learning rate to 8.000000525498762e-06.\n",
            "Epoch 00021: early stopping\n"
          ]
        }
      ]
    },
    {
      "cell_type": "code",
      "metadata": {
        "id": "bZd3aLhFCKzz",
        "colab": {
          "base_uri": "https://localhost:8080/",
          "height": 283
        },
        "outputId": "acdccd47-b6e6-4f3e-fc81-e4afccea2ba5"
      },
      "source": [
        "model.evaluate(test_images, test_oh_labels)\n",
        "show_history(history)"
      ],
      "execution_count": 13,
      "outputs": [
        {
          "output_type": "stream",
          "name": "stdout",
          "text": [
            "313/313 [==============================] - 3s 11ms/step - loss: 0.8750 - accuracy: 0.8579\n"
          ]
        },
        {
          "output_type": "display_data",
          "data": {
            "image/png": "[encoded data removed]",
            "text/plain": [
              "<Figure size 576x288 with 1 Axes>"
            ]
          },
          "metadata": {
            "needs_background": "light"
          }
        }
      ]
    }
  ]
}