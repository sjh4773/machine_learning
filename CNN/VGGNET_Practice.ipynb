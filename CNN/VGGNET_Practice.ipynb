{
  "nbformat": 4,
  "nbformat_minor": 0,
  "metadata": {
    "kernelspec": {
      "language": "python",
      "display_name": "Python 3",
      "name": "python3"
    },
    "language_info": {
      "name": "python",
      "version": "3.7.10",
      "mimetype": "text/x-python",
      "codemirror_mode": {
        "name": "ipython",
        "version": 3
      },
      "pygments_lexer": "ipython3",
      "nbconvert_exporter": "python",
      "file_extension": ".py"
    },
    "colab": {
      "name": "vgg-practice.ipynb",
      "provenance": []
    },
    "accelerator": "GPU"
  },
  "cells": [
    {
      "cell_type": "code",
      "metadata": {
        "execution": {
          "iopub.status.busy": "2021-10-08T09:18:16.771190Z",
          "iopub.execute_input": "2021-10-08T09:18:16.771571Z",
          "iopub.status.idle": "2021-10-08T09:18:16.776693Z",
          "shell.execute_reply.started": "2021-10-08T09:18:16.771516Z",
          "shell.execute_reply": "2021-10-08T09:18:16.775966Z"
        },
        "trusted": true,
        "id": "lsD-St3dNDy2"
      },
      "source": [
        "import numpy as np\n",
        "import pandas as pd\n",
        "import os"
      ],
      "execution_count": 2,
      "outputs": []
    },
    {
      "cell_type": "code",
      "metadata": {
        "execution": {
          "iopub.status.busy": "2021-10-08T09:18:16.778615Z",
          "iopub.execute_input": "2021-10-08T09:18:16.779080Z",
          "iopub.status.idle": "2021-10-08T09:18:18.634902Z",
          "shell.execute_reply.started": "2021-10-08T09:18:16.779016Z",
          "shell.execute_reply": "2021-10-08T09:18:18.634186Z"
        },
        "trusted": true,
        "colab": {
          "base_uri": "https://localhost:8080/"
        },
        "id": "DE_yKRE0NDy5",
        "outputId": "1531b5f8-1863-40ab-af8e-374e27f4ed54"
      },
      "source": [
        "from tensorflow.keras.applications.vgg16 import VGG16\n",
        "from tensorflow.keras.layers import Input\n",
        "from tensorflow.keras.models import Model\n",
        "\n",
        "input_tensor = Input(shape=(224, 224, 3))\n",
        "base_model = VGG16(input_tensor=input_tensor, include_top=True, weights='imagenet')\n",
        "model = Model(inputs=input_tensor, outputs=base_model.output)\n",
        "model.summary()"
      ],
      "execution_count": 3,
      "outputs": [
        {
          "output_type": "stream",
          "name": "stdout",
          "text": [
            "Downloading data from https://storage.googleapis.com/tensorflow/keras-applications/vgg16/vgg16_weights_tf_dim_ordering_tf_kernels.h5\n",
            "553467904/553467096 [==============================] - 6s 0us/step\n",
            "553476096/553467096 [==============================] - 6s 0us/step\n",
            "Model: \"model\"\n",
            "_________________________________________________________________\n",
            "Layer (type)                 Output Shape              Param #   \n",
            "=================================================================\n",
            "input_1 (InputLayer)         [(None, 224, 224, 3)]     0         \n",
            "_________________________________________________________________\n",
            "block1_conv1 (Conv2D)        (None, 224, 224, 64)      1792      \n",
            "_________________________________________________________________\n",
            "block1_conv2 (Conv2D)        (None, 224, 224, 64)      36928     \n",
            "_________________________________________________________________\n",
            "block1_pool (MaxPooling2D)   (None, 112, 112, 64)      0         \n",
            "_________________________________________________________________\n",
            "block2_conv1 (Conv2D)        (None, 112, 112, 128)     73856     \n",
            "_________________________________________________________________\n",
            "block2_conv2 (Conv2D)        (None, 112, 112, 128)     147584    \n",
            "_________________________________________________________________\n",
            "block2_pool (MaxPooling2D)   (None, 56, 56, 128)       0         \n",
            "_________________________________________________________________\n",
            "block3_conv1 (Conv2D)        (None, 56, 56, 256)       295168    \n",
            "_________________________________________________________________\n",
            "block3_conv2 (Conv2D)        (None, 56, 56, 256)       590080    \n",
            "_________________________________________________________________\n",
            "block3_conv3 (Conv2D)        (None, 56, 56, 256)       590080    \n",
            "_________________________________________________________________\n",
            "block3_pool (MaxPooling2D)   (None, 28, 28, 256)       0         \n",
            "_________________________________________________________________\n",
            "block4_conv1 (Conv2D)        (None, 28, 28, 512)       1180160   \n",
            "_________________________________________________________________\n",
            "block4_conv2 (Conv2D)        (None, 28, 28, 512)       2359808   \n",
            "_________________________________________________________________\n",
            "block4_conv3 (Conv2D)        (None, 28, 28, 512)       2359808   \n",
            "_________________________________________________________________\n",
            "block4_pool (MaxPooling2D)   (None, 14, 14, 512)       0         \n",
            "_________________________________________________________________\n",
            "block5_conv1 (Conv2D)        (None, 14, 14, 512)       2359808   \n",
            "_________________________________________________________________\n",
            "block5_conv2 (Conv2D)        (None, 14, 14, 512)       2359808   \n",
            "_________________________________________________________________\n",
            "block5_conv3 (Conv2D)        (None, 14, 14, 512)       2359808   \n",
            "_________________________________________________________________\n",
            "block5_pool (MaxPooling2D)   (None, 7, 7, 512)         0         \n",
            "_________________________________________________________________\n",
            "flatten (Flatten)            (None, 25088)             0         \n",
            "_________________________________________________________________\n",
            "fc1 (Dense)                  (None, 4096)              102764544 \n",
            "_________________________________________________________________\n",
            "fc2 (Dense)                  (None, 4096)              16781312  \n",
            "_________________________________________________________________\n",
            "predictions (Dense)          (None, 1000)              4097000   \n",
            "=================================================================\n",
            "Total params: 138,357,544\n",
            "Trainable params: 138,357,544\n",
            "Non-trainable params: 0\n",
            "_________________________________________________________________\n"
          ]
        }
      ]
    },
    {
      "cell_type": "code",
      "metadata": {
        "execution": {
          "iopub.status.busy": "2021-10-08T09:18:18.637831Z",
          "iopub.execute_input": "2021-10-08T09:18:18.638039Z",
          "iopub.status.idle": "2021-10-08T09:18:18.655056Z",
          "shell.execute_reply.started": "2021-10-08T09:18:18.638014Z",
          "shell.execute_reply": "2021-10-08T09:18:18.654342Z"
        },
        "trusted": true,
        "id": "Ae-592baNDy5"
      },
      "source": [
        "from tensorflow.keras.models import Model\n",
        "from tensorflow.keras.layers import Input, Dense , Conv2D , Dropout , Flatten , Activation, MaxPooling2D , GlobalAveragePooling2D\n",
        "from tensorflow.keras.optimizers import Adam , RMSprop \n",
        "from tensorflow.keras.layers import BatchNormalization\n",
        "from tensorflow.keras.callbacks import ReduceLROnPlateau , EarlyStopping , ModelCheckpoint , LearningRateScheduler\n",
        "\n",
        "def create_vggnet(in_shape=(224, 224, 3), n_classes=10):\n",
        "    input_tensor =Input(shape=in_shape)\n",
        "    \n",
        "    x = Conv2D(64, (3, 3), activation='relu', padding='same', name='block1_conv1')(input_tensor)\n",
        "    x = Conv2D(64, (3, 3), activation='relu', padding='same', name='block1_conv2')(x)\n",
        "    x = MaxPooling2D((2, 2), strides=(2, 2), name='block1_pool')(x)\n",
        "    \n",
        "    x = Conv2D(128, (3, 3), activation='relu', padding='same', name='block2_conv1')(input_tensor)\n",
        "    x = Conv2D(128, (3, 3), activation='relu', padding='same', name='block2_conv2')(x)\n",
        "    x = MaxPooling2D((2, 2), strides=(2, 2), name='block2_pool')(x)\n",
        "    \n",
        "    x = Conv2D(256, (3, 3), activation='relu', padding='same', name='block3_conv1')(input_tensor)\n",
        "    x = Conv2D(256, (3, 3), activation='relu', padding='same', name='block3_conv2')(x)\n",
        "    x = Conv2D(256, (3, 3), activation='relu', padding='same', name='block3_conv3')(x)\n",
        "    x = MaxPooling2D((2, 2), strides=(2, 2), name='block3_pool')(x)\n",
        "\n",
        "    x = Conv2D(512, (3, 3), activation='relu', padding='same', name='block4_conv1')(x)\n",
        "    x = Conv2D(512, (3, 3), activation='relu', padding='same', name='block4_conv2')(x)\n",
        "    x = Conv2D(512, (3, 3), activation='relu', padding='same', name='block4_conv3')(x)\n",
        "    x = MaxPooling2D((2, 2), strides=(2, 2), name='block4_pool')(x)\n",
        "\n",
        "    x = Conv2D(512, (3, 3), activation='relu', padding='same', name='block5_conv1')(x)\n",
        "    x = Conv2D(512, (3, 3), activation='relu', padding='same', name='block5_conv2')(x)\n",
        "    x = Conv2D(512, (3, 3), activation='relu', padding='same', name='block5_conv3')(x)\n",
        "    x = MaxPooling2D((2, 2), strides=(2, 2), name='block5_pool')(x)\n",
        "    \n",
        "    x = GlobalAveragePooling2D()(x)\n",
        "    x = Dropout(0.5)(x)\n",
        "    x = Dense(units = 120, activation = 'relu')(x)\n",
        "    x = Dropout(0.5)(x)\n",
        "    \n",
        "    output = Dense(units = n_classes, activation = 'softmax')(x)\n",
        "    \n",
        "    model = Model(inputs=input_tensor, outputs=output)\n",
        "    model.summary()\n",
        "    \n",
        "    return model"
      ],
      "execution_count": 4,
      "outputs": []
    },
    {
      "cell_type": "code",
      "metadata": {
        "execution": {
          "iopub.status.busy": "2021-10-08T09:18:18.655999Z",
          "iopub.execute_input": "2021-10-08T09:18:18.656789Z",
          "iopub.status.idle": "2021-10-08T09:18:18.803618Z",
          "shell.execute_reply.started": "2021-10-08T09:18:18.656750Z",
          "shell.execute_reply": "2021-10-08T09:18:18.801832Z"
        },
        "trusted": true,
        "colab": {
          "base_uri": "https://localhost:8080/"
        },
        "id": "qUG-m1iGNDy7",
        "outputId": "cf535c5b-5c83-4d62-ea75-923a6b19e18e"
      },
      "source": [
        "model = create_vggnet(in_shape=(224, 224, 3), n_classes=10)"
      ],
      "execution_count": 5,
      "outputs": [
        {
          "output_type": "stream",
          "name": "stdout",
          "text": [
            "Model: \"model_1\"\n",
            "_________________________________________________________________\n",
            "Layer (type)                 Output Shape              Param #   \n",
            "=================================================================\n",
            "input_2 (InputLayer)         [(None, 224, 224, 3)]     0         \n",
            "_________________________________________________________________\n",
            "block3_conv1 (Conv2D)        (None, 224, 224, 256)     7168      \n",
            "_________________________________________________________________\n",
            "block3_conv2 (Conv2D)        (None, 224, 224, 256)     590080    \n",
            "_________________________________________________________________\n",
            "block3_conv3 (Conv2D)        (None, 224, 224, 256)     590080    \n",
            "_________________________________________________________________\n",
            "block3_pool (MaxPooling2D)   (None, 112, 112, 256)     0         \n",
            "_________________________________________________________________\n",
            "block4_conv1 (Conv2D)        (None, 112, 112, 512)     1180160   \n",
            "_________________________________________________________________\n",
            "block4_conv2 (Conv2D)        (None, 112, 112, 512)     2359808   \n",
            "_________________________________________________________________\n",
            "block4_conv3 (Conv2D)        (None, 112, 112, 512)     2359808   \n",
            "_________________________________________________________________\n",
            "block4_pool (MaxPooling2D)   (None, 56, 56, 512)       0         \n",
            "_________________________________________________________________\n",
            "block5_conv1 (Conv2D)        (None, 56, 56, 512)       2359808   \n",
            "_________________________________________________________________\n",
            "block5_conv2 (Conv2D)        (None, 56, 56, 512)       2359808   \n",
            "_________________________________________________________________\n",
            "block5_conv3 (Conv2D)        (None, 56, 56, 512)       2359808   \n",
            "_________________________________________________________________\n",
            "block5_pool (MaxPooling2D)   (None, 28, 28, 512)       0         \n",
            "_________________________________________________________________\n",
            "global_average_pooling2d (Gl (None, 512)               0         \n",
            "_________________________________________________________________\n",
            "dropout (Dropout)            (None, 512)               0         \n",
            "_________________________________________________________________\n",
            "dense (Dense)                (None, 120)               61560     \n",
            "_________________________________________________________________\n",
            "dropout_1 (Dropout)          (None, 120)               0         \n",
            "_________________________________________________________________\n",
            "dense_1 (Dense)              (None, 10)                1210      \n",
            "=================================================================\n",
            "Total params: 14,229,298\n",
            "Trainable params: 14,229,298\n",
            "Non-trainable params: 0\n",
            "_________________________________________________________________\n"
          ]
        }
      ]
    },
    {
      "cell_type": "code",
      "metadata": {
        "execution": {
          "iopub.status.busy": "2021-10-08T09:18:18.806076Z",
          "iopub.execute_input": "2021-10-08T09:18:18.806421Z",
          "iopub.status.idle": "2021-10-08T09:18:18.814877Z",
          "shell.execute_reply.started": "2021-10-08T09:18:18.806381Z",
          "shell.execute_reply": "2021-10-08T09:18:18.813195Z"
        },
        "trusted": true,
        "id": "axcdoujSNDy8"
      },
      "source": [
        "from tensorflow.keras.layers import Conv2D, Dense, MaxPooling2D, GlobalAveragePooling2D, Input\n",
        "from tensorflow.keras.models import Model\n",
        "\n",
        "def conv_block(tensor_in, filters, kernel_size, repeats=2, pool_strides=(2, 2), block_id=1):\n",
        "    x = tensor_in\n",
        "    \n",
        "    for i in range(repeats):\n",
        "        conv_name = 'block'+str(block_id)+'_conv'+str(i+1)\n",
        "        x = Conv2D(filters=filters, kernel_size=kernel_size, activation='relu', padding='same', name=conv_name)(x)\n",
        "        \n",
        "    x = MaxPooling2D((2, 2), strides=pool_strides, name='block'+str(block_id)+'_pool')(x)\n",
        "    \n",
        "    return x"
      ],
      "execution_count": 6,
      "outputs": []
    },
    {
      "cell_type": "code",
      "metadata": {
        "execution": {
          "iopub.status.busy": "2021-10-08T09:18:18.816312Z",
          "iopub.execute_input": "2021-10-08T09:18:18.816670Z",
          "iopub.status.idle": "2021-10-08T09:18:18.856900Z",
          "shell.execute_reply.started": "2021-10-08T09:18:18.816635Z",
          "shell.execute_reply": "2021-10-08T09:18:18.856178Z"
        },
        "trusted": true,
        "colab": {
          "base_uri": "https://localhost:8080/"
        },
        "id": "o0z3IrLoNDy9",
        "outputId": "57bc31bf-ea32-4290-a309-5eed0e5ffc80"
      },
      "source": [
        "input_tensor = Input(shape=(224, 224, 3), name='test_input')\n",
        "x = conv_block(tensor_in=input_tensor, filters=64, kernel_size=(3, 3), repeats=3, pool_strides=(2, 2), block_id=1)\n",
        "\n",
        "conv_layers = Model(inputs=input_tensor, outputs=x)\n",
        "conv_layers.summary()"
      ],
      "execution_count": 7,
      "outputs": [
        {
          "output_type": "stream",
          "name": "stdout",
          "text": [
            "Model: \"model_2\"\n",
            "_________________________________________________________________\n",
            "Layer (type)                 Output Shape              Param #   \n",
            "=================================================================\n",
            "test_input (InputLayer)      [(None, 224, 224, 3)]     0         \n",
            "_________________________________________________________________\n",
            "block1_conv1 (Conv2D)        (None, 224, 224, 64)      1792      \n",
            "_________________________________________________________________\n",
            "block1_conv2 (Conv2D)        (None, 224, 224, 64)      36928     \n",
            "_________________________________________________________________\n",
            "block1_conv3 (Conv2D)        (None, 224, 224, 64)      36928     \n",
            "_________________________________________________________________\n",
            "block1_pool (MaxPooling2D)   (None, 112, 112, 64)      0         \n",
            "=================================================================\n",
            "Total params: 75,648\n",
            "Trainable params: 75,648\n",
            "Non-trainable params: 0\n",
            "_________________________________________________________________\n"
          ]
        }
      ]
    },
    {
      "cell_type": "code",
      "metadata": {
        "execution": {
          "iopub.status.busy": "2021-10-08T09:18:18.858084Z",
          "iopub.execute_input": "2021-10-08T09:18:18.858309Z",
          "iopub.status.idle": "2021-10-08T09:18:18.874112Z",
          "shell.execute_reply.started": "2021-10-08T09:18:18.858278Z",
          "shell.execute_reply": "2021-10-08T09:18:18.873368Z"
        },
        "trusted": true,
        "id": "NdhryDoRNDy-"
      },
      "source": [
        "def create_vggnet_by_block(in_shape=(224, 224, 3), n_classes=10):\n",
        "    input_tensor = Input(shape=in_shape, name='Input Tensor')\n",
        "    x = conv_block(input_tensor, filters=64, kernel_size=(3, 3), repeats=2, pool_strides=(2, 2), block_id=1)\n",
        "    \n",
        "    x = conv_block(x, filters=128, kernel_size=(3, 3), repeats=2, pool_strides=(2, 2), block_id=2)\n",
        "    \n",
        "    x = conv_block(x, filters=256, kernel_size=(3, 3), repeats=3, pool_strides=(2, 2), block_id=3)\n",
        "    \n",
        "    x = conv_block(x, filters=512, kernel_size=(3, 3), repeats=3, pool_strides=(2, 2), block_id=4)\n",
        "    \n",
        "    x = conv_block(x, filters=512, kernel_size=(3, 3), repeats=3, pool_strides=(2, 2), block_id=5)\n",
        "    \n",
        "    x = GlobalAveragePooling2D()(x)\n",
        "    x = Dropout(0.5)(x)\n",
        "    x = Dense(units = 120, activation = 'relu')(x)\n",
        "    x = Dropout(0.5)(x)\n",
        "    \n",
        "    output = Dense(units = n_classes, activation = 'softmax')(x)\n",
        "    model = Model(inputs=input_tensor, outputs=output, name='vgg_by_block')\n",
        "    model.summary()\n",
        "    \n",
        "    return model"
      ],
      "execution_count": 8,
      "outputs": []
    },
    {
      "cell_type": "code",
      "metadata": {
        "execution": {
          "iopub.status.busy": "2021-10-08T09:18:18.875943Z",
          "iopub.execute_input": "2021-10-08T09:18:18.876139Z",
          "iopub.status.idle": "2021-10-08T09:18:19.011035Z",
          "shell.execute_reply.started": "2021-10-08T09:18:18.876113Z",
          "shell.execute_reply": "2021-10-08T09:18:19.010246Z"
        },
        "trusted": true,
        "colab": {
          "base_uri": "https://localhost:8080/"
        },
        "id": "GmntrGZVNDy_",
        "outputId": "f91e8914-9123-4459-9845-f525e7f5ee83"
      },
      "source": [
        "model = create_vggnet_by_block(in_shape=(224, 224, 3), n_classes=10)"
      ],
      "execution_count": 9,
      "outputs": [
        {
          "output_type": "stream",
          "name": "stdout",
          "text": [
            "Model: \"vgg_by_block\"\n",
            "_________________________________________________________________\n",
            "Layer (type)                 Output Shape              Param #   \n",
            "=================================================================\n",
            "Input Tensor (InputLayer)    [(None, 224, 224, 3)]     0         \n",
            "_________________________________________________________________\n",
            "block1_conv1 (Conv2D)        (None, 224, 224, 64)      1792      \n",
            "_________________________________________________________________\n",
            "block1_conv2 (Conv2D)        (None, 224, 224, 64)      36928     \n",
            "_________________________________________________________________\n",
            "block1_pool (MaxPooling2D)   (None, 112, 112, 64)      0         \n",
            "_________________________________________________________________\n",
            "block2_conv1 (Conv2D)        (None, 112, 112, 128)     73856     \n",
            "_________________________________________________________________\n",
            "block2_conv2 (Conv2D)        (None, 112, 112, 128)     147584    \n",
            "_________________________________________________________________\n",
            "block2_pool (MaxPooling2D)   (None, 56, 56, 128)       0         \n",
            "_________________________________________________________________\n",
            "block3_conv1 (Conv2D)        (None, 56, 56, 256)       295168    \n",
            "_________________________________________________________________\n",
            "block3_conv2 (Conv2D)        (None, 56, 56, 256)       590080    \n",
            "_________________________________________________________________\n",
            "block3_conv3 (Conv2D)        (None, 56, 56, 256)       590080    \n",
            "_________________________________________________________________\n",
            "block3_pool (MaxPooling2D)   (None, 28, 28, 256)       0         \n",
            "_________________________________________________________________\n",
            "block4_conv1 (Conv2D)        (None, 28, 28, 512)       1180160   \n",
            "_________________________________________________________________\n",
            "block4_conv2 (Conv2D)        (None, 28, 28, 512)       2359808   \n",
            "_________________________________________________________________\n",
            "block4_conv3 (Conv2D)        (None, 28, 28, 512)       2359808   \n",
            "_________________________________________________________________\n",
            "block4_pool (MaxPooling2D)   (None, 14, 14, 512)       0         \n",
            "_________________________________________________________________\n",
            "block5_conv1 (Conv2D)        (None, 14, 14, 512)       2359808   \n",
            "_________________________________________________________________\n",
            "block5_conv2 (Conv2D)        (None, 14, 14, 512)       2359808   \n",
            "_________________________________________________________________\n",
            "block5_conv3 (Conv2D)        (None, 14, 14, 512)       2359808   \n",
            "_________________________________________________________________\n",
            "block5_pool (MaxPooling2D)   (None, 7, 7, 512)         0         \n",
            "_________________________________________________________________\n",
            "global_average_pooling2d_1 ( (None, 512)               0         \n",
            "_________________________________________________________________\n",
            "dropout_2 (Dropout)          (None, 512)               0         \n",
            "_________________________________________________________________\n",
            "dense_2 (Dense)              (None, 120)               61560     \n",
            "_________________________________________________________________\n",
            "dropout_3 (Dropout)          (None, 120)               0         \n",
            "_________________________________________________________________\n",
            "dense_3 (Dense)              (None, 10)                1210      \n",
            "=================================================================\n",
            "Total params: 14,777,458\n",
            "Trainable params: 14,777,458\n",
            "Non-trainable params: 0\n",
            "_________________________________________________________________\n"
          ]
        }
      ]
    },
    {
      "cell_type": "code",
      "metadata": {
        "execution": {
          "iopub.status.busy": "2021-10-08T09:18:19.012486Z",
          "iopub.execute_input": "2021-10-08T09:18:19.012775Z",
          "iopub.status.idle": "2021-10-08T09:18:19.016713Z",
          "shell.execute_reply.started": "2021-10-08T09:18:19.012737Z",
          "shell.execute_reply": "2021-10-08T09:18:19.015889Z"
        },
        "trusted": true,
        "id": "2bpAhwENNDzA"
      },
      "source": [
        "IMAGE_SIZE = 128\n",
        "BATCH_SIZE = 64"
      ],
      "execution_count": 10,
      "outputs": []
    },
    {
      "cell_type": "code",
      "metadata": {
        "execution": {
          "iopub.status.busy": "2021-10-08T09:18:19.018188Z",
          "iopub.execute_input": "2021-10-08T09:18:19.018513Z",
          "iopub.status.idle": "2021-10-08T09:18:19.038746Z",
          "shell.execute_reply.started": "2021-10-08T09:18:19.018474Z",
          "shell.execute_reply": "2021-10-08T09:18:19.037934Z"
        },
        "trusted": true,
        "id": "G6g-LPERNDzA"
      },
      "source": [
        "import tensorflow as tf\n",
        "import numpy as np\n",
        "import pandas as pd\n",
        "\n",
        "import random as python_random\n",
        "from tensorflow.keras.utils import to_categorical\n",
        "from sklearn.model_selection import train_test_split\n",
        "from tensorflow.keras.datasets import cifar10\n",
        "from tensorflow.keras.utils import Sequence\n",
        "import cv2\n",
        "import sklearn\n",
        "\n",
        "def zero_one_scaler(image):\n",
        "    return image/255.0\n",
        "\n",
        "def get_preprocessed_ohe(images, labels, pre_func=None):\n",
        "    if pre_func is not None:\n",
        "        images = pre_func(images)\n",
        "    oh_labels = to_categorical(labels)\n",
        "    return images, oh_labels\n",
        "\n",
        "def get_train_valid_test_set(train_images, train_labels, test_images, test_labels, valid_size=0.15, random_state=2021):\n",
        "    train_images, train_oh_labels = get_preprocessed_ohe(train_images, train_labels)\n",
        "    test_images, test_oh_labels = get_preprocessed_ohe(test_images, test_labels)\n",
        "    \n",
        "    tr_images, val_images, tr_oh_labels, val_oh_labels = train_test_split(train_images, train_oh_labels, test_size=valid_size, random_state=random_state)\n",
        "    \n",
        "    return (tr_images, tr_oh_labels), (val_images, val_oh_labels), (test_images, test_oh_labels)\n",
        "\n",
        "from tensorflow.keras.utils import Sequence\n",
        "import cv2\n",
        "import sklearn\n",
        "\n",
        "class CIFAR_Dataset(Sequence):\n",
        "    def __init__(self, images_array, labels, batch_size=BATCH_SIZE, augmentor=None, shuffle=False, pre_func=None):\n",
        "        self.images_array = images_array\n",
        "        self.labels = labels\n",
        "        self.batch_size = batch_size\n",
        "        self.augmentor = augmentor\n",
        "        self.pre_func = pre_func\n",
        "        self.shuffle = shuffle\n",
        "        if self.shuffle:\n",
        "            #self.on_epoch_end()\n",
        "            pass\n",
        "        \n",
        "    def __len__(self):\n",
        "        return int(np.ceil(len(self.labels) / self.batch_size))\n",
        "    \n",
        "    def __getitem__(self, index):\n",
        "        images_fetch = self.images_array[index*self.batch_size:(index+1)*self.batch_size]\n",
        "        if self.labels is not None:\n",
        "            label_batch = self.labels[index*self.batch_size:(index+1)*self.batch_size]\n",
        "            \n",
        "        image_batch = np.zeros((images_fetch.shape[0], IMAGE_SIZE, IMAGE_SIZE, 3), dtype='float32')\n",
        "        \n",
        "        for image_index in range(images_fetch.shape[0]):\n",
        "            image = cv2.resize(images_fetch[image_index], (IMAGE_SIZE, IMAGE_SIZE))\n",
        "            if self.augmentor is not None:\n",
        "                image = self.augmentor(image=image)['image']\n",
        "                \n",
        "            if self.pre_func is not None:\n",
        "                image = self.pre_func(image)\n",
        "                \n",
        "            image_batch[image_index]=image\n",
        "            \n",
        "        return image_batch, label_batch\n",
        "    \n",
        "    def on_epoch_end(self):\n",
        "        if(self.shuffle):\n",
        "            self.images_array, self.labels = sklearn.utils.shuffle(self.images_array, self.labels)\n",
        "        else:\n",
        "            pass"
      ],
      "execution_count": 11,
      "outputs": []
    },
    {
      "cell_type": "code",
      "metadata": {
        "execution": {
          "iopub.status.busy": "2021-10-08T09:18:19.040457Z",
          "iopub.execute_input": "2021-10-08T09:18:19.040704Z",
          "iopub.status.idle": "2021-10-08T09:18:19.858654Z",
          "shell.execute_reply.started": "2021-10-08T09:18:19.040677Z",
          "shell.execute_reply": "2021-10-08T09:18:19.857913Z"
        },
        "trusted": true,
        "colab": {
          "base_uri": "https://localhost:8080/"
        },
        "id": "3-K4HiogNDzB",
        "outputId": "5cc175a7-2f97-4410-e1ef-470ed3c8131a"
      },
      "source": [
        "(train_images, train_labels), (test_images, test_labels) = cifar10.load_data()\n",
        "print(train_images.shape, train_labels.shape, test_images.shape, test_labels.shape)\n",
        "\n",
        "(tr_images, tr_oh_labels), (val_images, val_oh_labels), (test_images, test_oh_labels) = get_train_valid_test_set(train_images, train_labels ,test_images, test_labels, valid_size=0.2, random_state=2021)\n",
        "print(tr_images.shape, tr_oh_labels.shape, val_images.shape, val_oh_labels.shape, test_images.shape, test_oh_labels.shape)"
      ],
      "execution_count": 12,
      "outputs": [
        {
          "output_type": "stream",
          "name": "stdout",
          "text": [
            "Downloading data from https://www.cs.toronto.edu/~kriz/cifar-10-python.tar.gz\n",
            "170500096/170498071 [==============================] - 2s 0us/step\n",
            "170508288/170498071 [==============================] - 2s 0us/step\n",
            "(50000, 32, 32, 3) (50000, 1) (10000, 32, 32, 3) (10000, 1)\n",
            "(40000, 32, 32, 3) (40000, 10) (10000, 32, 32, 3) (10000, 10) (10000, 32, 32, 3) (10000, 10)\n"
          ]
        }
      ]
    },
    {
      "cell_type": "code",
      "metadata": {
        "execution": {
          "iopub.status.busy": "2021-10-08T09:18:19.860067Z",
          "iopub.execute_input": "2021-10-08T09:18:19.860411Z",
          "iopub.status.idle": "2021-10-08T09:18:19.944777Z",
          "shell.execute_reply.started": "2021-10-08T09:18:19.860345Z",
          "shell.execute_reply": "2021-10-08T09:18:19.943918Z"
        },
        "trusted": true,
        "colab": {
          "base_uri": "https://localhost:8080/"
        },
        "id": "szJRy_2ZNDzC",
        "outputId": "9a5578a3-a638-43f6-8b56-1cdc67069d35"
      },
      "source": [
        "from tensorflow.keras.applications.vgg16 import preprocess_input as vgg_preprocess\n",
        "\n",
        "tr_ds = CIFAR_Dataset(tr_images, tr_oh_labels, batch_size=BATCH_SIZE, augmentor=None, shuffle=True, pre_func=vgg_preprocess)\n",
        "val_ds = CIFAR_Dataset(val_images, val_oh_labels, batch_size=BATCH_SIZE, augmentor=None, shuffle=False, pre_func=vgg_preprocess)\n",
        "\n",
        "print(next(iter(tr_ds))[0].shape, next(iter(val_ds))[0].shape)\n",
        "print(next(iter(tr_ds))[1].shape, next(iter(val_ds))[1].shape)\n",
        "print(next(iter(tr_ds))[0][0])"
      ],
      "execution_count": 13,
      "outputs": [
        {
          "output_type": "stream",
          "name": "stdout",
          "text": [
            "(64, 128, 128, 3) (64, 128, 128, 3)\n",
            "(64, 10) (64, 10)\n",
            "[[[ 73.061     57.221     40.32    ]\n",
            "  [ 73.061     57.221     40.32    ]\n",
            "  [ 70.061     54.221     38.32    ]\n",
            "  ...\n",
            "  [-34.939003 -42.779    -50.68    ]\n",
            "  [-35.939003 -44.779    -53.68    ]\n",
            "  [-35.939003 -44.779    -53.68    ]]\n",
            "\n",
            " [[ 73.061     57.221     40.32    ]\n",
            "  [ 73.061     57.221     40.32    ]\n",
            "  [ 70.061     54.221     38.32    ]\n",
            "  ...\n",
            "  [-34.939003 -42.779    -50.68    ]\n",
            "  [-35.939003 -44.779    -53.68    ]\n",
            "  [-35.939003 -44.779    -53.68    ]]\n",
            "\n",
            " [[ 75.061     59.221     42.32    ]\n",
            "  [ 75.061     59.221     42.32    ]\n",
            "  [ 72.061     56.221     40.32    ]\n",
            "  ...\n",
            "  [-34.939003 -42.779    -50.68    ]\n",
            "  [-35.939003 -44.779    -52.68    ]\n",
            "  [-35.939003 -44.779    -52.68    ]]\n",
            "\n",
            " ...\n",
            "\n",
            " [[120.061    102.221    109.32    ]\n",
            "  [120.061    102.221    109.32    ]\n",
            "  [116.061     99.221    107.32    ]\n",
            "  ...\n",
            "  [-35.939003 -44.779    -55.68    ]\n",
            "  [-34.939003 -43.779    -53.68    ]\n",
            "  [-34.939003 -43.779    -53.68    ]]\n",
            "\n",
            " [[121.061    103.221    110.32    ]\n",
            "  [121.061    103.221    110.32    ]\n",
            "  [117.061    100.221    107.32    ]\n",
            "  ...\n",
            "  [-36.939003 -45.779    -56.68    ]\n",
            "  [-35.939003 -44.779    -54.68    ]\n",
            "  [-35.939003 -44.779    -54.68    ]]\n",
            "\n",
            " [[121.061    103.221    110.32    ]\n",
            "  [121.061    103.221    110.32    ]\n",
            "  [117.061    100.221    107.32    ]\n",
            "  ...\n",
            "  [-36.939003 -45.779    -55.68    ]\n",
            "  [-35.939003 -44.779    -54.68    ]\n",
            "  [-35.939003 -44.779    -54.68    ]]]\n"
          ]
        }
      ]
    },
    {
      "cell_type": "code",
      "metadata": {
        "execution": {
          "iopub.status.busy": "2021-10-08T09:18:19.946051Z",
          "iopub.execute_input": "2021-10-08T09:18:19.946846Z",
          "iopub.status.idle": "2021-10-08T09:18:38.827408Z",
          "shell.execute_reply.started": "2021-10-08T09:18:19.946803Z",
          "shell.execute_reply": "2021-10-08T09:18:38.825969Z"
        },
        "trusted": true,
        "colab": {
          "base_uri": "https://localhost:8080/"
        },
        "id": "3xcIAXoRNDzC",
        "outputId": "cbab6501-76a3-4ae4-816f-9d92aedc4179"
      },
      "source": [
        "vgg_model = create_vggnet_by_block(in_shape=(128, 128, 3), n_classes=10)\n",
        "\n",
        "vgg_model.compile(optimizer=Adam(lr=0.0001), loss='categorical_crossentropy', metrics=['accuracy'])\n",
        "\n",
        "# 5번 iteration내에 validation loss가 향상되지 않으면 learning rate을 기존 learning rate * 0.2로 줄임.  \n",
        "rlr_cb = ReduceLROnPlateau(monitor='val_loss', factor=0.2, patience=5, mode='min', verbose=1)\n",
        "ely_cb = EarlyStopping(monitor='val_loss', patience=3, mode='min', verbose=1)\n",
        "\n",
        "history = vgg_model.fit(tr_ds, epochs=30, \n",
        "                    #steps_per_epoch=int(np.ceil(tr_images.shape[0]/BATCH_SIZE)),\n",
        "                    validation_data=val_ds, \n",
        "                    #validation_steps=int(np.ceil(val_images.shape[0]/BATCH_SIZE)), \n",
        "                    callbacks=[rlr_cb, ely_cb]\n",
        "                   )"
      ],
      "execution_count": 14,
      "outputs": [
        {
          "metadata": {
            "tags": null
          },
          "name": "stdout",
          "output_type": "stream",
          "text": [
            "Model: \"vgg_by_block\"\n",
            "_________________________________________________________________\n",
            "Layer (type)                 Output Shape              Param #   \n",
            "=================================================================\n",
            "Input Tensor (InputLayer)    [(None, 128, 128, 3)]     0         \n",
            "_________________________________________________________________\n",
            "block1_conv1 (Conv2D)        (None, 128, 128, 64)      1792      \n",
            "_________________________________________________________________\n",
            "block1_conv2 (Conv2D)        (None, 128, 128, 64)      36928     \n",
            "_________________________________________________________________\n",
            "block1_pool (MaxPooling2D)   (None, 64, 64, 64)        0         \n",
            "_________________________________________________________________\n",
            "block2_conv1 (Conv2D)        (None, 64, 64, 128)       73856     \n",
            "_________________________________________________________________\n",
            "block2_conv2 (Conv2D)        (None, 64, 64, 128)       147584    \n",
            "_________________________________________________________________\n",
            "block2_pool (MaxPooling2D)   (None, 32, 32, 128)       0         \n",
            "_________________________________________________________________\n",
            "block3_conv1 (Conv2D)        (None, 32, 32, 256)       295168    \n",
            "_________________________________________________________________\n",
            "block3_conv2 (Conv2D)        (None, 32, 32, 256)       590080    \n",
            "_________________________________________________________________\n",
            "block3_conv3 (Conv2D)        (None, 32, 32, 256)       590080    \n",
            "_________________________________________________________________\n",
            "block3_pool (MaxPooling2D)   (None, 16, 16, 256)       0         \n",
            "_________________________________________________________________\n",
            "block4_conv1 (Conv2D)        (None, 16, 16, 512)       1180160   \n",
            "_________________________________________________________________\n",
            "block4_conv2 (Conv2D)        (None, 16, 16, 512)       2359808   \n",
            "_________________________________________________________________\n",
            "block4_conv3 (Conv2D)        (None, 16, 16, 512)       2359808   \n",
            "_________________________________________________________________\n",
            "block4_pool (MaxPooling2D)   (None, 8, 8, 512)         0         \n",
            "_________________________________________________________________\n",
            "block5_conv1 (Conv2D)        (None, 8, 8, 512)         2359808   \n",
            "_________________________________________________________________\n",
            "block5_conv2 (Conv2D)        (None, 8, 8, 512)         2359808   \n",
            "_________________________________________________________________\n",
            "block5_conv3 (Conv2D)        (None, 8, 8, 512)         2359808   \n",
            "_________________________________________________________________\n",
            "block5_pool (MaxPooling2D)   (None, 4, 4, 512)         0         \n",
            "_________________________________________________________________\n",
            "global_average_pooling2d_2 ( (None, 512)               0         \n",
            "_________________________________________________________________\n",
            "dropout_4 (Dropout)          (None, 512)               0         \n",
            "_________________________________________________________________\n",
            "dense_4 (Dense)              (None, 120)               61560     \n",
            "_________________________________________________________________\n",
            "dropout_5 (Dropout)          (None, 120)               0         \n",
            "_________________________________________________________________\n",
            "dense_5 (Dense)              (None, 10)                1210      \n",
            "=================================================================\n",
            "Total params: 14,777,458\n",
            "Trainable params: 14,777,458\n",
            "Non-trainable params: 0\n",
            "_________________________________________________________________\n"
          ]
        },
        {
          "metadata": {
            "tags": null
          },
          "name": "stderr",
          "output_type": "stream",
          "text": [
            "/usr/local/lib/python3.7/dist-packages/keras/optimizer_v2/optimizer_v2.py:356: UserWarning: The `lr` argument is deprecated, use `learning_rate` instead.\n",
            "  \"The `lr` argument is deprecated, use `learning_rate` instead.\")\n"
          ]
        },
        {
          "output_type": "stream",
          "name": "stdout",
          "text": [
            "Epoch 1/30\n",
            "625/625 [==============================] - 394s 564ms/step - loss: 1.9613 - accuracy: 0.2482 - val_loss: 1.5769 - val_accuracy: 0.4042\n",
            "Epoch 2/30\n",
            "625/625 [==============================] - 350s 560ms/step - loss: 1.5067 - accuracy: 0.4384 - val_loss: 1.1821 - val_accuracy: 0.5656\n",
            "Epoch 3/30\n",
            "625/625 [==============================] - 351s 561ms/step - loss: 1.1907 - accuracy: 0.5782 - val_loss: 0.9266 - val_accuracy: 0.6631\n",
            "Epoch 4/30\n",
            "625/625 [==============================] - 351s 561ms/step - loss: 0.9602 - accuracy: 0.6662 - val_loss: 0.8276 - val_accuracy: 0.7076\n",
            "Epoch 5/30\n",
            "625/625 [==============================] - 351s 562ms/step - loss: 0.7986 - accuracy: 0.7276 - val_loss: 0.7514 - val_accuracy: 0.7482\n",
            "Epoch 6/30\n",
            "625/625 [==============================] - 351s 562ms/step - loss: 0.6560 - accuracy: 0.7811 - val_loss: 0.6685 - val_accuracy: 0.7795\n",
            "Epoch 7/30\n",
            "625/625 [==============================] - 351s 562ms/step - loss: 0.5318 - accuracy: 0.8225 - val_loss: 0.6631 - val_accuracy: 0.7759\n",
            "Epoch 8/30\n",
            "625/625 [==============================] - 351s 562ms/step - loss: 0.4222 - accuracy: 0.8630 - val_loss: 0.6162 - val_accuracy: 0.7994\n",
            "Epoch 9/30\n",
            "625/625 [==============================] - 352s 563ms/step - loss: 0.3310 - accuracy: 0.8933 - val_loss: 0.6211 - val_accuracy: 0.8048\n",
            "Epoch 10/30\n",
            "625/625 [==============================] - 352s 563ms/step - loss: 0.2711 - accuracy: 0.9142 - val_loss: 0.6106 - val_accuracy: 0.8202\n",
            "Epoch 11/30\n",
            "625/625 [==============================] - 351s 562ms/step - loss: 0.2074 - accuracy: 0.9347 - val_loss: 0.6355 - val_accuracy: 0.8170\n",
            "Epoch 12/30\n",
            "625/625 [==============================] - 351s 561ms/step - loss: 0.1605 - accuracy: 0.9500 - val_loss: 0.6666 - val_accuracy: 0.8225\n",
            "Epoch 13/30\n",
            "625/625 [==============================] - 351s 561ms/step - loss: 0.1363 - accuracy: 0.9588 - val_loss: 0.6848 - val_accuracy: 0.8259\n",
            "Epoch 00013: early stopping\n"
          ]
        }
      ]
    },
    {
      "cell_type": "code",
      "metadata": {
        "execution": {
          "iopub.status.busy": "2021-10-08T09:18:38.828694Z",
          "iopub.status.idle": "2021-10-08T09:18:38.829120Z",
          "shell.execute_reply.started": "2021-10-08T09:18:38.828885Z",
          "shell.execute_reply": "2021-10-08T09:18:38.828908Z"
        },
        "trusted": true,
        "colab": {
          "base_uri": "https://localhost:8080/"
        },
        "id": "LXtnhguLNDzD",
        "outputId": "08033a7b-979c-42c2-f7c6-0e227d0d646f"
      },
      "source": [
        "from tensorflow.keras.applications.vgg16 import preprocess_input as vgg_preprocess\n",
        "\n",
        "test_ds = CIFAR_Dataset(test_images, test_oh_labels, batch_size=BATCH_SIZE, augmentor=None, shuffle=False, pre_func=vgg_preprocess)\n",
        "vgg_model.evaluate(test_ds)"
      ],
      "execution_count": 16,
      "outputs": [
        {
          "output_type": "stream",
          "name": "stdout",
          "text": [
            "157/157 [==============================] - 26s 163ms/step - loss: 0.6999 - accuracy: 0.8244\n"
          ]
        },
        {
          "output_type": "execute_result",
          "data": {
            "text/plain": [
              "[0.6999322772026062, 0.824400007724762]"
            ]
          },
          "metadata": {},
          "execution_count": 16
        }
      ]
    }
  ]
}