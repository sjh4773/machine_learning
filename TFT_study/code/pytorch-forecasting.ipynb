{
 "cells": [
  {
   "cell_type": "markdown",
   "id": "threaded-yeast",
   "metadata": {
    "papermill": {
     "duration": 0.05132,
     "end_time": "2021-06-09T08:35:38.837274",
     "exception": false,
     "start_time": "2021-06-09T08:35:38.785954",
     "status": "completed"
    },
    "tags": []
   },
   "source": [
    "# PYTORCH_forecasting를 사용한 전력사용량 예측\n"
   ]
  },
  {
   "cell_type": "code",
   "execution_count": 1,
   "id": "behind-constant",
   "metadata": {
    "_cell_guid": "b1076dfc-b9ad-4769-8c92-a6c4dae69d19",
    "_uuid": "8f2839f25d086af736a60e9eeb907d3b93b6e0e5",
    "execution": {
     "iopub.execute_input": "2021-06-09T08:35:38.950140Z",
     "iopub.status.busy": "2021-06-09T08:35:38.948907Z",
     "iopub.status.idle": "2021-06-09T08:35:38.951826Z",
     "shell.execute_reply": "2021-06-09T08:35:38.951284Z",
     "shell.execute_reply.started": "2021-06-09T08:00:06.292684Z"
    },
    "papermill": {
     "duration": 0.064363,
     "end_time": "2021-06-09T08:35:38.951962",
     "exception": false,
     "start_time": "2021-06-09T08:35:38.887599",
     "status": "completed"
    },
    "tags": []
   },
   "outputs": [],
   "source": [
    "# This Python 3 environment comes with many helpful analytics libraries installed\n",
    "# It is defined by the kaggle/python Docker image: https://github.com/kaggle/docker-python\n",
    "# For example, here's several helpful packages to load\n",
    "\n",
    "import numpy as np # linear algebra\n",
    "import pandas as pd # data processing, CSV file I/O (e.g. pd.read_csv)\n",
    "\n",
    "# Input data files are available in the read-only \"../input/\" directory\n",
    "# For example, running this (by clicking run or pressing Shift+Enter) will list all files under the input directory\n",
    "\n",
    "import os\n",
    "for dirname, _, filenames in os.walk('/kaggle/inpu'):\n",
    "    for filename in filenames:\n",
    "        print(os.path.join(dirname, filename))\n",
    "\n",
    "# You can write up to 20GB to the current directory (/kaggle/working/) that gets preserved as output when you create a version using \"Save & Run All\" \n",
    "# You can also write temporary files to /kaggle/temp/, but they won't be saved outside of the current session"
   ]
  },
  {
   "cell_type": "code",
   "execution_count": 2,
   "id": "painted-baltimore",
   "metadata": {
    "execution": {
     "iopub.execute_input": "2021-06-09T08:35:39.067226Z",
     "iopub.status.busy": "2021-06-09T08:35:39.059222Z",
     "iopub.status.idle": "2021-06-09T08:35:46.884159Z",
     "shell.execute_reply": "2021-06-09T08:35:46.885065Z",
     "shell.execute_reply.started": "2021-06-09T08:00:06.311587Z"
    },
    "papermill": {
     "duration": 7.883369,
     "end_time": "2021-06-09T08:35:46.885253",
     "exception": false,
     "start_time": "2021-06-09T08:35:39.001884",
     "status": "completed"
    },
    "tags": []
   },
   "outputs": [
    {
     "name": "stdout",
     "output_type": "stream",
     "text": [
      "Looking in links: https://download.pytorch.org/whl/torch_stable.html.\r\n",
      "Requirement already satisfied: torch in /opt/conda/lib/python3.7/site-packages (1.7.0)\r\n",
      "Requirement already satisfied: future in /opt/conda/lib/python3.7/site-packages (from torch) (0.18.2)\r\n",
      "Requirement already satisfied: typing_extensions in /opt/conda/lib/python3.7/site-packages (from torch) (3.7.4.3)\r\n",
      "Requirement already satisfied: dataclasses in /opt/conda/lib/python3.7/site-packages (from torch) (0.6)\r\n",
      "Requirement already satisfied: numpy in /opt/conda/lib/python3.7/site-packages (from torch) (1.19.5)\r\n",
      "Note: you may need to restart the kernel to use updated packages.\n"
     ]
    }
   ],
   "source": [
    "pip install torch -f https://download.pytorch.org/whl/torch_stable.html."
   ]
  },
  {
   "cell_type": "code",
   "execution_count": 3,
   "id": "false-salem",
   "metadata": {
    "execution": {
     "iopub.execute_input": "2021-06-09T08:35:46.997992Z",
     "iopub.status.busy": "2021-06-09T08:35:46.994568Z",
     "iopub.status.idle": "2021-06-09T08:35:53.755182Z",
     "shell.execute_reply": "2021-06-09T08:35:53.754661Z",
     "shell.execute_reply.started": "2021-06-09T08:00:14.123679Z"
    },
    "papermill": {
     "duration": 6.817033,
     "end_time": "2021-06-09T08:35:53.755331",
     "exception": false,
     "start_time": "2021-06-09T08:35:46.938298",
     "status": "completed"
    },
    "tags": []
   },
   "outputs": [
    {
     "name": "stdout",
     "output_type": "stream",
     "text": [
      "Collecting pytorch-forecasting\r\n",
      "  Downloading pytorch_forecasting-0.9.0-py3-none-any.whl (112 kB)\r\n",
      "\u001b[K     |████████████████████████████████| 112 kB 4.4 MB/s \r\n",
      "\u001b[?25hRequirement already satisfied: optuna<3.0.0,>=2.3.0 in /opt/conda/lib/python3.7/site-packages (from pytorch-forecasting) (2.7.0)\r\n",
      "Requirement already satisfied: statsmodels in /opt/conda/lib/python3.7/site-packages (from pytorch-forecasting) (0.12.2)\r\n",
      "Requirement already satisfied: matplotlib in /opt/conda/lib/python3.7/site-packages (from pytorch-forecasting) (3.4.1)\r\n",
      "Requirement already satisfied: scipy in /opt/conda/lib/python3.7/site-packages (from pytorch-forecasting) (1.5.4)\r\n",
      "Requirement already satisfied: scikit-learn<0.25,>=0.23 in /opt/conda/lib/python3.7/site-packages (from pytorch-forecasting) (0.24.1)\r\n",
      "Requirement already satisfied: torch<2.0,>=1.7 in /opt/conda/lib/python3.7/site-packages (from pytorch-forecasting) (1.7.0)\r\n",
      "Requirement already satisfied: pytorch-lightning<2.0.0,>=1.2.4 in /opt/conda/lib/python3.7/site-packages (from pytorch-forecasting) (1.2.8)\r\n",
      "Requirement already satisfied: pandas<2.0.0,>=1.1.0 in /opt/conda/lib/python3.7/site-packages (from pytorch-forecasting) (1.1.5)\r\n",
      "Requirement already satisfied: sqlalchemy>=1.1.0 in /opt/conda/lib/python3.7/site-packages (from optuna<3.0.0,>=2.3.0->pytorch-forecasting) (1.4.3)\r\n",
      "Requirement already satisfied: tqdm in /opt/conda/lib/python3.7/site-packages (from optuna<3.0.0,>=2.3.0->pytorch-forecasting) (4.59.0)\r\n",
      "Requirement already satisfied: alembic in /opt/conda/lib/python3.7/site-packages (from optuna<3.0.0,>=2.3.0->pytorch-forecasting) (1.5.8)\r\n",
      "Requirement already satisfied: cliff in /opt/conda/lib/python3.7/site-packages (from optuna<3.0.0,>=2.3.0->pytorch-forecasting) (3.7.0)\r\n",
      "Requirement already satisfied: cmaes>=0.8.2 in /opt/conda/lib/python3.7/site-packages (from optuna<3.0.0,>=2.3.0->pytorch-forecasting) (0.8.2)\r\n",
      "Requirement already satisfied: numpy in /opt/conda/lib/python3.7/site-packages (from optuna<3.0.0,>=2.3.0->pytorch-forecasting) (1.19.5)\r\n",
      "Requirement already satisfied: colorlog in /opt/conda/lib/python3.7/site-packages (from optuna<3.0.0,>=2.3.0->pytorch-forecasting) (5.0.1)\r\n",
      "Requirement already satisfied: packaging>=20.0 in /opt/conda/lib/python3.7/site-packages (from optuna<3.0.0,>=2.3.0->pytorch-forecasting) (20.9)\r\n",
      "Requirement already satisfied: pyparsing>=2.0.2 in /opt/conda/lib/python3.7/site-packages (from packaging>=20.0->optuna<3.0.0,>=2.3.0->pytorch-forecasting) (2.4.7)\r\n",
      "Requirement already satisfied: python-dateutil>=2.7.3 in /opt/conda/lib/python3.7/site-packages (from pandas<2.0.0,>=1.1.0->pytorch-forecasting) (2.8.1)\r\n",
      "Requirement already satisfied: pytz>=2017.2 in /opt/conda/lib/python3.7/site-packages (from pandas<2.0.0,>=1.1.0->pytorch-forecasting) (2021.1)\r\n",
      "Requirement already satisfied: six>=1.5 in /opt/conda/lib/python3.7/site-packages (from python-dateutil>=2.7.3->pandas<2.0.0,>=1.1.0->pytorch-forecasting) (1.15.0)\r\n",
      "Requirement already satisfied: PyYAML!=5.4.*,>=5.1 in /opt/conda/lib/python3.7/site-packages (from pytorch-lightning<2.0.0,>=1.2.4->pytorch-forecasting) (5.3.1)\r\n",
      "Requirement already satisfied: future>=0.17.1 in /opt/conda/lib/python3.7/site-packages (from pytorch-lightning<2.0.0,>=1.2.4->pytorch-forecasting) (0.18.2)\r\n",
      "Requirement already satisfied: fsspec[http]>=0.8.1 in /opt/conda/lib/python3.7/site-packages (from pytorch-lightning<2.0.0,>=1.2.4->pytorch-forecasting) (0.8.7)\r\n",
      "Requirement already satisfied: tensorboard>=2.2.0 in /opt/conda/lib/python3.7/site-packages (from pytorch-lightning<2.0.0,>=1.2.4->pytorch-forecasting) (2.4.1)\r\n",
      "Requirement already satisfied: torchmetrics>=0.2.0 in /opt/conda/lib/python3.7/site-packages (from pytorch-lightning<2.0.0,>=1.2.4->pytorch-forecasting) (0.2.0)\r\n",
      "Requirement already satisfied: importlib-metadata in /opt/conda/lib/python3.7/site-packages (from fsspec[http]>=0.8.1->pytorch-lightning<2.0.0,>=1.2.4->pytorch-forecasting) (3.4.0)\r\n",
      "Requirement already satisfied: aiohttp in /opt/conda/lib/python3.7/site-packages (from fsspec[http]>=0.8.1->pytorch-lightning<2.0.0,>=1.2.4->pytorch-forecasting) (3.7.4)\r\n",
      "Requirement already satisfied: requests in /opt/conda/lib/python3.7/site-packages (from fsspec[http]>=0.8.1->pytorch-lightning<2.0.0,>=1.2.4->pytorch-forecasting) (2.25.1)\r\n",
      "Requirement already satisfied: threadpoolctl>=2.0.0 in /opt/conda/lib/python3.7/site-packages (from scikit-learn<0.25,>=0.23->pytorch-forecasting) (2.1.0)\r\n",
      "Requirement already satisfied: joblib>=0.11 in /opt/conda/lib/python3.7/site-packages (from scikit-learn<0.25,>=0.23->pytorch-forecasting) (1.0.1)\r\n",
      "Requirement already satisfied: greenlet!=0.4.17 in /opt/conda/lib/python3.7/site-packages (from sqlalchemy>=1.1.0->optuna<3.0.0,>=2.3.0->pytorch-forecasting) (1.0.0)\r\n",
      "Requirement already satisfied: setuptools>=41.0.0 in /opt/conda/lib/python3.7/site-packages (from tensorboard>=2.2.0->pytorch-lightning<2.0.0,>=1.2.4->pytorch-forecasting) (49.6.0.post20210108)\r\n",
      "Requirement already satisfied: wheel>=0.26 in /opt/conda/lib/python3.7/site-packages (from tensorboard>=2.2.0->pytorch-lightning<2.0.0,>=1.2.4->pytorch-forecasting) (0.36.2)\r\n",
      "Requirement already satisfied: google-auth-oauthlib<0.5,>=0.4.1 in /opt/conda/lib/python3.7/site-packages (from tensorboard>=2.2.0->pytorch-lightning<2.0.0,>=1.2.4->pytorch-forecasting) (0.4.3)\r\n",
      "Requirement already satisfied: werkzeug>=0.11.15 in /opt/conda/lib/python3.7/site-packages (from tensorboard>=2.2.0->pytorch-lightning<2.0.0,>=1.2.4->pytorch-forecasting) (1.0.1)\r\n",
      "Requirement already satisfied: markdown>=2.6.8 in /opt/conda/lib/python3.7/site-packages (from tensorboard>=2.2.0->pytorch-lightning<2.0.0,>=1.2.4->pytorch-forecasting) (3.3.4)\r\n",
      "Requirement already satisfied: absl-py>=0.4 in /opt/conda/lib/python3.7/site-packages (from tensorboard>=2.2.0->pytorch-lightning<2.0.0,>=1.2.4->pytorch-forecasting) (0.12.0)\r\n",
      "Requirement already satisfied: google-auth<2,>=1.6.3 in /opt/conda/lib/python3.7/site-packages (from tensorboard>=2.2.0->pytorch-lightning<2.0.0,>=1.2.4->pytorch-forecasting) (1.26.1)\r\n",
      "Requirement already satisfied: tensorboard-plugin-wit>=1.6.0 in /opt/conda/lib/python3.7/site-packages (from tensorboard>=2.2.0->pytorch-lightning<2.0.0,>=1.2.4->pytorch-forecasting) (1.8.0)\r\n",
      "Requirement already satisfied: protobuf>=3.6.0 in /opt/conda/lib/python3.7/site-packages (from tensorboard>=2.2.0->pytorch-lightning<2.0.0,>=1.2.4->pytorch-forecasting) (3.15.8)\r\n",
      "Requirement already satisfied: grpcio>=1.24.3 in /opt/conda/lib/python3.7/site-packages (from tensorboard>=2.2.0->pytorch-lightning<2.0.0,>=1.2.4->pytorch-forecasting) (1.32.0)\r\n",
      "Requirement already satisfied: cachetools<5.0,>=2.0.0 in /opt/conda/lib/python3.7/site-packages (from google-auth<2,>=1.6.3->tensorboard>=2.2.0->pytorch-lightning<2.0.0,>=1.2.4->pytorch-forecasting) (4.2.1)\r\n",
      "Requirement already satisfied: pyasn1-modules>=0.2.1 in /opt/conda/lib/python3.7/site-packages (from google-auth<2,>=1.6.3->tensorboard>=2.2.0->pytorch-lightning<2.0.0,>=1.2.4->pytorch-forecasting) (0.2.7)\r\n",
      "Requirement already satisfied: rsa<5,>=3.1.4 in /opt/conda/lib/python3.7/site-packages (from google-auth<2,>=1.6.3->tensorboard>=2.2.0->pytorch-lightning<2.0.0,>=1.2.4->pytorch-forecasting) (4.7.2)\r\n",
      "Requirement already satisfied: requests-oauthlib>=0.7.0 in /opt/conda/lib/python3.7/site-packages (from google-auth-oauthlib<0.5,>=0.4.1->tensorboard>=2.2.0->pytorch-lightning<2.0.0,>=1.2.4->pytorch-forecasting) (1.3.0)\r\n",
      "Requirement already satisfied: pyasn1<0.5.0,>=0.4.6 in /opt/conda/lib/python3.7/site-packages (from pyasn1-modules>=0.2.1->google-auth<2,>=1.6.3->tensorboard>=2.2.0->pytorch-lightning<2.0.0,>=1.2.4->pytorch-forecasting) (0.4.8)\r\n",
      "Requirement already satisfied: urllib3<1.27,>=1.21.1 in /opt/conda/lib/python3.7/site-packages (from requests->fsspec[http]>=0.8.1->pytorch-lightning<2.0.0,>=1.2.4->pytorch-forecasting) (1.26.4)\r\n",
      "Requirement already satisfied: chardet<5,>=3.0.2 in /opt/conda/lib/python3.7/site-packages (from requests->fsspec[http]>=0.8.1->pytorch-lightning<2.0.0,>=1.2.4->pytorch-forecasting) (4.0.0)\r\n",
      "Requirement already satisfied: idna<3,>=2.5 in /opt/conda/lib/python3.7/site-packages (from requests->fsspec[http]>=0.8.1->pytorch-lightning<2.0.0,>=1.2.4->pytorch-forecasting) (2.10)\r\n",
      "Requirement already satisfied: certifi>=2017.4.17 in /opt/conda/lib/python3.7/site-packages (from requests->fsspec[http]>=0.8.1->pytorch-lightning<2.0.0,>=1.2.4->pytorch-forecasting) (2020.12.5)\r\n",
      "Requirement already satisfied: oauthlib>=3.0.0 in /opt/conda/lib/python3.7/site-packages (from requests-oauthlib>=0.7.0->google-auth-oauthlib<0.5,>=0.4.1->tensorboard>=2.2.0->pytorch-lightning<2.0.0,>=1.2.4->pytorch-forecasting) (3.0.1)\r\n",
      "Requirement already satisfied: typing_extensions in /opt/conda/lib/python3.7/site-packages (from torch<2.0,>=1.7->pytorch-forecasting) (3.7.4.3)\r\n",
      "Requirement already satisfied: dataclasses in /opt/conda/lib/python3.7/site-packages (from torch<2.0,>=1.7->pytorch-forecasting) (0.6)\r\n",
      "Requirement already satisfied: multidict<7.0,>=4.5 in /opt/conda/lib/python3.7/site-packages (from aiohttp->fsspec[http]>=0.8.1->pytorch-lightning<2.0.0,>=1.2.4->pytorch-forecasting) (5.1.0)\r\n",
      "Requirement already satisfied: async-timeout<4.0,>=3.0 in /opt/conda/lib/python3.7/site-packages (from aiohttp->fsspec[http]>=0.8.1->pytorch-lightning<2.0.0,>=1.2.4->pytorch-forecasting) (3.0.1)\r\n",
      "Requirement already satisfied: attrs>=17.3.0 in /opt/conda/lib/python3.7/site-packages (from aiohttp->fsspec[http]>=0.8.1->pytorch-lightning<2.0.0,>=1.2.4->pytorch-forecasting) (20.3.0)\r\n",
      "Requirement already satisfied: yarl<2.0,>=1.0 in /opt/conda/lib/python3.7/site-packages (from aiohttp->fsspec[http]>=0.8.1->pytorch-lightning<2.0.0,>=1.2.4->pytorch-forecasting) (1.6.3)\r\n",
      "Requirement already satisfied: Mako in /opt/conda/lib/python3.7/site-packages (from alembic->optuna<3.0.0,>=2.3.0->pytorch-forecasting) (1.1.4)\r\n",
      "Requirement already satisfied: python-editor>=0.3 in /opt/conda/lib/python3.7/site-packages (from alembic->optuna<3.0.0,>=2.3.0->pytorch-forecasting) (1.0.4)\r\n",
      "Requirement already satisfied: stevedore>=2.0.1 in /opt/conda/lib/python3.7/site-packages (from cliff->optuna<3.0.0,>=2.3.0->pytorch-forecasting) (3.3.0)\r\n",
      "Requirement already satisfied: PrettyTable>=0.7.2 in /opt/conda/lib/python3.7/site-packages (from cliff->optuna<3.0.0,>=2.3.0->pytorch-forecasting) (2.1.0)\r\n",
      "Requirement already satisfied: cmd2>=1.0.0 in /opt/conda/lib/python3.7/site-packages (from cliff->optuna<3.0.0,>=2.3.0->pytorch-forecasting) (1.5.0)\r\n",
      "Requirement already satisfied: pbr!=2.1.0,>=2.0.0 in /opt/conda/lib/python3.7/site-packages (from cliff->optuna<3.0.0,>=2.3.0->pytorch-forecasting) (5.5.1)\r\n",
      "Requirement already satisfied: colorama>=0.3.7 in /opt/conda/lib/python3.7/site-packages (from cmd2>=1.0.0->cliff->optuna<3.0.0,>=2.3.0->pytorch-forecasting) (0.4.4)\r\n",
      "Requirement already satisfied: pyperclip>=1.6 in /opt/conda/lib/python3.7/site-packages (from cmd2>=1.0.0->cliff->optuna<3.0.0,>=2.3.0->pytorch-forecasting) (1.8.2)\r\n",
      "Requirement already satisfied: wcwidth>=0.1.7 in /opt/conda/lib/python3.7/site-packages (from cmd2>=1.0.0->cliff->optuna<3.0.0,>=2.3.0->pytorch-forecasting) (0.2.5)\r\n",
      "Requirement already satisfied: zipp>=0.5 in /opt/conda/lib/python3.7/site-packages (from importlib-metadata->fsspec[http]>=0.8.1->pytorch-lightning<2.0.0,>=1.2.4->pytorch-forecasting) (3.4.1)\r\n",
      "Requirement already satisfied: MarkupSafe>=0.9.2 in /opt/conda/lib/python3.7/site-packages (from Mako->alembic->optuna<3.0.0,>=2.3.0->pytorch-forecasting) (1.1.1)\r\n",
      "Requirement already satisfied: pillow>=6.2.0 in /opt/conda/lib/python3.7/site-packages (from matplotlib->pytorch-forecasting) (7.2.0)\r\n",
      "Requirement already satisfied: cycler>=0.10 in /opt/conda/lib/python3.7/site-packages (from matplotlib->pytorch-forecasting) (0.10.0)\r\n",
      "Requirement already satisfied: kiwisolver>=1.0.1 in /opt/conda/lib/python3.7/site-packages (from matplotlib->pytorch-forecasting) (1.3.1)\r\n",
      "Requirement already satisfied: patsy>=0.5 in /opt/conda/lib/python3.7/site-packages (from statsmodels->pytorch-forecasting) (0.5.1)\r\n",
      "Installing collected packages: pytorch-forecasting\r\n",
      "Successfully installed pytorch-forecasting-0.9.0\r\n"
     ]
    }
   ],
   "source": [
    "!pip install pytorch-forecasting"
   ]
  },
  {
   "cell_type": "code",
   "execution_count": 4,
   "id": "suspected-brisbane",
   "metadata": {
    "execution": {
     "iopub.execute_input": "2021-06-09T08:35:53.879867Z",
     "iopub.status.busy": "2021-06-09T08:35:53.875214Z",
     "iopub.status.idle": "2021-06-09T08:36:00.101263Z",
     "shell.execute_reply": "2021-06-09T08:36:00.101875Z",
     "shell.execute_reply.started": "2021-06-09T08:00:21.072082Z"
    },
    "papermill": {
     "duration": 6.289782,
     "end_time": "2021-06-09T08:36:00.102067",
     "exception": false,
     "start_time": "2021-06-09T08:35:53.812285",
     "status": "completed"
    },
    "tags": []
   },
   "outputs": [
    {
     "name": "stdout",
     "output_type": "stream",
     "text": [
      "Looking in links: https://download.pytorch.org/whl/torch_stable.html.\r\n",
      "Requirement already satisfied: torch in /opt/conda/lib/python3.7/site-packages (1.7.0)\r\n",
      "Requirement already satisfied: future in /opt/conda/lib/python3.7/site-packages (from torch) (0.18.2)\r\n",
      "Requirement already satisfied: typing_extensions in /opt/conda/lib/python3.7/site-packages (from torch) (3.7.4.3)\r\n",
      "Requirement already satisfied: dataclasses in /opt/conda/lib/python3.7/site-packages (from torch) (0.6)\r\n",
      "Requirement already satisfied: numpy in /opt/conda/lib/python3.7/site-packages (from torch) (1.19.5)\r\n",
      "Note: you may need to restart the kernel to use updated packages.\n"
     ]
    }
   ],
   "source": [
    "pip install torch -f https://download.pytorch.org/whl/torch_stable.html."
   ]
  },
  {
   "cell_type": "code",
   "execution_count": 5,
   "id": "congressional-preserve",
   "metadata": {
    "execution": {
     "iopub.execute_input": "2021-06-09T08:36:00.223346Z",
     "iopub.status.busy": "2021-06-09T08:36:00.222572Z",
     "iopub.status.idle": "2021-06-09T08:36:01.414157Z",
     "shell.execute_reply": "2021-06-09T08:36:01.413658Z",
     "shell.execute_reply.started": "2021-06-09T08:00:26.622851Z"
    },
    "papermill": {
     "duration": 1.254103,
     "end_time": "2021-06-09T08:36:01.414278",
     "exception": false,
     "start_time": "2021-06-09T08:36:00.160175",
     "status": "completed"
    },
    "tags": []
   },
   "outputs": [],
   "source": [
    "import numpy as np\n",
    "import pandas as pd\n",
    "import pandas_datareader.data as pdr\n",
    "import matplotlib.pyplot as plt\n",
    "\n",
    "import datetime\n",
    "\n",
    "import torch\n",
    "import torch.nn as nn\n",
    "from torch.autograd import Variable \n",
    "\n",
    "import torch.optim as optim\n",
    "from torch.utils.data import Dataset, DataLoader"
   ]
  },
  {
   "cell_type": "markdown",
   "id": "furnished-lightning",
   "metadata": {
    "papermill": {
     "duration": 0.056428,
     "end_time": "2021-06-09T08:36:01.528154",
     "exception": false,
     "start_time": "2021-06-09T08:36:01.471726",
     "status": "completed"
    },
    "tags": []
   },
   "source": [
    "참고 : https://coding-yoon.tistory.com/131"
   ]
  },
  {
   "cell_type": "code",
   "execution_count": 6,
   "id": "closing-indicator",
   "metadata": {
    "execution": {
     "iopub.execute_input": "2021-06-09T08:36:01.648969Z",
     "iopub.status.busy": "2021-06-09T08:36:01.648253Z",
     "iopub.status.idle": "2021-06-09T08:36:02.569886Z",
     "shell.execute_reply": "2021-06-09T08:36:02.569362Z",
     "shell.execute_reply.started": "2021-06-09T08:00:27.950561Z"
    },
    "papermill": {
     "duration": 0.984195,
     "end_time": "2021-06-09T08:36:02.570030",
     "exception": false,
     "start_time": "2021-06-09T08:36:01.585835",
     "status": "completed"
    },
    "tags": []
   },
   "outputs": [],
   "source": [
    "import copy\n",
    "import warnings\n",
    "warnings.simplefilter('ignore')\n",
    "from sklearn.model_selection import train_test_split\n",
    "from sklearn.preprocessing import StandardScaler, MinMaxScaler"
   ]
  },
  {
   "cell_type": "code",
   "execution_count": 7,
   "id": "indie-retro",
   "metadata": {
    "execution": {
     "iopub.execute_input": "2021-06-09T08:36:02.687068Z",
     "iopub.status.busy": "2021-06-09T08:36:02.686381Z",
     "iopub.status.idle": "2021-06-09T08:36:03.004347Z",
     "shell.execute_reply": "2021-06-09T08:36:03.003399Z",
     "shell.execute_reply.started": "2021-06-09T08:00:28.995569Z"
    },
    "papermill": {
     "duration": 0.378222,
     "end_time": "2021-06-09T08:36:03.004519",
     "exception": false,
     "start_time": "2021-06-09T08:36:02.626297",
     "status": "completed"
    },
    "tags": []
   },
   "outputs": [],
   "source": [
    "train_df=pd.read_csv('../input/energy-dacon/train.csv',encoding = 'cp949')\n",
    "test_df=pd.read_csv('../input/energy-dacon/test.csv',encoding = 'cp949')\n",
    "submission_df=pd.read_csv('../input/energy-dacon/sample_submission.csv',encoding = 'cp949')"
   ]
  },
  {
   "cell_type": "code",
   "execution_count": 8,
   "id": "romantic-staff",
   "metadata": {
    "execution": {
     "iopub.execute_input": "2021-06-09T08:36:03.134059Z",
     "iopub.status.busy": "2021-06-09T08:36:03.133217Z",
     "iopub.status.idle": "2021-06-09T08:36:03.138301Z",
     "shell.execute_reply": "2021-06-09T08:36:03.137877Z",
     "shell.execute_reply.started": "2021-06-09T08:00:29.295494Z"
    },
    "papermill": {
     "duration": 0.076532,
     "end_time": "2021-06-09T08:36:03.138438",
     "exception": false,
     "start_time": "2021-06-09T08:36:03.061906",
     "status": "completed"
    },
    "tags": []
   },
   "outputs": [
    {
     "data": {
      "text/plain": [
       "num             int64\n",
       "date_time      object\n",
       "전력사용량(kWh)    float64\n",
       "기온(°C)        float64\n",
       "풍속(m/s)       float64\n",
       "습도(%)         float64\n",
       "강수량(mm)       float64\n",
       "일조(hr)        float64\n",
       "비전기냉방설비운영     float64\n",
       "태양광보유         float64\n",
       "dtype: object"
      ]
     },
     "execution_count": 8,
     "metadata": {},
     "output_type": "execute_result"
    }
   ],
   "source": [
    "train_df.dtypes"
   ]
  },
  {
   "cell_type": "code",
   "execution_count": 9,
   "id": "stock-situation",
   "metadata": {
    "execution": {
     "iopub.execute_input": "2021-06-09T08:36:03.256764Z",
     "iopub.status.busy": "2021-06-09T08:36:03.255846Z",
     "iopub.status.idle": "2021-06-09T08:36:03.274839Z",
     "shell.execute_reply": "2021-06-09T08:36:03.274293Z",
     "shell.execute_reply.started": "2021-06-09T08:00:29.316968Z"
    },
    "papermill": {
     "duration": 0.07965,
     "end_time": "2021-06-09T08:36:03.274966",
     "exception": false,
     "start_time": "2021-06-09T08:36:03.195316",
     "status": "completed"
    },
    "tags": []
   },
   "outputs": [
    {
     "data": {
      "text/plain": [
       "num           0\n",
       "date_time     0\n",
       "전력사용량(kWh)    0\n",
       "기온(°C)        0\n",
       "풍속(m/s)       0\n",
       "습도(%)         0\n",
       "강수량(mm)       0\n",
       "일조(hr)        0\n",
       "비전기냉방설비운영     0\n",
       "태양광보유         0\n",
       "dtype: int64"
      ]
     },
     "execution_count": 9,
     "metadata": {},
     "output_type": "execute_result"
    }
   ],
   "source": [
    "train_df.isna().sum()"
   ]
  },
  {
   "cell_type": "code",
   "execution_count": 10,
   "id": "statewide-zambia",
   "metadata": {
    "execution": {
     "iopub.execute_input": "2021-06-09T08:36:03.394800Z",
     "iopub.status.busy": "2021-06-09T08:36:03.392694Z",
     "iopub.status.idle": "2021-06-09T08:36:03.400938Z",
     "shell.execute_reply": "2021-06-09T08:36:03.400529Z",
     "shell.execute_reply.started": "2021-06-09T08:00:29.343143Z"
    },
    "papermill": {
     "duration": 0.069478,
     "end_time": "2021-06-09T08:36:03.401058",
     "exception": false,
     "start_time": "2021-06-09T08:36:03.331580",
     "status": "completed"
    },
    "tags": []
   },
   "outputs": [
    {
     "data": {
      "text/plain": [
       "num                0\n",
       "date_time          0\n",
       "기온(°C)          6720\n",
       "풍속(m/s)         6720\n",
       "습도(%)           6720\n",
       "강수량(mm, 6시간)    8400\n",
       "일조(hr, 3시간)     6720\n",
       "비전기냉방설비운영       7784\n",
       "태양광보유           8456\n",
       "dtype: int64"
      ]
     },
     "execution_count": 10,
     "metadata": {},
     "output_type": "execute_result"
    }
   ],
   "source": [
    "test_df.isna().sum()"
   ]
  },
  {
   "cell_type": "code",
   "execution_count": 11,
   "id": "protected-audit",
   "metadata": {
    "execution": {
     "iopub.execute_input": "2021-06-09T08:36:03.579804Z",
     "iopub.status.busy": "2021-06-09T08:36:03.578774Z",
     "iopub.status.idle": "2021-06-09T08:36:03.596673Z",
     "shell.execute_reply": "2021-06-09T08:36:03.601916Z",
     "shell.execute_reply.started": "2021-06-09T08:00:29.355088Z"
    },
    "papermill": {
     "duration": 0.141441,
     "end_time": "2021-06-09T08:36:03.602155",
     "exception": false,
     "start_time": "2021-06-09T08:36:03.460714",
     "status": "completed"
    },
    "tags": []
   },
   "outputs": [],
   "source": [
    "temp_df=train_df[['num', '비전기냉방설비운영','태양광보유']]\n",
    "ice={}\n",
    "hot={}\n",
    "count=0\n",
    "for i in range(0, len(train_df), len(train_df)//60):\n",
    "    count +=1\n",
    "    ice[count]=train_df.loc[i,'비전기냉방설비운영']\n",
    "    hot[count]=train_df.loc[i,'태양광보유']\n",
    "    \n",
    "    "
   ]
  },
  {
   "cell_type": "code",
   "execution_count": 12,
   "id": "elder-supervisor",
   "metadata": {
    "execution": {
     "iopub.execute_input": "2021-06-09T08:36:03.802503Z",
     "iopub.status.busy": "2021-06-09T08:36:03.801574Z",
     "iopub.status.idle": "2021-06-09T08:36:03.803865Z",
     "shell.execute_reply": "2021-06-09T08:36:03.803208Z",
     "shell.execute_reply.started": "2021-06-09T08:00:29.373214Z"
    },
    "papermill": {
     "duration": 0.10591,
     "end_time": "2021-06-09T08:36:03.804034",
     "exception": false,
     "start_time": "2021-06-09T08:36:03.698124",
     "status": "completed"
    },
    "tags": []
   },
   "outputs": [],
   "source": [
    "test_EDA=copy.deepcopy(test_df)"
   ]
  },
  {
   "cell_type": "code",
   "execution_count": 13,
   "id": "sealed-cradle",
   "metadata": {
    "execution": {
     "iopub.execute_input": "2021-06-09T08:36:04.004054Z",
     "iopub.status.busy": "2021-06-09T08:36:04.003322Z",
     "iopub.status.idle": "2021-06-09T08:36:08.771248Z",
     "shell.execute_reply": "2021-06-09T08:36:08.770281Z",
     "shell.execute_reply.started": "2021-06-09T08:00:29.379855Z"
    },
    "papermill": {
     "duration": 4.871268,
     "end_time": "2021-06-09T08:36:08.771399",
     "exception": false,
     "start_time": "2021-06-09T08:36:03.900131",
     "status": "completed"
    },
    "tags": []
   },
   "outputs": [],
   "source": [
    "for i in range(len(test_df)):\n",
    "    test_EDA.loc[i, '비전기냉방설비운영']=ice[test_df['num'][i]]\n",
    "    test_EDA.loc[i, '태양광보유']=hot[test_df['num'][i]]"
   ]
  },
  {
   "cell_type": "code",
   "execution_count": 14,
   "id": "irish-geneva",
   "metadata": {
    "execution": {
     "iopub.execute_input": "2021-06-09T08:36:08.898978Z",
     "iopub.status.busy": "2021-06-09T08:36:08.897132Z",
     "iopub.status.idle": "2021-06-09T08:36:08.914082Z",
     "shell.execute_reply": "2021-06-09T08:36:08.913595Z",
     "shell.execute_reply.started": "2021-06-09T08:00:34.110571Z"
    },
    "papermill": {
     "duration": 0.082091,
     "end_time": "2021-06-09T08:36:08.914219",
     "exception": false,
     "start_time": "2021-06-09T08:36:08.832128",
     "status": "completed"
    },
    "tags": []
   },
   "outputs": [],
   "source": [
    "test_EDA=test_EDA.interpolate(method='values')"
   ]
  },
  {
   "cell_type": "code",
   "execution_count": 15,
   "id": "binding-munich",
   "metadata": {
    "execution": {
     "iopub.execute_input": "2021-06-09T08:36:09.040969Z",
     "iopub.status.busy": "2021-06-09T08:36:09.040012Z",
     "iopub.status.idle": "2021-06-09T08:36:09.041987Z",
     "shell.execute_reply": "2021-06-09T08:36:09.042508Z",
     "shell.execute_reply.started": "2021-06-09T08:00:34.131542Z"
    },
    "papermill": {
     "duration": 0.068572,
     "end_time": "2021-06-09T08:36:09.042656",
     "exception": false,
     "start_time": "2021-06-09T08:36:08.974084",
     "status": "completed"
    },
    "tags": []
   },
   "outputs": [],
   "source": [
    "def change_date(date_one_time):\n",
    "    dateformat = \"%Y-%m-%d %H\"\n",
    "    convert_one_time = datetime.datetime.strptime(date_one_time, dateformat)\n",
    "    return convert_one_time\n",
    "\n",
    "def insert_dateindex(df):\n",
    "    date_time=df['date_time']\n",
    "    convert_time=date_time.map(change_date)\n",
    "    date_index=pd.DatetimeIndex(convert_time)\n",
    "    df.index=date_index\n",
    "    return df\n",
    "\n",
    "def change_date_df(df):\n",
    "    date_time=df['date_time']\n",
    "    convert_time=date_time.map(change_date)\n",
    "    df['date_time']=convert_time\n",
    "    return df\n",
    "    "
   ]
  },
  {
   "cell_type": "code",
   "execution_count": 16,
   "id": "motivated-departure",
   "metadata": {
    "execution": {
     "iopub.execute_input": "2021-06-09T08:36:09.166011Z",
     "iopub.status.busy": "2021-06-09T08:36:09.165069Z",
     "iopub.status.idle": "2021-06-09T08:36:09.167406Z",
     "shell.execute_reply": "2021-06-09T08:36:09.167898Z",
     "shell.execute_reply.started": "2021-06-09T08:00:34.139907Z"
    },
    "papermill": {
     "duration": 0.065074,
     "end_time": "2021-06-09T08:36:09.168043",
     "exception": false,
     "start_time": "2021-06-09T08:36:09.102969",
     "status": "completed"
    },
    "tags": []
   },
   "outputs": [],
   "source": [
    "# train_CI=insert_dateindex(train_df)\n",
    "# test_CI=insert_dateindex(test_EDA)"
   ]
  },
  {
   "cell_type": "code",
   "execution_count": 17,
   "id": "passive-vertex",
   "metadata": {
    "execution": {
     "iopub.execute_input": "2021-06-09T08:36:09.296788Z",
     "iopub.status.busy": "2021-06-09T08:36:09.296116Z",
     "iopub.status.idle": "2021-06-09T08:36:09.307864Z",
     "shell.execute_reply": "2021-06-09T08:36:09.307300Z",
     "shell.execute_reply.started": "2021-06-09T08:00:34.149333Z"
    },
    "papermill": {
     "duration": 0.081333,
     "end_time": "2021-06-09T08:36:09.308025",
     "exception": false,
     "start_time": "2021-06-09T08:36:09.226692",
     "status": "completed"
    },
    "tags": []
   },
   "outputs": [
    {
     "data": {
      "text/html": [
       "<div>\n",
       "<style scoped>\n",
       "    .dataframe tbody tr th:only-of-type {\n",
       "        vertical-align: middle;\n",
       "    }\n",
       "\n",
       "    .dataframe tbody tr th {\n",
       "        vertical-align: top;\n",
       "    }\n",
       "\n",
       "    .dataframe thead th {\n",
       "        text-align: right;\n",
       "    }\n",
       "</style>\n",
       "<table border=\"1\" class=\"dataframe\">\n",
       "  <thead>\n",
       "    <tr style=\"text-align: right;\">\n",
       "      <th></th>\n",
       "      <th>num</th>\n",
       "      <th>date_time</th>\n",
       "      <th>기온(°C)</th>\n",
       "      <th>풍속(m/s)</th>\n",
       "      <th>습도(%)</th>\n",
       "      <th>강수량(mm, 6시간)</th>\n",
       "      <th>일조(hr, 3시간)</th>\n",
       "      <th>비전기냉방설비운영</th>\n",
       "      <th>태양광보유</th>\n",
       "    </tr>\n",
       "  </thead>\n",
       "  <tbody>\n",
       "    <tr>\n",
       "      <th>0</th>\n",
       "      <td>1</td>\n",
       "      <td>2020-08-25 00</td>\n",
       "      <td>27.800000</td>\n",
       "      <td>1.500000</td>\n",
       "      <td>74.000000</td>\n",
       "      <td>0.0</td>\n",
       "      <td>0.000000</td>\n",
       "      <td>0.0</td>\n",
       "      <td>0.0</td>\n",
       "    </tr>\n",
       "    <tr>\n",
       "      <th>1</th>\n",
       "      <td>1</td>\n",
       "      <td>2020-08-25 01</td>\n",
       "      <td>27.633333</td>\n",
       "      <td>1.366667</td>\n",
       "      <td>75.333333</td>\n",
       "      <td>0.0</td>\n",
       "      <td>0.000000</td>\n",
       "      <td>0.0</td>\n",
       "      <td>0.0</td>\n",
       "    </tr>\n",
       "    <tr>\n",
       "      <th>2</th>\n",
       "      <td>1</td>\n",
       "      <td>2020-08-25 02</td>\n",
       "      <td>27.466667</td>\n",
       "      <td>1.233333</td>\n",
       "      <td>76.666667</td>\n",
       "      <td>0.0</td>\n",
       "      <td>0.000000</td>\n",
       "      <td>0.0</td>\n",
       "      <td>0.0</td>\n",
       "    </tr>\n",
       "    <tr>\n",
       "      <th>3</th>\n",
       "      <td>1</td>\n",
       "      <td>2020-08-25 03</td>\n",
       "      <td>27.300000</td>\n",
       "      <td>1.100000</td>\n",
       "      <td>78.000000</td>\n",
       "      <td>0.0</td>\n",
       "      <td>0.000000</td>\n",
       "      <td>0.0</td>\n",
       "      <td>0.0</td>\n",
       "    </tr>\n",
       "    <tr>\n",
       "      <th>4</th>\n",
       "      <td>1</td>\n",
       "      <td>2020-08-25 04</td>\n",
       "      <td>26.900000</td>\n",
       "      <td>1.166667</td>\n",
       "      <td>79.666667</td>\n",
       "      <td>0.0</td>\n",
       "      <td>0.000000</td>\n",
       "      <td>0.0</td>\n",
       "      <td>0.0</td>\n",
       "    </tr>\n",
       "    <tr>\n",
       "      <th>...</th>\n",
       "      <td>...</td>\n",
       "      <td>...</td>\n",
       "      <td>...</td>\n",
       "      <td>...</td>\n",
       "      <td>...</td>\n",
       "      <td>...</td>\n",
       "      <td>...</td>\n",
       "      <td>...</td>\n",
       "      <td>...</td>\n",
       "    </tr>\n",
       "    <tr>\n",
       "      <th>10075</th>\n",
       "      <td>60</td>\n",
       "      <td>2020-08-31 19</td>\n",
       "      <td>28.633333</td>\n",
       "      <td>3.566667</td>\n",
       "      <td>66.000000</td>\n",
       "      <td>0.0</td>\n",
       "      <td>0.533333</td>\n",
       "      <td>1.0</td>\n",
       "      <td>1.0</td>\n",
       "    </tr>\n",
       "    <tr>\n",
       "      <th>10076</th>\n",
       "      <td>60</td>\n",
       "      <td>2020-08-31 20</td>\n",
       "      <td>28.266667</td>\n",
       "      <td>3.833333</td>\n",
       "      <td>67.000000</td>\n",
       "      <td>0.0</td>\n",
       "      <td>0.266667</td>\n",
       "      <td>1.0</td>\n",
       "      <td>1.0</td>\n",
       "    </tr>\n",
       "    <tr>\n",
       "      <th>10077</th>\n",
       "      <td>60</td>\n",
       "      <td>2020-08-31 21</td>\n",
       "      <td>27.900000</td>\n",
       "      <td>4.100000</td>\n",
       "      <td>68.000000</td>\n",
       "      <td>0.0</td>\n",
       "      <td>0.000000</td>\n",
       "      <td>1.0</td>\n",
       "      <td>1.0</td>\n",
       "    </tr>\n",
       "    <tr>\n",
       "      <th>10078</th>\n",
       "      <td>60</td>\n",
       "      <td>2020-08-31 22</td>\n",
       "      <td>27.900000</td>\n",
       "      <td>4.100000</td>\n",
       "      <td>68.000000</td>\n",
       "      <td>0.0</td>\n",
       "      <td>0.000000</td>\n",
       "      <td>1.0</td>\n",
       "      <td>1.0</td>\n",
       "    </tr>\n",
       "    <tr>\n",
       "      <th>10079</th>\n",
       "      <td>60</td>\n",
       "      <td>2020-08-31 23</td>\n",
       "      <td>27.900000</td>\n",
       "      <td>4.100000</td>\n",
       "      <td>68.000000</td>\n",
       "      <td>0.0</td>\n",
       "      <td>0.000000</td>\n",
       "      <td>1.0</td>\n",
       "      <td>1.0</td>\n",
       "    </tr>\n",
       "  </tbody>\n",
       "</table>\n",
       "<p>10080 rows × 9 columns</p>\n",
       "</div>"
      ],
      "text/plain": [
       "       num      date_time     기온(°C)   풍속(m/s)      습도(%)  강수량(mm, 6시간)  \\\n",
       "0        1  2020-08-25 00  27.800000  1.500000  74.000000           0.0   \n",
       "1        1  2020-08-25 01  27.633333  1.366667  75.333333           0.0   \n",
       "2        1  2020-08-25 02  27.466667  1.233333  76.666667           0.0   \n",
       "3        1  2020-08-25 03  27.300000  1.100000  78.000000           0.0   \n",
       "4        1  2020-08-25 04  26.900000  1.166667  79.666667           0.0   \n",
       "...    ...            ...        ...       ...        ...           ...   \n",
       "10075   60  2020-08-31 19  28.633333  3.566667  66.000000           0.0   \n",
       "10076   60  2020-08-31 20  28.266667  3.833333  67.000000           0.0   \n",
       "10077   60  2020-08-31 21  27.900000  4.100000  68.000000           0.0   \n",
       "10078   60  2020-08-31 22  27.900000  4.100000  68.000000           0.0   \n",
       "10079   60  2020-08-31 23  27.900000  4.100000  68.000000           0.0   \n",
       "\n",
       "       일조(hr, 3시간)  비전기냉방설비운영  태양광보유  \n",
       "0         0.000000        0.0    0.0  \n",
       "1         0.000000        0.0    0.0  \n",
       "2         0.000000        0.0    0.0  \n",
       "3         0.000000        0.0    0.0  \n",
       "4         0.000000        0.0    0.0  \n",
       "...            ...        ...    ...  \n",
       "10075     0.533333        1.0    1.0  \n",
       "10076     0.266667        1.0    1.0  \n",
       "10077     0.000000        1.0    1.0  \n",
       "10078     0.000000        1.0    1.0  \n",
       "10079     0.000000        1.0    1.0  \n",
       "\n",
       "[10080 rows x 9 columns]"
      ]
     },
     "execution_count": 17,
     "metadata": {},
     "output_type": "execute_result"
    }
   ],
   "source": [
    "test_EDA"
   ]
  },
  {
   "cell_type": "code",
   "execution_count": 18,
   "id": "round-alloy",
   "metadata": {
    "execution": {
     "iopub.execute_input": "2021-06-09T08:36:09.436859Z",
     "iopub.status.busy": "2021-06-09T08:36:09.435632Z",
     "iopub.status.idle": "2021-06-09T08:36:10.869018Z",
     "shell.execute_reply": "2021-06-09T08:36:10.868482Z",
     "shell.execute_reply.started": "2021-06-09T08:00:34.177749Z"
    },
    "papermill": {
     "duration": 1.49726,
     "end_time": "2021-06-09T08:36:10.869150",
     "exception": false,
     "start_time": "2021-06-09T08:36:09.371890",
     "status": "completed"
    },
    "tags": []
   },
   "outputs": [],
   "source": [
    "train_EDA=copy.deepcopy(train_df)\n",
    "train_EDA=change_date_df(train_EDA)\n"
   ]
  },
  {
   "cell_type": "code",
   "execution_count": 19,
   "id": "irish-douglas",
   "metadata": {
    "execution": {
     "iopub.execute_input": "2021-06-09T08:36:10.992980Z",
     "iopub.status.busy": "2021-06-09T08:36:10.992282Z",
     "iopub.status.idle": "2021-06-09T08:36:10.995227Z",
     "shell.execute_reply": "2021-06-09T08:36:10.995649Z",
     "shell.execute_reply.started": "2021-06-09T08:00:35.610012Z"
    },
    "papermill": {
     "duration": 0.068679,
     "end_time": "2021-06-09T08:36:10.995794",
     "exception": false,
     "start_time": "2021-06-09T08:36:10.927115",
     "status": "completed"
    },
    "tags": []
   },
   "outputs": [
    {
     "data": {
      "text/plain": [
       "num                    int64\n",
       "date_time     datetime64[ns]\n",
       "전력사용량(kWh)           float64\n",
       "기온(°C)               float64\n",
       "풍속(m/s)              float64\n",
       "습도(%)                float64\n",
       "강수량(mm)              float64\n",
       "일조(hr)               float64\n",
       "비전기냉방설비운영            float64\n",
       "태양광보유                float64\n",
       "dtype: object"
      ]
     },
     "execution_count": 19,
     "metadata": {},
     "output_type": "execute_result"
    }
   ],
   "source": [
    "train_EDA.dtypes"
   ]
  },
  {
   "cell_type": "code",
   "execution_count": 20,
   "id": "meaningful-catalyst",
   "metadata": {
    "execution": {
     "iopub.execute_input": "2021-06-09T08:36:11.121014Z",
     "iopub.status.busy": "2021-06-09T08:36:11.120147Z",
     "iopub.status.idle": "2021-06-09T08:36:11.122780Z",
     "shell.execute_reply": "2021-06-09T08:36:11.122318Z",
     "shell.execute_reply.started": "2021-06-09T08:00:35.619324Z"
    },
    "papermill": {
     "duration": 0.06576,
     "end_time": "2021-06-09T08:36:11.122897",
     "exception": false,
     "start_time": "2021-06-09T08:36:11.057137",
     "status": "completed"
    },
    "tags": []
   },
   "outputs": [],
   "source": [
    "x_drop_list=['date_time','전력사용량(kWh)']\n",
    "#x_drop_list=['전력사용량(kWh)']"
   ]
  },
  {
   "cell_type": "code",
   "execution_count": 21,
   "id": "underlying-found",
   "metadata": {
    "execution": {
     "iopub.execute_input": "2021-06-09T08:36:11.245899Z",
     "iopub.status.busy": "2021-06-09T08:36:11.245029Z",
     "iopub.status.idle": "2021-06-09T08:36:11.247614Z",
     "shell.execute_reply": "2021-06-09T08:36:11.247160Z",
     "shell.execute_reply.started": "2021-06-09T08:00:35.628957Z"
    },
    "papermill": {
     "duration": 0.065492,
     "end_time": "2021-06-09T08:36:11.247745",
     "exception": false,
     "start_time": "2021-06-09T08:36:11.182253",
     "status": "completed"
    },
    "tags": []
   },
   "outputs": [],
   "source": [
    "#num1_train=train_df[train_df['num']==1]"
   ]
  },
  {
   "cell_type": "code",
   "execution_count": 22,
   "id": "divided-tournament",
   "metadata": {
    "execution": {
     "iopub.execute_input": "2021-06-09T08:36:11.369695Z",
     "iopub.status.busy": "2021-06-09T08:36:11.368828Z",
     "iopub.status.idle": "2021-06-09T08:36:11.371435Z",
     "shell.execute_reply": "2021-06-09T08:36:11.371015Z",
     "shell.execute_reply.started": "2021-06-09T08:00:35.637951Z"
    },
    "papermill": {
     "duration": 0.064837,
     "end_time": "2021-06-09T08:36:11.371557",
     "exception": false,
     "start_time": "2021-06-09T08:36:11.306720",
     "status": "completed"
    },
    "tags": []
   },
   "outputs": [],
   "source": [
    "#num1_train"
   ]
  },
  {
   "cell_type": "code",
   "execution_count": 23,
   "id": "double-directive",
   "metadata": {
    "execution": {
     "iopub.execute_input": "2021-06-09T08:36:11.512584Z",
     "iopub.status.busy": "2021-06-09T08:36:11.511606Z",
     "iopub.status.idle": "2021-06-09T08:36:11.515523Z",
     "shell.execute_reply": "2021-06-09T08:36:11.516016Z",
     "shell.execute_reply.started": "2021-06-09T08:00:35.649507Z"
    },
    "papermill": {
     "duration": 0.08444,
     "end_time": "2021-06-09T08:36:11.516172",
     "exception": false,
     "start_time": "2021-06-09T08:36:11.431732",
     "status": "completed"
    },
    "tags": []
   },
   "outputs": [
    {
     "data": {
      "text/html": [
       "<div>\n",
       "<style scoped>\n",
       "    .dataframe tbody tr th:only-of-type {\n",
       "        vertical-align: middle;\n",
       "    }\n",
       "\n",
       "    .dataframe tbody tr th {\n",
       "        vertical-align: top;\n",
       "    }\n",
       "\n",
       "    .dataframe thead th {\n",
       "        text-align: right;\n",
       "    }\n",
       "</style>\n",
       "<table border=\"1\" class=\"dataframe\">\n",
       "  <thead>\n",
       "    <tr style=\"text-align: right;\">\n",
       "      <th></th>\n",
       "      <th>num</th>\n",
       "      <th>date_time</th>\n",
       "      <th>전력사용량(kWh)</th>\n",
       "      <th>기온(°C)</th>\n",
       "      <th>풍속(m/s)</th>\n",
       "      <th>습도(%)</th>\n",
       "      <th>강수량(mm)</th>\n",
       "      <th>일조(hr)</th>\n",
       "      <th>비전기냉방설비운영</th>\n",
       "      <th>태양광보유</th>\n",
       "    </tr>\n",
       "  </thead>\n",
       "  <tbody>\n",
       "    <tr>\n",
       "      <th>0</th>\n",
       "      <td>1</td>\n",
       "      <td>2020-06-01 00:00:00</td>\n",
       "      <td>8179.056</td>\n",
       "      <td>17.6</td>\n",
       "      <td>2.5</td>\n",
       "      <td>92.0</td>\n",
       "      <td>0.8</td>\n",
       "      <td>0.0</td>\n",
       "      <td>0.0</td>\n",
       "      <td>0.0</td>\n",
       "    </tr>\n",
       "    <tr>\n",
       "      <th>1</th>\n",
       "      <td>1</td>\n",
       "      <td>2020-06-01 01:00:00</td>\n",
       "      <td>8135.640</td>\n",
       "      <td>17.7</td>\n",
       "      <td>2.9</td>\n",
       "      <td>91.0</td>\n",
       "      <td>0.3</td>\n",
       "      <td>0.0</td>\n",
       "      <td>0.0</td>\n",
       "      <td>0.0</td>\n",
       "    </tr>\n",
       "    <tr>\n",
       "      <th>2</th>\n",
       "      <td>1</td>\n",
       "      <td>2020-06-01 02:00:00</td>\n",
       "      <td>8107.128</td>\n",
       "      <td>17.5</td>\n",
       "      <td>3.2</td>\n",
       "      <td>91.0</td>\n",
       "      <td>0.0</td>\n",
       "      <td>0.0</td>\n",
       "      <td>0.0</td>\n",
       "      <td>0.0</td>\n",
       "    </tr>\n",
       "    <tr>\n",
       "      <th>3</th>\n",
       "      <td>1</td>\n",
       "      <td>2020-06-01 03:00:00</td>\n",
       "      <td>8048.808</td>\n",
       "      <td>17.1</td>\n",
       "      <td>3.2</td>\n",
       "      <td>91.0</td>\n",
       "      <td>0.0</td>\n",
       "      <td>0.0</td>\n",
       "      <td>0.0</td>\n",
       "      <td>0.0</td>\n",
       "    </tr>\n",
       "    <tr>\n",
       "      <th>4</th>\n",
       "      <td>1</td>\n",
       "      <td>2020-06-01 04:00:00</td>\n",
       "      <td>8043.624</td>\n",
       "      <td>17.0</td>\n",
       "      <td>3.3</td>\n",
       "      <td>92.0</td>\n",
       "      <td>0.0</td>\n",
       "      <td>0.0</td>\n",
       "      <td>0.0</td>\n",
       "      <td>0.0</td>\n",
       "    </tr>\n",
       "    <tr>\n",
       "      <th>...</th>\n",
       "      <td>...</td>\n",
       "      <td>...</td>\n",
       "      <td>...</td>\n",
       "      <td>...</td>\n",
       "      <td>...</td>\n",
       "      <td>...</td>\n",
       "      <td>...</td>\n",
       "      <td>...</td>\n",
       "      <td>...</td>\n",
       "      <td>...</td>\n",
       "    </tr>\n",
       "    <tr>\n",
       "      <th>122395</th>\n",
       "      <td>60</td>\n",
       "      <td>2020-08-24 19:00:00</td>\n",
       "      <td>4114.368</td>\n",
       "      <td>27.8</td>\n",
       "      <td>2.3</td>\n",
       "      <td>68.0</td>\n",
       "      <td>0.0</td>\n",
       "      <td>0.7</td>\n",
       "      <td>1.0</td>\n",
       "      <td>1.0</td>\n",
       "    </tr>\n",
       "    <tr>\n",
       "      <th>122396</th>\n",
       "      <td>60</td>\n",
       "      <td>2020-08-24 20:00:00</td>\n",
       "      <td>3975.696</td>\n",
       "      <td>27.3</td>\n",
       "      <td>1.2</td>\n",
       "      <td>71.0</td>\n",
       "      <td>0.0</td>\n",
       "      <td>0.0</td>\n",
       "      <td>1.0</td>\n",
       "      <td>1.0</td>\n",
       "    </tr>\n",
       "    <tr>\n",
       "      <th>122397</th>\n",
       "      <td>60</td>\n",
       "      <td>2020-08-24 21:00:00</td>\n",
       "      <td>3572.208</td>\n",
       "      <td>27.3</td>\n",
       "      <td>1.8</td>\n",
       "      <td>71.0</td>\n",
       "      <td>0.0</td>\n",
       "      <td>0.0</td>\n",
       "      <td>1.0</td>\n",
       "      <td>1.0</td>\n",
       "    </tr>\n",
       "    <tr>\n",
       "      <th>122398</th>\n",
       "      <td>60</td>\n",
       "      <td>2020-08-24 22:00:00</td>\n",
       "      <td>3299.184</td>\n",
       "      <td>27.1</td>\n",
       "      <td>1.8</td>\n",
       "      <td>74.0</td>\n",
       "      <td>0.0</td>\n",
       "      <td>0.0</td>\n",
       "      <td>1.0</td>\n",
       "      <td>1.0</td>\n",
       "    </tr>\n",
       "    <tr>\n",
       "      <th>122399</th>\n",
       "      <td>60</td>\n",
       "      <td>2020-08-24 23:00:00</td>\n",
       "      <td>3204.576</td>\n",
       "      <td>27.1</td>\n",
       "      <td>2.6</td>\n",
       "      <td>75.0</td>\n",
       "      <td>0.0</td>\n",
       "      <td>0.0</td>\n",
       "      <td>1.0</td>\n",
       "      <td>1.0</td>\n",
       "    </tr>\n",
       "  </tbody>\n",
       "</table>\n",
       "<p>122400 rows × 10 columns</p>\n",
       "</div>"
      ],
      "text/plain": [
       "        num           date_time  전력사용량(kWh)  기온(°C)  풍속(m/s)  습도(%)  강수량(mm)  \\\n",
       "0         1 2020-06-01 00:00:00    8179.056    17.6      2.5   92.0      0.8   \n",
       "1         1 2020-06-01 01:00:00    8135.640    17.7      2.9   91.0      0.3   \n",
       "2         1 2020-06-01 02:00:00    8107.128    17.5      3.2   91.0      0.0   \n",
       "3         1 2020-06-01 03:00:00    8048.808    17.1      3.2   91.0      0.0   \n",
       "4         1 2020-06-01 04:00:00    8043.624    17.0      3.3   92.0      0.0   \n",
       "...     ...                 ...         ...     ...      ...    ...      ...   \n",
       "122395   60 2020-08-24 19:00:00    4114.368    27.8      2.3   68.0      0.0   \n",
       "122396   60 2020-08-24 20:00:00    3975.696    27.3      1.2   71.0      0.0   \n",
       "122397   60 2020-08-24 21:00:00    3572.208    27.3      1.8   71.0      0.0   \n",
       "122398   60 2020-08-24 22:00:00    3299.184    27.1      1.8   74.0      0.0   \n",
       "122399   60 2020-08-24 23:00:00    3204.576    27.1      2.6   75.0      0.0   \n",
       "\n",
       "        일조(hr)  비전기냉방설비운영  태양광보유  \n",
       "0          0.0        0.0    0.0  \n",
       "1          0.0        0.0    0.0  \n",
       "2          0.0        0.0    0.0  \n",
       "3          0.0        0.0    0.0  \n",
       "4          0.0        0.0    0.0  \n",
       "...        ...        ...    ...  \n",
       "122395     0.7        1.0    1.0  \n",
       "122396     0.0        1.0    1.0  \n",
       "122397     0.0        1.0    1.0  \n",
       "122398     0.0        1.0    1.0  \n",
       "122399     0.0        1.0    1.0  \n",
       "\n",
       "[122400 rows x 10 columns]"
      ]
     },
     "execution_count": 23,
     "metadata": {},
     "output_type": "execute_result"
    }
   ],
   "source": [
    "train_EDA"
   ]
  },
  {
   "cell_type": "code",
   "execution_count": 24,
   "id": "monthly-productivity",
   "metadata": {
    "execution": {
     "iopub.execute_input": "2021-06-09T08:36:11.644378Z",
     "iopub.status.busy": "2021-06-09T08:36:11.643601Z",
     "iopub.status.idle": "2021-06-09T08:36:11.662027Z",
     "shell.execute_reply": "2021-06-09T08:36:11.661557Z",
     "shell.execute_reply.started": "2021-06-09T08:00:35.680366Z"
    },
    "papermill": {
     "duration": 0.082215,
     "end_time": "2021-06-09T08:36:11.662159",
     "exception": false,
     "start_time": "2021-06-09T08:36:11.579944",
     "status": "completed"
    },
    "tags": []
   },
   "outputs": [],
   "source": [
    "#num== 1만 뽑아서 학습\n",
    "x_drop_list=['date_time','전력사용량(kWh)','num']\n",
    "num1_train=train_EDA[train_EDA['num']==1]\n",
    "X=num1_train.drop(x_drop_list,axis=1)\n",
    "y=num1_train[['전력사용량(kWh)']]"
   ]
  },
  {
   "cell_type": "code",
   "execution_count": 25,
   "id": "parallel-intranet",
   "metadata": {
    "execution": {
     "iopub.execute_input": "2021-06-09T08:36:11.786847Z",
     "iopub.status.busy": "2021-06-09T08:36:11.785873Z",
     "iopub.status.idle": "2021-06-09T08:36:11.788883Z",
     "shell.execute_reply": "2021-06-09T08:36:11.788383Z",
     "shell.execute_reply.started": "2021-06-09T08:00:35.704679Z"
    },
    "papermill": {
     "duration": 0.067149,
     "end_time": "2021-06-09T08:36:11.789006",
     "exception": false,
     "start_time": "2021-06-09T08:36:11.721857",
     "status": "completed"
    },
    "tags": []
   },
   "outputs": [],
   "source": [
    "# ##########날짜 순 정렬#############\n",
    "#sort_train=train_EDA.sort_values(by=['date_time'], axis=0)"
   ]
  },
  {
   "cell_type": "code",
   "execution_count": 26,
   "id": "pacific-portable",
   "metadata": {
    "execution": {
     "iopub.execute_input": "2021-06-09T08:36:11.910685Z",
     "iopub.status.busy": "2021-06-09T08:36:11.909756Z",
     "iopub.status.idle": "2021-06-09T08:36:11.912077Z",
     "shell.execute_reply": "2021-06-09T08:36:11.912621Z",
     "shell.execute_reply.started": "2021-06-09T08:00:35.711210Z"
    },
    "papermill": {
     "duration": 0.065227,
     "end_time": "2021-06-09T08:36:11.912787",
     "exception": false,
     "start_time": "2021-06-09T08:36:11.847560",
     "status": "completed"
    },
    "tags": []
   },
   "outputs": [],
   "source": [
    "#sort_train"
   ]
  },
  {
   "cell_type": "code",
   "execution_count": 27,
   "id": "elder-polyester",
   "metadata": {
    "execution": {
     "iopub.execute_input": "2021-06-09T08:36:12.047212Z",
     "iopub.status.busy": "2021-06-09T08:36:12.046261Z",
     "iopub.status.idle": "2021-06-09T08:36:12.049924Z",
     "shell.execute_reply": "2021-06-09T08:36:12.050329Z",
     "shell.execute_reply.started": "2021-06-09T08:00:35.720038Z"
    },
    "papermill": {
     "duration": 0.078575,
     "end_time": "2021-06-09T08:36:12.050498",
     "exception": false,
     "start_time": "2021-06-09T08:36:11.971923",
     "status": "completed"
    },
    "tags": []
   },
   "outputs": [
    {
     "data": {
      "text/html": [
       "<div>\n",
       "<style scoped>\n",
       "    .dataframe tbody tr th:only-of-type {\n",
       "        vertical-align: middle;\n",
       "    }\n",
       "\n",
       "    .dataframe tbody tr th {\n",
       "        vertical-align: top;\n",
       "    }\n",
       "\n",
       "    .dataframe thead th {\n",
       "        text-align: right;\n",
       "    }\n",
       "</style>\n",
       "<table border=\"1\" class=\"dataframe\">\n",
       "  <thead>\n",
       "    <tr style=\"text-align: right;\">\n",
       "      <th></th>\n",
       "      <th>기온(°C)</th>\n",
       "      <th>풍속(m/s)</th>\n",
       "      <th>습도(%)</th>\n",
       "      <th>강수량(mm)</th>\n",
       "      <th>일조(hr)</th>\n",
       "      <th>비전기냉방설비운영</th>\n",
       "      <th>태양광보유</th>\n",
       "    </tr>\n",
       "  </thead>\n",
       "  <tbody>\n",
       "    <tr>\n",
       "      <th>0</th>\n",
       "      <td>17.6</td>\n",
       "      <td>2.5</td>\n",
       "      <td>92.0</td>\n",
       "      <td>0.8</td>\n",
       "      <td>0.0</td>\n",
       "      <td>0.0</td>\n",
       "      <td>0.0</td>\n",
       "    </tr>\n",
       "    <tr>\n",
       "      <th>1</th>\n",
       "      <td>17.7</td>\n",
       "      <td>2.9</td>\n",
       "      <td>91.0</td>\n",
       "      <td>0.3</td>\n",
       "      <td>0.0</td>\n",
       "      <td>0.0</td>\n",
       "      <td>0.0</td>\n",
       "    </tr>\n",
       "    <tr>\n",
       "      <th>2</th>\n",
       "      <td>17.5</td>\n",
       "      <td>3.2</td>\n",
       "      <td>91.0</td>\n",
       "      <td>0.0</td>\n",
       "      <td>0.0</td>\n",
       "      <td>0.0</td>\n",
       "      <td>0.0</td>\n",
       "    </tr>\n",
       "    <tr>\n",
       "      <th>3</th>\n",
       "      <td>17.1</td>\n",
       "      <td>3.2</td>\n",
       "      <td>91.0</td>\n",
       "      <td>0.0</td>\n",
       "      <td>0.0</td>\n",
       "      <td>0.0</td>\n",
       "      <td>0.0</td>\n",
       "    </tr>\n",
       "    <tr>\n",
       "      <th>4</th>\n",
       "      <td>17.0</td>\n",
       "      <td>3.3</td>\n",
       "      <td>92.0</td>\n",
       "      <td>0.0</td>\n",
       "      <td>0.0</td>\n",
       "      <td>0.0</td>\n",
       "      <td>0.0</td>\n",
       "    </tr>\n",
       "    <tr>\n",
       "      <th>...</th>\n",
       "      <td>...</td>\n",
       "      <td>...</td>\n",
       "      <td>...</td>\n",
       "      <td>...</td>\n",
       "      <td>...</td>\n",
       "      <td>...</td>\n",
       "      <td>...</td>\n",
       "    </tr>\n",
       "    <tr>\n",
       "      <th>2035</th>\n",
       "      <td>29.4</td>\n",
       "      <td>3.4</td>\n",
       "      <td>66.0</td>\n",
       "      <td>0.0</td>\n",
       "      <td>0.2</td>\n",
       "      <td>0.0</td>\n",
       "      <td>0.0</td>\n",
       "    </tr>\n",
       "    <tr>\n",
       "      <th>2036</th>\n",
       "      <td>28.7</td>\n",
       "      <td>1.9</td>\n",
       "      <td>69.0</td>\n",
       "      <td>0.0</td>\n",
       "      <td>0.0</td>\n",
       "      <td>0.0</td>\n",
       "      <td>0.0</td>\n",
       "    </tr>\n",
       "    <tr>\n",
       "      <th>2037</th>\n",
       "      <td>28.3</td>\n",
       "      <td>1.1</td>\n",
       "      <td>71.0</td>\n",
       "      <td>0.0</td>\n",
       "      <td>0.0</td>\n",
       "      <td>0.0</td>\n",
       "      <td>0.0</td>\n",
       "    </tr>\n",
       "    <tr>\n",
       "      <th>2038</th>\n",
       "      <td>28.3</td>\n",
       "      <td>2.4</td>\n",
       "      <td>72.0</td>\n",
       "      <td>0.0</td>\n",
       "      <td>0.0</td>\n",
       "      <td>0.0</td>\n",
       "      <td>0.0</td>\n",
       "    </tr>\n",
       "    <tr>\n",
       "      <th>2039</th>\n",
       "      <td>28.1</td>\n",
       "      <td>2.3</td>\n",
       "      <td>73.0</td>\n",
       "      <td>0.0</td>\n",
       "      <td>0.0</td>\n",
       "      <td>0.0</td>\n",
       "      <td>0.0</td>\n",
       "    </tr>\n",
       "  </tbody>\n",
       "</table>\n",
       "<p>2040 rows × 7 columns</p>\n",
       "</div>"
      ],
      "text/plain": [
       "      기온(°C)  풍속(m/s)  습도(%)  강수량(mm)  일조(hr)  비전기냉방설비운영  태양광보유\n",
       "0       17.6      2.5   92.0      0.8     0.0        0.0    0.0\n",
       "1       17.7      2.9   91.0      0.3     0.0        0.0    0.0\n",
       "2       17.5      3.2   91.0      0.0     0.0        0.0    0.0\n",
       "3       17.1      3.2   91.0      0.0     0.0        0.0    0.0\n",
       "4       17.0      3.3   92.0      0.0     0.0        0.0    0.0\n",
       "...      ...      ...    ...      ...     ...        ...    ...\n",
       "2035    29.4      3.4   66.0      0.0     0.2        0.0    0.0\n",
       "2036    28.7      1.9   69.0      0.0     0.0        0.0    0.0\n",
       "2037    28.3      1.1   71.0      0.0     0.0        0.0    0.0\n",
       "2038    28.3      2.4   72.0      0.0     0.0        0.0    0.0\n",
       "2039    28.1      2.3   73.0      0.0     0.0        0.0    0.0\n",
       "\n",
       "[2040 rows x 7 columns]"
      ]
     },
     "execution_count": 27,
     "metadata": {},
     "output_type": "execute_result"
    }
   ],
   "source": [
    "X"
   ]
  },
  {
   "cell_type": "code",
   "execution_count": 28,
   "id": "express-marketplace",
   "metadata": {
    "execution": {
     "iopub.execute_input": "2021-06-09T08:36:12.176067Z",
     "iopub.status.busy": "2021-06-09T08:36:12.175179Z",
     "iopub.status.idle": "2021-06-09T08:36:12.177884Z",
     "shell.execute_reply": "2021-06-09T08:36:12.177422Z",
     "shell.execute_reply.started": "2021-06-09T08:00:35.742646Z"
    },
    "papermill": {
     "duration": 0.06778,
     "end_time": "2021-06-09T08:36:12.178024",
     "exception": false,
     "start_time": "2021-06-09T08:36:12.110244",
     "status": "completed"
    },
    "tags": []
   },
   "outputs": [],
   "source": [
    "X_newindex=X.reset_index()"
   ]
  },
  {
   "cell_type": "code",
   "execution_count": 29,
   "id": "infinite-covering",
   "metadata": {
    "execution": {
     "iopub.execute_input": "2021-06-09T08:36:12.314569Z",
     "iopub.status.busy": "2021-06-09T08:36:12.313579Z",
     "iopub.status.idle": "2021-06-09T08:36:12.317326Z",
     "shell.execute_reply": "2021-06-09T08:36:12.317941Z",
     "shell.execute_reply.started": "2021-06-09T08:00:35.751892Z"
    },
    "papermill": {
     "duration": 0.080753,
     "end_time": "2021-06-09T08:36:12.318117",
     "exception": false,
     "start_time": "2021-06-09T08:36:12.237364",
     "status": "completed"
    },
    "tags": []
   },
   "outputs": [
    {
     "data": {
      "text/html": [
       "<div>\n",
       "<style scoped>\n",
       "    .dataframe tbody tr th:only-of-type {\n",
       "        vertical-align: middle;\n",
       "    }\n",
       "\n",
       "    .dataframe tbody tr th {\n",
       "        vertical-align: top;\n",
       "    }\n",
       "\n",
       "    .dataframe thead th {\n",
       "        text-align: right;\n",
       "    }\n",
       "</style>\n",
       "<table border=\"1\" class=\"dataframe\">\n",
       "  <thead>\n",
       "    <tr style=\"text-align: right;\">\n",
       "      <th></th>\n",
       "      <th>index</th>\n",
       "      <th>기온(°C)</th>\n",
       "      <th>풍속(m/s)</th>\n",
       "      <th>습도(%)</th>\n",
       "      <th>강수량(mm)</th>\n",
       "      <th>일조(hr)</th>\n",
       "      <th>비전기냉방설비운영</th>\n",
       "      <th>태양광보유</th>\n",
       "    </tr>\n",
       "  </thead>\n",
       "  <tbody>\n",
       "    <tr>\n",
       "      <th>0</th>\n",
       "      <td>0</td>\n",
       "      <td>17.6</td>\n",
       "      <td>2.5</td>\n",
       "      <td>92.0</td>\n",
       "      <td>0.8</td>\n",
       "      <td>0.0</td>\n",
       "      <td>0.0</td>\n",
       "      <td>0.0</td>\n",
       "    </tr>\n",
       "    <tr>\n",
       "      <th>1</th>\n",
       "      <td>1</td>\n",
       "      <td>17.7</td>\n",
       "      <td>2.9</td>\n",
       "      <td>91.0</td>\n",
       "      <td>0.3</td>\n",
       "      <td>0.0</td>\n",
       "      <td>0.0</td>\n",
       "      <td>0.0</td>\n",
       "    </tr>\n",
       "    <tr>\n",
       "      <th>2</th>\n",
       "      <td>2</td>\n",
       "      <td>17.5</td>\n",
       "      <td>3.2</td>\n",
       "      <td>91.0</td>\n",
       "      <td>0.0</td>\n",
       "      <td>0.0</td>\n",
       "      <td>0.0</td>\n",
       "      <td>0.0</td>\n",
       "    </tr>\n",
       "    <tr>\n",
       "      <th>3</th>\n",
       "      <td>3</td>\n",
       "      <td>17.1</td>\n",
       "      <td>3.2</td>\n",
       "      <td>91.0</td>\n",
       "      <td>0.0</td>\n",
       "      <td>0.0</td>\n",
       "      <td>0.0</td>\n",
       "      <td>0.0</td>\n",
       "    </tr>\n",
       "    <tr>\n",
       "      <th>4</th>\n",
       "      <td>4</td>\n",
       "      <td>17.0</td>\n",
       "      <td>3.3</td>\n",
       "      <td>92.0</td>\n",
       "      <td>0.0</td>\n",
       "      <td>0.0</td>\n",
       "      <td>0.0</td>\n",
       "      <td>0.0</td>\n",
       "    </tr>\n",
       "    <tr>\n",
       "      <th>...</th>\n",
       "      <td>...</td>\n",
       "      <td>...</td>\n",
       "      <td>...</td>\n",
       "      <td>...</td>\n",
       "      <td>...</td>\n",
       "      <td>...</td>\n",
       "      <td>...</td>\n",
       "      <td>...</td>\n",
       "    </tr>\n",
       "    <tr>\n",
       "      <th>2035</th>\n",
       "      <td>2035</td>\n",
       "      <td>29.4</td>\n",
       "      <td>3.4</td>\n",
       "      <td>66.0</td>\n",
       "      <td>0.0</td>\n",
       "      <td>0.2</td>\n",
       "      <td>0.0</td>\n",
       "      <td>0.0</td>\n",
       "    </tr>\n",
       "    <tr>\n",
       "      <th>2036</th>\n",
       "      <td>2036</td>\n",
       "      <td>28.7</td>\n",
       "      <td>1.9</td>\n",
       "      <td>69.0</td>\n",
       "      <td>0.0</td>\n",
       "      <td>0.0</td>\n",
       "      <td>0.0</td>\n",
       "      <td>0.0</td>\n",
       "    </tr>\n",
       "    <tr>\n",
       "      <th>2037</th>\n",
       "      <td>2037</td>\n",
       "      <td>28.3</td>\n",
       "      <td>1.1</td>\n",
       "      <td>71.0</td>\n",
       "      <td>0.0</td>\n",
       "      <td>0.0</td>\n",
       "      <td>0.0</td>\n",
       "      <td>0.0</td>\n",
       "    </tr>\n",
       "    <tr>\n",
       "      <th>2038</th>\n",
       "      <td>2038</td>\n",
       "      <td>28.3</td>\n",
       "      <td>2.4</td>\n",
       "      <td>72.0</td>\n",
       "      <td>0.0</td>\n",
       "      <td>0.0</td>\n",
       "      <td>0.0</td>\n",
       "      <td>0.0</td>\n",
       "    </tr>\n",
       "    <tr>\n",
       "      <th>2039</th>\n",
       "      <td>2039</td>\n",
       "      <td>28.1</td>\n",
       "      <td>2.3</td>\n",
       "      <td>73.0</td>\n",
       "      <td>0.0</td>\n",
       "      <td>0.0</td>\n",
       "      <td>0.0</td>\n",
       "      <td>0.0</td>\n",
       "    </tr>\n",
       "  </tbody>\n",
       "</table>\n",
       "<p>2040 rows × 8 columns</p>\n",
       "</div>"
      ],
      "text/plain": [
       "      index  기온(°C)  풍속(m/s)  습도(%)  강수량(mm)  일조(hr)  비전기냉방설비운영  태양광보유\n",
       "0         0    17.6      2.5   92.0      0.8     0.0        0.0    0.0\n",
       "1         1    17.7      2.9   91.0      0.3     0.0        0.0    0.0\n",
       "2         2    17.5      3.2   91.0      0.0     0.0        0.0    0.0\n",
       "3         3    17.1      3.2   91.0      0.0     0.0        0.0    0.0\n",
       "4         4    17.0      3.3   92.0      0.0     0.0        0.0    0.0\n",
       "...     ...     ...      ...    ...      ...     ...        ...    ...\n",
       "2035   2035    29.4      3.4   66.0      0.0     0.2        0.0    0.0\n",
       "2036   2036    28.7      1.9   69.0      0.0     0.0        0.0    0.0\n",
       "2037   2037    28.3      1.1   71.0      0.0     0.0        0.0    0.0\n",
       "2038   2038    28.3      2.4   72.0      0.0     0.0        0.0    0.0\n",
       "2039   2039    28.1      2.3   73.0      0.0     0.0        0.0    0.0\n",
       "\n",
       "[2040 rows x 8 columns]"
      ]
     },
     "execution_count": 29,
     "metadata": {},
     "output_type": "execute_result"
    }
   ],
   "source": [
    "X_newindex"
   ]
  },
  {
   "cell_type": "code",
   "execution_count": null,
   "id": "capable-isolation",
   "metadata": {
    "execution": {
     "iopub.execute_input": "2021-06-09T08:00:35.774297Z",
     "iopub.status.busy": "2021-06-09T08:00:35.773898Z",
     "iopub.status.idle": "2021-06-09T08:00:35.780318Z",
     "shell.execute_reply": "2021-06-09T08:00:35.779503Z",
     "shell.execute_reply.started": "2021-06-09T08:00:35.774230Z"
    },
    "papermill": {
     "duration": 0.059911,
     "end_time": "2021-06-09T08:36:12.440524",
     "exception": false,
     "start_time": "2021-06-09T08:36:12.380613",
     "status": "completed"
    },
    "tags": []
   },
   "outputs": [],
   "source": []
  },
  {
   "cell_type": "code",
   "execution_count": 30,
   "id": "noticed-lawrence",
   "metadata": {
    "execution": {
     "iopub.execute_input": "2021-06-09T08:36:12.567763Z",
     "iopub.status.busy": "2021-06-09T08:36:12.566839Z",
     "iopub.status.idle": "2021-06-09T08:36:12.569569Z",
     "shell.execute_reply": "2021-06-09T08:36:12.569134Z",
     "shell.execute_reply.started": "2021-06-09T08:00:35.782025Z"
    },
    "papermill": {
     "duration": 0.068387,
     "end_time": "2021-06-09T08:36:12.569697",
     "exception": false,
     "start_time": "2021-06-09T08:36:12.501310",
     "status": "completed"
    },
    "tags": []
   },
   "outputs": [],
   "source": [
    "drop_list=['num','date_time']\n",
    "train_temp=num1_train.drop(drop_list,axis=1)\n",
    "# drop_list=\n",
    "# train_temp=train_EDA.drop()"
   ]
  },
  {
   "cell_type": "code",
   "execution_count": 31,
   "id": "inclusive-guatemala",
   "metadata": {
    "execution": {
     "iopub.execute_input": "2021-06-09T08:36:12.695837Z",
     "iopub.status.busy": "2021-06-09T08:36:12.694901Z",
     "iopub.status.idle": "2021-06-09T08:36:12.697498Z",
     "shell.execute_reply": "2021-06-09T08:36:12.697051Z",
     "shell.execute_reply.started": "2021-06-09T08:00:35.792992Z"
    },
    "papermill": {
     "duration": 0.067634,
     "end_time": "2021-06-09T08:36:12.697635",
     "exception": false,
     "start_time": "2021-06-09T08:36:12.630001",
     "status": "completed"
    },
    "tags": []
   },
   "outputs": [],
   "source": [
    "train_newindex=train_temp.reset_index()"
   ]
  },
  {
   "cell_type": "code",
   "execution_count": 32,
   "id": "catholic-aside",
   "metadata": {
    "execution": {
     "iopub.execute_input": "2021-06-09T08:36:12.825073Z",
     "iopub.status.busy": "2021-06-09T08:36:12.824186Z",
     "iopub.status.idle": "2021-06-09T08:36:12.826888Z",
     "shell.execute_reply": "2021-06-09T08:36:12.826448Z",
     "shell.execute_reply.started": "2021-06-09T08:00:35.803995Z"
    },
    "papermill": {
     "duration": 0.069985,
     "end_time": "2021-06-09T08:36:12.827011",
     "exception": false,
     "start_time": "2021-06-09T08:36:12.757026",
     "status": "completed"
    },
    "tags": []
   },
   "outputs": [],
   "source": [
    "train_newtime=train_newindex.rename(columns={'index':'time'})"
   ]
  },
  {
   "cell_type": "code",
   "execution_count": 33,
   "id": "confused-enhancement",
   "metadata": {
    "execution": {
     "iopub.execute_input": "2021-06-09T08:36:12.951943Z",
     "iopub.status.busy": "2021-06-09T08:36:12.951066Z",
     "iopub.status.idle": "2021-06-09T08:36:15.068042Z",
     "shell.execute_reply": "2021-06-09T08:36:15.068613Z",
     "shell.execute_reply.started": "2021-06-09T08:00:35.814712Z"
    },
    "papermill": {
     "duration": 2.182221,
     "end_time": "2021-06-09T08:36:15.068793",
     "exception": false,
     "start_time": "2021-06-09T08:36:12.886572",
     "status": "completed"
    },
    "tags": []
   },
   "outputs": [],
   "source": [
    "from pytorch_forecasting.data import (\n",
    "     TimeSeriesDataSet,\n",
    "     GroupNormalizer\n",
    " )"
   ]
  },
  {
   "cell_type": "code",
   "execution_count": 34,
   "id": "delayed-spine",
   "metadata": {
    "execution": {
     "iopub.execute_input": "2021-06-09T08:36:15.205079Z",
     "iopub.status.busy": "2021-06-09T08:36:15.204200Z",
     "iopub.status.idle": "2021-06-09T08:36:15.208720Z",
     "shell.execute_reply": "2021-06-09T08:36:15.209176Z",
     "shell.execute_reply.started": "2021-06-09T08:00:37.894207Z"
    },
    "papermill": {
     "duration": 0.074077,
     "end_time": "2021-06-09T08:36:15.209323",
     "exception": false,
     "start_time": "2021-06-09T08:36:15.135246",
     "status": "completed"
    },
    "tags": []
   },
   "outputs": [
    {
     "data": {
      "text/plain": [
       "2039"
      ]
     },
     "execution_count": 34,
     "metadata": {},
     "output_type": "execute_result"
    }
   ],
   "source": [
    "X_newindex['index'].max()"
   ]
  },
  {
   "cell_type": "code",
   "execution_count": 35,
   "id": "refined-husband",
   "metadata": {
    "execution": {
     "iopub.execute_input": "2021-06-09T08:36:15.335549Z",
     "iopub.status.busy": "2021-06-09T08:36:15.334886Z",
     "iopub.status.idle": "2021-06-09T08:36:15.339231Z",
     "shell.execute_reply": "2021-06-09T08:36:15.338758Z",
     "shell.execute_reply.started": "2021-06-09T08:00:37.907721Z"
    },
    "papermill": {
     "duration": 0.069138,
     "end_time": "2021-06-09T08:36:15.339380",
     "exception": false,
     "start_time": "2021-06-09T08:36:15.270242",
     "status": "completed"
    },
    "tags": []
   },
   "outputs": [],
   "source": [
    "group_ids=[\"기온(°C)\"]"
   ]
  },
  {
   "cell_type": "code",
   "execution_count": 36,
   "id": "concerned-performance",
   "metadata": {
    "execution": {
     "iopub.execute_input": "2021-06-09T08:36:15.475180Z",
     "iopub.status.busy": "2021-06-09T08:36:15.474489Z",
     "iopub.status.idle": "2021-06-09T08:36:16.227167Z",
     "shell.execute_reply": "2021-06-09T08:36:16.226521Z",
     "shell.execute_reply.started": "2021-06-09T08:00:37.915024Z"
    },
    "papermill": {
     "duration": 0.826361,
     "end_time": "2021-06-09T08:36:16.227308",
     "exception": false,
     "start_time": "2021-06-09T08:36:15.400947",
     "status": "completed"
    },
    "tags": []
   },
   "outputs": [],
   "source": [
    "max_prediction_length = 6\n",
    "training=TimeSeriesDataSet (data=train_newtime , \n",
    "                            time_idx =\"time\" , \n",
    "                            target=\"전력사용량(kWh)\" , \n",
    "                            group_ids =group_ids,\n",
    "                           allow_missing_timesteps = True,\n",
    "                            max_prediction_length=max_prediction_length,\n",
    "                           time_varying_known_reals=['time','비전기냉방설비운영','태양광보유'],\n",
    "                           time_varying_unknown_reals=['기온(°C)','풍속(m/s)','습도(%)','강수량(mm)','일조(hr)'])\n"
   ]
  },
  {
   "cell_type": "code",
   "execution_count": 37,
   "id": "portuguese-efficiency",
   "metadata": {
    "execution": {
     "iopub.execute_input": "2021-06-09T08:36:16.364334Z",
     "iopub.status.busy": "2021-06-09T08:36:16.363180Z",
     "iopub.status.idle": "2021-06-09T08:36:16.424566Z",
     "shell.execute_reply": "2021-06-09T08:36:16.424106Z",
     "shell.execute_reply.started": "2021-06-09T08:00:38.629768Z"
    },
    "papermill": {
     "duration": 0.135356,
     "end_time": "2021-06-09T08:36:16.424699",
     "exception": false,
     "start_time": "2021-06-09T08:36:16.289343",
     "status": "completed"
    },
    "tags": []
   },
   "outputs": [],
   "source": [
    "validation = TimeSeriesDataSet.from_dataset(training, train_newtime, min_prediction_idx=training.index.time.max() + 1, stop_randomization=True)\n",
    "batch_size = 128\n",
    "train_dataloader = training.to_dataloader(train=True, batch_size=batch_size, num_workers=2)\n",
    "val_dataloader = validation.to_dataloader(train=False, batch_size=batch_size, num_workers=2)\n"
   ]
  },
  {
   "cell_type": "code",
   "execution_count": 38,
   "id": "accomplished-ethiopia",
   "metadata": {
    "execution": {
     "iopub.execute_input": "2021-06-09T08:36:16.550757Z",
     "iopub.status.busy": "2021-06-09T08:36:16.550137Z",
     "iopub.status.idle": "2021-06-09T08:36:16.554484Z",
     "shell.execute_reply": "2021-06-09T08:36:16.554022Z",
     "shell.execute_reply.started": "2021-06-09T08:00:38.702657Z"
    },
    "papermill": {
     "duration": 0.070148,
     "end_time": "2021-06-09T08:36:16.554610",
     "exception": false,
     "start_time": "2021-06-09T08:36:16.484462",
     "status": "completed"
    },
    "tags": []
   },
   "outputs": [],
   "source": [
    "import pytorch_lightning as pl"
   ]
  },
  {
   "cell_type": "code",
   "execution_count": 39,
   "id": "genetic-coffee",
   "metadata": {
    "execution": {
     "iopub.execute_input": "2021-06-09T08:36:16.682314Z",
     "iopub.status.busy": "2021-06-09T08:36:16.681370Z",
     "iopub.status.idle": "2021-06-09T08:36:16.684205Z",
     "shell.execute_reply": "2021-06-09T08:36:16.683786Z",
     "shell.execute_reply.started": "2021-06-09T08:00:38.711696Z"
    },
    "papermill": {
     "duration": 0.068498,
     "end_time": "2021-06-09T08:36:16.684321",
     "exception": false,
     "start_time": "2021-06-09T08:36:16.615823",
     "status": "completed"
    },
    "tags": []
   },
   "outputs": [],
   "source": [
    "from pytorch_lightning.callbacks import EarlyStopping, LearningRateMonitor"
   ]
  },
  {
   "cell_type": "code",
   "execution_count": 40,
   "id": "material-sensitivity",
   "metadata": {
    "execution": {
     "iopub.execute_input": "2021-06-09T08:36:16.860363Z",
     "iopub.status.busy": "2021-06-09T08:36:16.859368Z",
     "iopub.status.idle": "2021-06-09T08:36:16.864699Z",
     "shell.execute_reply": "2021-06-09T08:36:16.863833Z",
     "shell.execute_reply.started": "2021-06-09T08:00:38.723571Z"
    },
    "papermill": {
     "duration": 0.117867,
     "end_time": "2021-06-09T08:36:16.864840",
     "exception": false,
     "start_time": "2021-06-09T08:36:16.746973",
     "status": "completed"
    },
    "tags": []
   },
   "outputs": [],
   "source": [
    "early_stop_callback = EarlyStopping(monitor=\"val_loss\",\n",
    "                                    min_delta=1e-4, patience=1,\n",
    "                                    verbose=False, mode=\"min\")\n",
    "lr_logger = LearningRateMonitor()\n",
    "trainer = pl.Trainer(\n",
    "    max_epochs=100,\n",
    "    gpus=0,\n",
    "    gradient_clip_val=0.1,\n",
    "    limit_train_batches=30,\n",
    "    callbacks=[lr_logger, early_stop_callback],\n",
    ")"
   ]
  },
  {
   "cell_type": "code",
   "execution_count": 41,
   "id": "heavy-bread",
   "metadata": {
    "execution": {
     "iopub.execute_input": "2021-06-09T08:36:17.005854Z",
     "iopub.status.busy": "2021-06-09T08:36:17.004085Z",
     "iopub.status.idle": "2021-06-09T08:36:17.006633Z",
     "shell.execute_reply": "2021-06-09T08:36:17.007054Z",
     "shell.execute_reply.started": "2021-06-09T08:00:38.782751Z"
    },
    "papermill": {
     "duration": 0.07392,
     "end_time": "2021-06-09T08:36:17.007195",
     "exception": false,
     "start_time": "2021-06-09T08:36:16.933275",
     "status": "completed"
    },
    "tags": []
   },
   "outputs": [],
   "source": [
    "from pytorch_forecasting import TimeSeriesDataSet, TemporalFusionTransformer\n",
    "from pytorch_forecasting.metrics import QuantileLoss"
   ]
  },
  {
   "cell_type": "code",
   "execution_count": 42,
   "id": "committed-mercury",
   "metadata": {
    "execution": {
     "iopub.execute_input": "2021-06-09T08:36:17.140932Z",
     "iopub.status.busy": "2021-06-09T08:36:17.139837Z",
     "iopub.status.idle": "2021-06-09T08:36:17.176245Z",
     "shell.execute_reply": "2021-06-09T08:36:17.175786Z",
     "shell.execute_reply.started": "2021-06-09T08:00:38.791643Z"
    },
    "papermill": {
     "duration": 0.105012,
     "end_time": "2021-06-09T08:36:17.176378",
     "exception": false,
     "start_time": "2021-06-09T08:36:17.071366",
     "status": "completed"
    },
    "tags": []
   },
   "outputs": [],
   "source": [
    "tft = TemporalFusionTransformer.from_dataset(\n",
    "    training,\n",
    "    # not meaningful for finding the learning rate but otherwise very important\n",
    "    learning_rate=0.03,\n",
    "    hidden_size=32,  # most important hyperparameter apart from learning rate\n",
    "    # number of attention heads. Set to up to 4 for large datasets\n",
    "    attention_head_size=1,\n",
    "    dropout=0.1,  # between 0.1 and 0.3 are good values\n",
    "    hidden_continuous_size=16,  # set to <= hidden_size\n",
    "    output_size=7,  # 7 quantiles by default\n",
    "    loss=QuantileLoss(),\n",
    "    # reduce learning rate if no improvement in validation loss after x epochs\n",
    "    reduce_on_plateau_patience=4,\n",
    ")"
   ]
  },
  {
   "cell_type": "code",
   "execution_count": null,
   "id": "breathing-carol",
   "metadata": {
    "papermill": {
     "duration": 0.059858,
     "end_time": "2021-06-09T08:36:17.297316",
     "exception": false,
     "start_time": "2021-06-09T08:36:17.237458",
     "status": "completed"
    },
    "tags": []
   },
   "outputs": [],
   "source": []
  },
  {
   "cell_type": "code",
   "execution_count": 43,
   "id": "bridal-hudson",
   "metadata": {
    "execution": {
     "iopub.execute_input": "2021-06-09T08:36:17.429804Z",
     "iopub.status.busy": "2021-06-09T08:36:17.428978Z",
     "iopub.status.idle": "2021-06-09T08:36:46.725881Z",
     "shell.execute_reply": "2021-06-09T08:36:46.725363Z",
     "shell.execute_reply.started": "2021-06-09T08:00:38.833635Z"
    },
    "papermill": {
     "duration": 29.368517,
     "end_time": "2021-06-09T08:36:46.726050",
     "exception": false,
     "start_time": "2021-06-09T08:36:17.357533",
     "status": "completed"
    },
    "tags": []
   },
   "outputs": [
    {
     "data": {
      "application/vnd.jupyter.widget-view+json": {
       "model_id": "4c9160c4342942e29996a721d6e874b7",
       "version_major": 2,
       "version_minor": 0
      },
      "text/plain": [
       "Finding best initial lr:   0%|          | 0/100 [00:00<?, ?it/s]"
      ]
     },
     "metadata": {},
     "output_type": "display_data"
    }
   ],
   "source": [
    "res = trainer.tuner.lr_find(\n",
    "    tft, train_dataloader=train_dataloader, \n",
    "    val_dataloaders=val_dataloader, early_stop_threshold=1000.0, max_lr=3, min_lr=1e-6\n",
    ")\n"
   ]
  },
  {
   "cell_type": "code",
   "execution_count": 44,
   "id": "studied-partner",
   "metadata": {
    "execution": {
     "iopub.execute_input": "2021-06-09T08:36:46.873843Z",
     "iopub.status.busy": "2021-06-09T08:36:46.872882Z",
     "iopub.status.idle": "2021-06-09T08:36:47.632468Z",
     "shell.execute_reply": "2021-06-09T08:36:47.633688Z",
     "shell.execute_reply.started": "2021-06-09T08:01:05.483452Z"
    },
    "papermill": {
     "duration": 0.845125,
     "end_time": "2021-06-09T08:36:47.633900",
     "exception": false,
     "start_time": "2021-06-09T08:36:46.788775",
     "status": "completed"
    },
    "tags": []
   },
   "outputs": [
    {
     "name": "stdout",
     "output_type": "stream",
     "text": [
      "suggested learning rate: 0.013975186201644882\n"
     ]
    },
    {
     "data": {
      "image/png": "[encoded data removed]",
      "text/plain": [
       "<Figure size 432x288 with 1 Axes>"
      ]
     },
     "metadata": {
      "needs_background": "light"
     },
     "output_type": "display_data"
    }
   ],
   "source": [
    "print(f\"suggested learning rate: {res.suggestion()}\")\n",
    "fig = res.plot(show=True, suggest=True)\n",
    "fig.show()"
   ]
  },
  {
   "cell_type": "code",
   "execution_count": 45,
   "id": "pending-distribution",
   "metadata": {
    "execution": {
     "iopub.execute_input": "2021-06-09T08:36:47.883537Z",
     "iopub.status.busy": "2021-06-09T08:36:47.882683Z",
     "iopub.status.idle": "2021-06-09T08:36:48.055747Z",
     "shell.execute_reply": "2021-06-09T08:36:48.055271Z",
     "shell.execute_reply.started": "2021-06-09T08:01:06.174953Z"
    },
    "papermill": {
     "duration": 0.298621,
     "end_time": "2021-06-09T08:36:48.055879",
     "exception": false,
     "start_time": "2021-06-09T08:36:47.757258",
     "status": "completed"
    },
    "tags": []
   },
   "outputs": [
    {
     "data": {
      "text/plain": [
       "tensor(15.6082)"
      ]
     },
     "execution_count": 45,
     "metadata": {},
     "output_type": "execute_result"
    }
   ],
   "source": [
    "actuals = torch.cat([y[0] for x, y in iter(val_dataloader)])\n",
    "predictions = tft.predict(val_dataloader)\n",
    "(actuals - predictions).abs().mean()"
   ]
  },
  {
   "cell_type": "code",
   "execution_count": 46,
   "id": "silent-debate",
   "metadata": {
    "execution": {
     "iopub.execute_input": "2021-06-09T08:36:48.188916Z",
     "iopub.status.busy": "2021-06-09T08:36:48.187262Z",
     "iopub.status.idle": "2021-06-09T08:36:48.272208Z",
     "shell.execute_reply": "2021-06-09T08:36:48.271653Z",
     "shell.execute_reply.started": "2021-06-09T08:01:06.325672Z"
    },
    "papermill": {
     "duration": 0.153563,
     "end_time": "2021-06-09T08:36:48.272355",
     "exception": false,
     "start_time": "2021-06-09T08:36:48.118792",
     "status": "completed"
    },
    "tags": []
   },
   "outputs": [],
   "source": [
    "raw_predictions, x = tft.predict(val_dataloader, mode=\"raw\", return_x=True)"
   ]
  },
  {
   "cell_type": "code",
   "execution_count": 47,
   "id": "civil-brake",
   "metadata": {
    "execution": {
     "iopub.execute_input": "2021-06-09T08:36:48.403132Z",
     "iopub.status.busy": "2021-06-09T08:36:48.402287Z",
     "iopub.status.idle": "2021-06-09T08:36:49.067610Z",
     "shell.execute_reply": "2021-06-09T08:36:49.067131Z",
     "shell.execute_reply.started": "2021-06-09T08:01:06.439539Z"
    },
    "papermill": {
     "duration": 0.732593,
     "end_time": "2021-06-09T08:36:49.067733",
     "exception": false,
     "start_time": "2021-06-09T08:36:48.335140",
     "status": "completed"
    },
    "tags": []
   },
   "outputs": [
    {
     "data": {
      "image/png": "[encoded data removed]",
      "text/plain": [
       "<Figure size 432x288 with 2 Axes>"
      ]
     },
     "metadata": {
      "needs_background": "light"
     },
     "output_type": "display_data"
    },
    {
     "data": {
      "image/png": "[encoded data removed]",
      "text/plain": [
       "<Figure size 432x288 with 2 Axes>"
      ]
     },
     "metadata": {
      "needs_background": "light"
     },
     "output_type": "display_data"
    }
   ],
   "source": [
    "for idx in range(2):  # plot 10 examples\n",
    "    tft.plot_prediction(x, raw_predictions, idx=idx, add_loss_to_title=True)"
   ]
  },
  {
   "cell_type": "code",
   "execution_count": 48,
   "id": "bored-hotel",
   "metadata": {
    "execution": {
     "iopub.execute_input": "2021-06-09T08:36:49.202676Z",
     "iopub.status.busy": "2021-06-09T08:36:49.202002Z",
     "iopub.status.idle": "2021-06-09T08:36:52.130730Z",
     "shell.execute_reply": "2021-06-09T08:36:52.130220Z",
     "shell.execute_reply.started": "2021-06-09T08:01:07.056065Z"
    },
    "papermill": {
     "duration": 2.999699,
     "end_time": "2021-06-09T08:36:52.130869",
     "exception": false,
     "start_time": "2021-06-09T08:36:49.131170",
     "status": "completed"
    },
    "tags": []
   },
   "outputs": [
    {
     "data": {
      "image/png": "[encoded data removed]",
      "text/plain": [
       "<Figure size 720x360 with 2 Axes>"
      ]
     },
     "metadata": {
      "needs_background": "light"
     },
     "output_type": "display_data"
    },
    {
     "data": {
      "image/png": "[encoded data removed]",
      "text/plain": [
       "<Figure size 720x360 with 2 Axes>"
      ]
     },
     "metadata": {
      "needs_background": "light"
     },
     "output_type": "display_data"
    },
    {
     "data": {
      "image/png": "[encoded data removed]",
      "text/plain": [
       "<Figure size 720x360 with 2 Axes>"
      ]
     },
     "metadata": {
      "needs_background": "light"
     },
     "output_type": "display_data"
    },
    {
     "data": {
      "image/png": "[encoded data removed]",
      "text/plain": [
       "<Figure size 720x360 with 2 Axes>"
      ]
     },
     "metadata": {
      "needs_background": "light"
     },
     "output_type": "display_data"
    },
    {
     "data": {
      "image/png": "[encoded data removed]",
      "text/plain": [
       "<Figure size 720x360 with 2 Axes>"
      ]
     },
     "metadata": {
      "needs_background": "light"
     },
     "output_type": "display_data"
    },
    {
     "data": {
      "image/png": "[encoded data removed]",
      "text/plain": [
       "<Figure size 720x360 with 2 Axes>"
      ]
     },
     "metadata": {
      "needs_background": "light"
     },
     "output_type": "display_data"
    },
    {
     "data": {
      "image/png": "[encoded data removed]",
      "text/plain": [
       "<Figure size 720x360 with 2 Axes>"
      ]
     },
     "metadata": {
      "needs_background": "light"
     },
     "output_type": "display_data"
    },
    {
     "data": {
      "image/png": "[encoded data removed]",
      "text/plain": [
       "<Figure size 720x360 with 2 Axes>"
      ]
     },
     "metadata": {
      "needs_background": "light"
     },
     "output_type": "display_data"
    }
   ],
   "source": [
    "predictions, x = tft.predict(val_dataloader, return_x=True)\n",
    "predictions_vs_actuals = tft.calculate_prediction_actual_by_variable(x, predictions)\n",
    "tft.plot_prediction_actual_by_variable(predictions_vs_actuals);"
   ]
  },
  {
   "cell_type": "code",
   "execution_count": 49,
   "id": "inappropriate-specialist",
   "metadata": {
    "execution": {
     "iopub.execute_input": "2021-06-09T08:36:52.281031Z",
     "iopub.status.busy": "2021-06-09T08:36:52.280131Z",
     "iopub.status.idle": "2021-06-09T08:36:52.282549Z",
     "shell.execute_reply": "2021-06-09T08:36:52.282958Z",
     "shell.execute_reply.started": "2021-06-09T08:01:09.746542Z"
    },
    "papermill": {
     "duration": 0.079953,
     "end_time": "2021-06-09T08:36:52.283099",
     "exception": false,
     "start_time": "2021-06-09T08:36:52.203146",
     "status": "completed"
    },
    "tags": []
   },
   "outputs": [],
   "source": [
    "# X=sort_train.drop(x_drop_list,axis=1)\n",
    "# y=sort_train[['전력사용량(kWh)']]"
   ]
  },
  {
   "cell_type": "code",
   "execution_count": 50,
   "id": "stock-specification",
   "metadata": {
    "execution": {
     "iopub.execute_input": "2021-06-09T08:36:52.435542Z",
     "iopub.status.busy": "2021-06-09T08:36:52.433916Z",
     "iopub.status.idle": "2021-06-09T08:36:52.436271Z",
     "shell.execute_reply": "2021-06-09T08:36:52.436734Z",
     "shell.execute_reply.started": "2021-06-09T08:01:09.752761Z"
    },
    "papermill": {
     "duration": 0.08116,
     "end_time": "2021-06-09T08:36:52.436874",
     "exception": false,
     "start_time": "2021-06-09T08:36:52.355714",
     "status": "completed"
    },
    "tags": []
   },
   "outputs": [],
   "source": [
    "#num== 1만 뽑아서 test\n",
    "\n",
    "num1_test=test_EDA[test_EDA['num']==1]\n"
   ]
  },
  {
   "cell_type": "code",
   "execution_count": 51,
   "id": "martial-colonial",
   "metadata": {
    "execution": {
     "iopub.execute_input": "2021-06-09T08:36:52.582664Z",
     "iopub.status.busy": "2021-06-09T08:36:52.581989Z",
     "iopub.status.idle": "2021-06-09T08:36:52.586676Z",
     "shell.execute_reply": "2021-06-09T08:36:52.587107Z",
     "shell.execute_reply.started": "2021-06-09T08:01:09.764382Z"
    },
    "papermill": {
     "duration": 0.079914,
     "end_time": "2021-06-09T08:36:52.587258",
     "exception": false,
     "start_time": "2021-06-09T08:36:52.507344",
     "status": "completed"
    },
    "tags": []
   },
   "outputs": [
    {
     "data": {
      "text/plain": [
       "2039"
      ]
     },
     "execution_count": 51,
     "metadata": {},
     "output_type": "execute_result"
    }
   ],
   "source": [
    "train_newtime['time'].max()"
   ]
  },
  {
   "cell_type": "code",
   "execution_count": 52,
   "id": "disciplinary-collector",
   "metadata": {
    "execution": {
     "iopub.execute_input": "2021-06-09T08:36:52.738507Z",
     "iopub.status.busy": "2021-06-09T08:36:52.737635Z",
     "iopub.status.idle": "2021-06-09T08:36:52.741394Z",
     "shell.execute_reply": "2021-06-09T08:36:52.740927Z",
     "shell.execute_reply.started": "2021-06-09T08:01:09.774981Z"
    },
    "papermill": {
     "duration": 0.082998,
     "end_time": "2021-06-09T08:36:52.741547",
     "exception": false,
     "start_time": "2021-06-09T08:36:52.658549",
     "status": "completed"
    },
    "tags": []
   },
   "outputs": [],
   "source": [
    "\n",
    "drop_list=['num','date_time']\n",
    "test_temp=num1_test.drop(drop_list,axis=1)\n",
    "test_newindex=test_temp.reset_index()\n",
    "test_newtime=test_newindex.rename(columns={'index':'time'})\n"
   ]
  },
  {
   "cell_type": "code",
   "execution_count": 53,
   "id": "gothic-organ",
   "metadata": {
    "execution": {
     "iopub.execute_input": "2021-06-09T08:36:52.894835Z",
     "iopub.status.busy": "2021-06-09T08:36:52.893847Z",
     "iopub.status.idle": "2021-06-09T08:36:52.896894Z",
     "shell.execute_reply": "2021-06-09T08:36:52.896392Z",
     "shell.execute_reply.started": "2021-06-09T08:01:09.785410Z"
    },
    "papermill": {
     "duration": 0.082073,
     "end_time": "2021-06-09T08:36:52.897052",
     "exception": false,
     "start_time": "2021-06-09T08:36:52.814979",
     "status": "completed"
    },
    "tags": []
   },
   "outputs": [],
   "source": [
    "test_newtime['time']=test_newtime['time']+2040"
   ]
  },
  {
   "cell_type": "code",
   "execution_count": 54,
   "id": "electoral-trade",
   "metadata": {
    "execution": {
     "iopub.execute_input": "2021-06-09T08:36:53.052235Z",
     "iopub.status.busy": "2021-06-09T08:36:53.051451Z",
     "iopub.status.idle": "2021-06-09T08:36:53.054389Z",
     "shell.execute_reply": "2021-06-09T08:36:53.054949Z",
     "shell.execute_reply.started": "2021-06-09T08:01:09.795737Z"
    },
    "papermill": {
     "duration": 0.083597,
     "end_time": "2021-06-09T08:36:53.055094",
     "exception": false,
     "start_time": "2021-06-09T08:36:52.971497",
     "status": "completed"
    },
    "tags": []
   },
   "outputs": [
    {
     "data": {
      "text/plain": [
       "0      2040\n",
       "1      2041\n",
       "2      2042\n",
       "3      2043\n",
       "4      2044\n",
       "       ... \n",
       "163    2203\n",
       "164    2204\n",
       "165    2205\n",
       "166    2206\n",
       "167    2207\n",
       "Name: time, Length: 168, dtype: int64"
      ]
     },
     "execution_count": 54,
     "metadata": {},
     "output_type": "execute_result"
    }
   ],
   "source": [
    "test_newtime['time']"
   ]
  },
  {
   "cell_type": "code",
   "execution_count": 55,
   "id": "attached-enlargement",
   "metadata": {
    "execution": {
     "iopub.execute_input": "2021-06-09T08:36:53.218097Z",
     "iopub.status.busy": "2021-06-09T08:36:53.217327Z",
     "iopub.status.idle": "2021-06-09T08:36:53.220538Z",
     "shell.execute_reply": "2021-06-09T08:36:53.220981Z",
     "shell.execute_reply.started": "2021-06-09T08:01:09.808670Z"
    },
    "papermill": {
     "duration": 0.090801,
     "end_time": "2021-06-09T08:36:53.221166",
     "exception": false,
     "start_time": "2021-06-09T08:36:53.130365",
     "status": "completed"
    },
    "tags": []
   },
   "outputs": [
    {
     "data": {
      "text/html": [
       "<div>\n",
       "<style scoped>\n",
       "    .dataframe tbody tr th:only-of-type {\n",
       "        vertical-align: middle;\n",
       "    }\n",
       "\n",
       "    .dataframe tbody tr th {\n",
       "        vertical-align: top;\n",
       "    }\n",
       "\n",
       "    .dataframe thead th {\n",
       "        text-align: right;\n",
       "    }\n",
       "</style>\n",
       "<table border=\"1\" class=\"dataframe\">\n",
       "  <thead>\n",
       "    <tr style=\"text-align: right;\">\n",
       "      <th></th>\n",
       "      <th>num_date_time</th>\n",
       "      <th>answer</th>\n",
       "    </tr>\n",
       "  </thead>\n",
       "  <tbody>\n",
       "    <tr>\n",
       "      <th>0</th>\n",
       "      <td>1 2020-08-25 00</td>\n",
       "      <td>0</td>\n",
       "    </tr>\n",
       "    <tr>\n",
       "      <th>1</th>\n",
       "      <td>1 2020-08-25 01</td>\n",
       "      <td>0</td>\n",
       "    </tr>\n",
       "    <tr>\n",
       "      <th>2</th>\n",
       "      <td>1 2020-08-25 02</td>\n",
       "      <td>0</td>\n",
       "    </tr>\n",
       "    <tr>\n",
       "      <th>3</th>\n",
       "      <td>1 2020-08-25 03</td>\n",
       "      <td>0</td>\n",
       "    </tr>\n",
       "    <tr>\n",
       "      <th>4</th>\n",
       "      <td>1 2020-08-25 04</td>\n",
       "      <td>0</td>\n",
       "    </tr>\n",
       "    <tr>\n",
       "      <th>...</th>\n",
       "      <td>...</td>\n",
       "      <td>...</td>\n",
       "    </tr>\n",
       "    <tr>\n",
       "      <th>10075</th>\n",
       "      <td>60 2020-08-31 19</td>\n",
       "      <td>0</td>\n",
       "    </tr>\n",
       "    <tr>\n",
       "      <th>10076</th>\n",
       "      <td>60 2020-08-31 20</td>\n",
       "      <td>0</td>\n",
       "    </tr>\n",
       "    <tr>\n",
       "      <th>10077</th>\n",
       "      <td>60 2020-08-31 21</td>\n",
       "      <td>0</td>\n",
       "    </tr>\n",
       "    <tr>\n",
       "      <th>10078</th>\n",
       "      <td>60 2020-08-31 22</td>\n",
       "      <td>0</td>\n",
       "    </tr>\n",
       "    <tr>\n",
       "      <th>10079</th>\n",
       "      <td>60 2020-08-31 23</td>\n",
       "      <td>0</td>\n",
       "    </tr>\n",
       "  </tbody>\n",
       "</table>\n",
       "<p>10080 rows × 2 columns</p>\n",
       "</div>"
      ],
      "text/plain": [
       "          num_date_time  answer\n",
       "0       1 2020-08-25 00       0\n",
       "1       1 2020-08-25 01       0\n",
       "2       1 2020-08-25 02       0\n",
       "3       1 2020-08-25 03       0\n",
       "4       1 2020-08-25 04       0\n",
       "...                 ...     ...\n",
       "10075  60 2020-08-31 19       0\n",
       "10076  60 2020-08-31 20       0\n",
       "10077  60 2020-08-31 21       0\n",
       "10078  60 2020-08-31 22       0\n",
       "10079  60 2020-08-31 23       0\n",
       "\n",
       "[10080 rows x 2 columns]"
      ]
     },
     "execution_count": 55,
     "metadata": {},
     "output_type": "execute_result"
    }
   ],
   "source": [
    "submission_df"
   ]
  },
  {
   "cell_type": "code",
   "execution_count": 56,
   "id": "organized-search",
   "metadata": {
    "execution": {
     "iopub.execute_input": "2021-06-09T08:36:53.368979Z",
     "iopub.status.busy": "2021-06-09T08:36:53.368181Z",
     "iopub.status.idle": "2021-06-09T08:36:53.371033Z",
     "shell.execute_reply": "2021-06-09T08:36:53.370599Z",
     "shell.execute_reply.started": "2021-06-09T08:01:09.827273Z"
    },
    "papermill": {
     "duration": 0.078111,
     "end_time": "2021-06-09T08:36:53.371179",
     "exception": false,
     "start_time": "2021-06-09T08:36:53.293068",
     "status": "completed"
    },
    "tags": []
   },
   "outputs": [],
   "source": [
    "raw_col=train_newtime.columns"
   ]
  },
  {
   "cell_type": "code",
   "execution_count": 57,
   "id": "derived-conversation",
   "metadata": {
    "execution": {
     "iopub.execute_input": "2021-06-09T08:36:53.522886Z",
     "iopub.status.busy": "2021-06-09T08:36:53.522024Z",
     "iopub.status.idle": "2021-06-09T08:36:53.525210Z",
     "shell.execute_reply": "2021-06-09T08:36:53.525707Z",
     "shell.execute_reply.started": "2021-06-09T08:01:09.836944Z"
    },
    "papermill": {
     "duration": 0.081661,
     "end_time": "2021-06-09T08:36:53.525858",
     "exception": false,
     "start_time": "2021-06-09T08:36:53.444197",
     "status": "completed"
    },
    "tags": []
   },
   "outputs": [
    {
     "data": {
      "text/plain": [
       "Index(['time', '전력사용량(kWh)', '기온(°C)', '풍속(m/s)', '습도(%)', '강수량(mm)', '일조(hr)',\n",
       "       '비전기냉방설비운영', '태양광보유'],\n",
       "      dtype='object')"
      ]
     },
     "execution_count": 57,
     "metadata": {},
     "output_type": "execute_result"
    }
   ],
   "source": [
    "raw_col"
   ]
  },
  {
   "cell_type": "code",
   "execution_count": null,
   "id": "unsigned-walter",
   "metadata": {
    "papermill": {
     "duration": 0.072743,
     "end_time": "2021-06-09T08:36:53.673688",
     "exception": false,
     "start_time": "2021-06-09T08:36:53.600945",
     "status": "completed"
    },
    "tags": []
   },
   "outputs": [],
   "source": []
  },
  {
   "cell_type": "code",
   "execution_count": 58,
   "id": "linear-amplifier",
   "metadata": {
    "execution": {
     "iopub.execute_input": "2021-06-09T08:36:53.825271Z",
     "iopub.status.busy": "2021-06-09T08:36:53.824347Z",
     "iopub.status.idle": "2021-06-09T08:36:53.827090Z",
     "shell.execute_reply": "2021-06-09T08:36:53.826670Z",
     "shell.execute_reply.started": "2021-06-09T08:01:09.852297Z"
    },
    "papermill": {
     "duration": 0.081066,
     "end_time": "2021-06-09T08:36:53.827200",
     "exception": false,
     "start_time": "2021-06-09T08:36:53.746134",
     "status": "completed"
    },
    "tags": []
   },
   "outputs": [],
   "source": [
    "raw_col=train_newtime.drop('전력사용량(kWh)',axis=1).columns"
   ]
  },
  {
   "cell_type": "code",
   "execution_count": 59,
   "id": "printable-federal",
   "metadata": {
    "execution": {
     "iopub.execute_input": "2021-06-09T08:36:53.980123Z",
     "iopub.status.busy": "2021-06-09T08:36:53.979369Z",
     "iopub.status.idle": "2021-06-09T08:36:53.983085Z",
     "shell.execute_reply": "2021-06-09T08:36:53.982680Z",
     "shell.execute_reply.started": "2021-06-09T08:01:09.859803Z"
    },
    "papermill": {
     "duration": 0.082833,
     "end_time": "2021-06-09T08:36:53.983201",
     "exception": false,
     "start_time": "2021-06-09T08:36:53.900368",
     "status": "completed"
    },
    "tags": []
   },
   "outputs": [
    {
     "data": {
      "text/plain": [
       "Index(['time', '기온(°C)', '풍속(m/s)', '습도(%)', '강수량(mm)', '일조(hr)', '비전기냉방설비운영',\n",
       "       '태양광보유'],\n",
       "      dtype='object')"
      ]
     },
     "execution_count": 59,
     "metadata": {},
     "output_type": "execute_result"
    }
   ],
   "source": [
    "raw_col"
   ]
  },
  {
   "cell_type": "code",
   "execution_count": 60,
   "id": "surgical-greenhouse",
   "metadata": {
    "execution": {
     "iopub.execute_input": "2021-06-09T08:36:54.134173Z",
     "iopub.status.busy": "2021-06-09T08:36:54.133428Z",
     "iopub.status.idle": "2021-06-09T08:36:54.136763Z",
     "shell.execute_reply": "2021-06-09T08:36:54.137205Z",
     "shell.execute_reply.started": "2021-06-09T08:01:09.870725Z"
    },
    "papermill": {
     "duration": 0.080887,
     "end_time": "2021-06-09T08:36:54.137364",
     "exception": false,
     "start_time": "2021-06-09T08:36:54.056477",
     "status": "completed"
    },
    "tags": []
   },
   "outputs": [
    {
     "data": {
      "text/plain": [
       "Index(['time', '기온(°C)', '풍속(m/s)', '습도(%)', '강수량(mm, 6시간)', '일조(hr, 3시간)',\n",
       "       '비전기냉방설비운영', '태양광보유'],\n",
       "      dtype='object')"
      ]
     },
     "execution_count": 60,
     "metadata": {},
     "output_type": "execute_result"
    }
   ],
   "source": [
    "test_newtime.columns"
   ]
  },
  {
   "cell_type": "code",
   "execution_count": 61,
   "id": "negative-hollow",
   "metadata": {
    "execution": {
     "iopub.execute_input": "2021-06-09T08:36:54.290958Z",
     "iopub.status.busy": "2021-06-09T08:36:54.290080Z",
     "iopub.status.idle": "2021-06-09T08:36:54.292443Z",
     "shell.execute_reply": "2021-06-09T08:36:54.292886Z",
     "shell.execute_reply.started": "2021-06-09T08:01:34.527762Z"
    },
    "papermill": {
     "duration": 0.081956,
     "end_time": "2021-06-09T08:36:54.293021",
     "exception": false,
     "start_time": "2021-06-09T08:36:54.211065",
     "status": "completed"
    },
    "tags": []
   },
   "outputs": [],
   "source": [
    "test_newtime.columns=raw_col"
   ]
  },
  {
   "cell_type": "code",
   "execution_count": 62,
   "id": "extra-vacuum",
   "metadata": {
    "execution": {
     "iopub.execute_input": "2021-06-09T08:36:54.447719Z",
     "iopub.status.busy": "2021-06-09T08:36:54.446850Z",
     "iopub.status.idle": "2021-06-09T08:36:54.449553Z",
     "shell.execute_reply": "2021-06-09T08:36:54.449081Z",
     "shell.execute_reply.started": "2021-06-09T08:30:52.980004Z"
    },
    "papermill": {
     "duration": 0.08169,
     "end_time": "2021-06-09T08:36:54.449666",
     "exception": false,
     "start_time": "2021-06-09T08:36:54.367976",
     "status": "completed"
    },
    "tags": []
   },
   "outputs": [],
   "source": [
    "test_newtime['전력사용량(kWh)']=0"
   ]
  },
  {
   "cell_type": "code",
   "execution_count": null,
   "id": "handy-preliminary",
   "metadata": {
    "papermill": {
     "duration": 0.075207,
     "end_time": "2021-06-09T08:36:54.600490",
     "exception": false,
     "start_time": "2021-06-09T08:36:54.525283",
     "status": "completed"
    },
    "tags": []
   },
   "outputs": [],
   "source": []
  },
  {
   "cell_type": "code",
   "execution_count": 63,
   "id": "apparent-bones",
   "metadata": {
    "execution": {
     "iopub.execute_input": "2021-06-09T08:36:54.755040Z",
     "iopub.status.busy": "2021-06-09T08:36:54.754153Z",
     "iopub.status.idle": "2021-06-09T08:36:54.756977Z",
     "shell.execute_reply": "2021-06-09T08:36:54.756540Z",
     "shell.execute_reply.started": "2021-06-09T08:01:09.896649Z"
    },
    "papermill": {
     "duration": 0.081244,
     "end_time": "2021-06-09T08:36:54.757100",
     "exception": false,
     "start_time": "2021-06-09T08:36:54.675856",
     "status": "completed"
    },
    "tags": []
   },
   "outputs": [],
   "source": [
    "# testing=TimeSeriesDataSet (data=test_newtime , \n",
    "#                             time_idx =\"time\" , \n",
    "#                             target=\"전력사용량(kWh)\" , \n",
    "#                             group_ids =group_ids,\n",
    "#                            allow_missing_timesteps = True,\n",
    "#                             max_prediction_length=max_prediction_length,\n",
    "#                            time_varying_known_reals=['time','비전기냉방설비운영','태양광보유'],\n",
    "#                            time_varying_unknown_reals=['기온(°C)','풍속(m/s)','습도(%)','강수량(mm)','일조(hr)'])"
   ]
  },
  {
   "cell_type": "code",
   "execution_count": 64,
   "id": "musical-individual",
   "metadata": {
    "execution": {
     "iopub.execute_input": "2021-06-09T08:36:54.907625Z",
     "iopub.status.busy": "2021-06-09T08:36:54.906752Z",
     "iopub.status.idle": "2021-06-09T08:36:54.908933Z",
     "shell.execute_reply": "2021-06-09T08:36:54.909340Z"
    },
    "papermill": {
     "duration": 0.079116,
     "end_time": "2021-06-09T08:36:54.909507",
     "exception": false,
     "start_time": "2021-06-09T08:36:54.830391",
     "status": "completed"
    },
    "tags": []
   },
   "outputs": [],
   "source": [
    "# val_dataloader = validation.to_dataloader(train=False, batch_size=batch_size, num_workers=2)"
   ]
  },
  {
   "cell_type": "code",
   "execution_count": 65,
   "id": "sticky-anthropology",
   "metadata": {
    "execution": {
     "iopub.execute_input": "2021-06-09T08:36:55.063260Z",
     "iopub.status.busy": "2021-06-09T08:36:55.062443Z",
     "iopub.status.idle": "2021-06-09T08:36:55.157282Z",
     "shell.execute_reply": "2021-06-09T08:36:55.156818Z",
     "shell.execute_reply.started": "2021-06-09T08:31:05.262655Z"
    },
    "papermill": {
     "duration": 0.174682,
     "end_time": "2021-06-09T08:36:55.157444",
     "exception": false,
     "start_time": "2021-06-09T08:36:54.982762",
     "status": "completed"
    },
    "tags": []
   },
   "outputs": [],
   "source": [
    "new_raw_predictions, new_x = tft.predict(test_newtime, mode=\"raw\", return_x=True)\n"
   ]
  },
  {
   "cell_type": "code",
   "execution_count": 66,
   "id": "sought-friendship",
   "metadata": {
    "execution": {
     "iopub.execute_input": "2021-06-09T08:36:55.310471Z",
     "iopub.status.busy": "2021-06-09T08:36:55.309607Z",
     "iopub.status.idle": "2021-06-09T08:36:55.829096Z",
     "shell.execute_reply": "2021-06-09T08:36:55.828666Z",
     "shell.execute_reply.started": "2021-06-09T08:31:38.227852Z"
    },
    "papermill": {
     "duration": 0.597734,
     "end_time": "2021-06-09T08:36:55.829221",
     "exception": false,
     "start_time": "2021-06-09T08:36:55.231487",
     "status": "completed"
    },
    "tags": []
   },
   "outputs": [
    {
     "data": {
      "image/png": "[encoded data removed]",
      "text/plain": [
       "<Figure size 432x288 with 2 Axes>"
      ]
     },
     "metadata": {
      "needs_background": "light"
     },
     "output_type": "display_data"
    }
   ],
   "source": [
    "tft.plot_prediction(new_x, new_raw_predictions, idx=0, show_future_observed=False);"
   ]
  },
  {
   "cell_type": "code",
   "execution_count": 67,
   "id": "chinese-spyware",
   "metadata": {
    "execution": {
     "iopub.execute_input": "2021-06-09T08:36:55.982463Z",
     "iopub.status.busy": "2021-06-09T08:36:55.981468Z",
     "iopub.status.idle": "2021-06-09T08:36:55.984304Z",
     "shell.execute_reply": "2021-06-09T08:36:55.983843Z",
     "shell.execute_reply.started": "2021-06-08T05:14:00.033334Z"
    },
    "papermill": {
     "duration": 0.080069,
     "end_time": "2021-06-09T08:36:55.984454",
     "exception": false,
     "start_time": "2021-06-09T08:36:55.904385",
     "status": "completed"
    },
    "tags": []
   },
   "outputs": [],
   "source": [
    "#submission_df"
   ]
  },
  {
   "cell_type": "code",
   "execution_count": 68,
   "id": "sorted-hartford",
   "metadata": {
    "execution": {
     "iopub.execute_input": "2021-06-09T08:36:56.137894Z",
     "iopub.status.busy": "2021-06-09T08:36:56.136981Z",
     "iopub.status.idle": "2021-06-09T08:36:56.139767Z",
     "shell.execute_reply": "2021-06-09T08:36:56.139297Z",
     "shell.execute_reply.started": "2021-06-08T05:14:30.291401Z"
    },
    "papermill": {
     "duration": 0.081044,
     "end_time": "2021-06-09T08:36:56.139885",
     "exception": false,
     "start_time": "2021-06-09T08:36:56.058841",
     "status": "completed"
    },
    "tags": []
   },
   "outputs": [],
   "source": [
    "# submission_1=copy.deepcopy(submission_df)"
   ]
  },
  {
   "cell_type": "code",
   "execution_count": 69,
   "id": "interested-mayor",
   "metadata": {
    "execution": {
     "iopub.execute_input": "2021-06-09T08:36:56.294334Z",
     "iopub.status.busy": "2021-06-09T08:36:56.293304Z",
     "iopub.status.idle": "2021-06-09T08:36:56.296158Z",
     "shell.execute_reply": "2021-06-09T08:36:56.295695Z",
     "shell.execute_reply.started": "2021-06-08T05:15:06.73988Z"
    },
    "papermill": {
     "duration": 0.081836,
     "end_time": "2021-06-09T08:36:56.296276",
     "exception": false,
     "start_time": "2021-06-09T08:36:56.214440",
     "status": "completed"
    },
    "tags": []
   },
   "outputs": [],
   "source": [
    "# submission_1['answer']=data_predict_inverse"
   ]
  },
  {
   "cell_type": "code",
   "execution_count": 70,
   "id": "received-typing",
   "metadata": {
    "execution": {
     "iopub.execute_input": "2021-06-09T08:36:56.450938Z",
     "iopub.status.busy": "2021-06-09T08:36:56.450096Z",
     "iopub.status.idle": "2021-06-09T08:36:56.452892Z",
     "shell.execute_reply": "2021-06-09T08:36:56.452489Z",
     "shell.execute_reply.started": "2021-06-08T05:15:40.51725Z"
    },
    "papermill": {
     "duration": 0.08154,
     "end_time": "2021-06-09T08:36:56.453021",
     "exception": false,
     "start_time": "2021-06-09T08:36:56.371481",
     "status": "completed"
    },
    "tags": []
   },
   "outputs": [],
   "source": [
    "# submission_1.to_csv('lstm_submission1.csv', index=False)"
   ]
  },
  {
   "cell_type": "code",
   "execution_count": 71,
   "id": "sacred-morris",
   "metadata": {
    "execution": {
     "iopub.execute_input": "2021-06-09T08:36:56.603587Z",
     "iopub.status.busy": "2021-06-09T08:36:56.602753Z",
     "iopub.status.idle": "2021-06-09T08:36:56.605031Z",
     "shell.execute_reply": "2021-06-09T08:36:56.605424Z"
    },
    "papermill": {
     "duration": 0.079805,
     "end_time": "2021-06-09T08:36:56.605581",
     "exception": false,
     "start_time": "2021-06-09T08:36:56.525776",
     "status": "completed"
    },
    "tags": []
   },
   "outputs": [],
   "source": [
    "# train_preds = np.zeros((len(train_X)))\n",
    "# test_preds = np.zeros((len(test_X)))\n",
    "\n",
    "# x_test_cuda = torch.tensor(test_X, dtype=torch.long).cuda()\n",
    "# test = torch.utils.data.TensorDataset(x_test_cuda)\n",
    "# test_loader = torch.utils.data.DataLoader(test, batch_size=batch_size, shuffle=False)\n"
   ]
  },
  {
   "cell_type": "code",
   "execution_count": null,
   "id": "packed-genesis",
   "metadata": {
    "papermill": {
     "duration": 0.074766,
     "end_time": "2021-06-09T08:36:56.755158",
     "exception": false,
     "start_time": "2021-06-09T08:36:56.680392",
     "status": "completed"
    },
    "tags": []
   },
   "outputs": [],
   "source": []
  }
 ],
 "metadata": {
  "kernelspec": {
   "display_name": "Python 3",
   "language": "python",
   "name": "python3"
  },
  "language_info": {
   "codemirror_mode": {
    "name": "ipython",
    "version": 3
   },
   "file_extension": ".py",
   "mimetype": "text/x-python",
   "name": "python",
   "nbconvert_exporter": "python",
   "pygments_lexer": "ipython3",
   "version": "3.7.10"
  },
  "papermill": {
   "default_parameters": {},
   "duration": 86.798714,
   "end_time": "2021-06-09T08:36:58.852745",
   "environment_variables": {},
   "exception": null,
   "input_path": "__notebook__.ipynb",
   "output_path": "__notebook__.ipynb",
   "parameters": {},
   "start_time": "2021-06-09T08:35:32.054031",
   "version": "2.3.3"
  },
  "widgets": {
   "application/vnd.jupyter.widget-state+json": {
    "state": {
     "06700f9d4bc549c28aa8efd435e59440": {
      "model_module": "@jupyter-widgets/base",
      "model_module_version": "1.2.0",
      "model_name": "LayoutModel",
      "state": {
       "_model_module": "@jupyter-widgets/base",
       "_model_module_version": "1.2.0",
       "_model_name": "LayoutModel",
       "_view_count": null,
       "_view_module": "@jupyter-widgets/base",
       "_view_module_version": "1.2.0",
       "_view_name": "LayoutView",
       "align_content": null,
       "align_items": null,
       "align_self": null,
       "border": null,
       "bottom": null,
       "display": null,
       "flex": null,
       "flex_flow": null,
       "grid_area": null,
       "grid_auto_columns": null,
       "grid_auto_flow": null,
       "grid_auto_rows": null,
       "grid_column": null,
       "grid_gap": null,
       "grid_row": null,
       "grid_template_areas": null,
       "grid_template_columns": null,
       "grid_template_rows": null,
       "height": null,
       "justify_content": null,
       "justify_items": null,
       "left": null,
       "margin": null,
       "max_height": null,
       "max_width": null,
       "min_height": null,
       "min_width": null,
       "object_fit": null,
       "object_position": null,
       "order": null,
       "overflow": null,
       "overflow_x": null,
       "overflow_y": null,
       "padding": null,
       "right": null,
       "top": null,
       "visibility": null,
       "width": null
      }
     },
     "0c434fa28ff94920be0596a9d5af8410": {
      "model_module": "@jupyter-widgets/controls",
      "model_module_version": "1.5.0",
      "model_name": "FloatProgressModel",
      "state": {
       "_dom_classes": [],
       "_model_module": "@jupyter-widgets/controls",
       "_model_module_version": "1.5.0",
       "_model_name": "FloatProgressModel",
       "_view_count": null,
       "_view_module": "@jupyter-widgets/controls",
       "_view_module_version": "1.5.0",
       "_view_name": "ProgressView",
       "bar_style": "",
       "description": "",
       "description_tooltip": null,
       "layout": "IPY_MODEL_1f5606fa1b1f4d20a258960085acbe39",
       "max": 100.0,
       "min": 0.0,
       "orientation": "horizontal",
       "style": "IPY_MODEL_c15fa6aed2a94507a4beeda6120ab081",
       "value": 100.0
      }
     },
     "1489f989b4714efbb92bbdf70f10c020": {
      "model_module": "@jupyter-widgets/base",
      "model_module_version": "1.2.0",
      "model_name": "LayoutModel",
      "state": {
       "_model_module": "@jupyter-widgets/base",
       "_model_module_version": "1.2.0",
       "_model_name": "LayoutModel",
       "_view_count": null,
       "_view_module": "@jupyter-widgets/base",
       "_view_module_version": "1.2.0",
       "_view_name": "LayoutView",
       "align_content": null,
       "align_items": null,
       "align_self": null,
       "border": null,
       "bottom": null,
       "display": null,
       "flex": null,
       "flex_flow": null,
       "grid_area": null,
       "grid_auto_columns": null,
       "grid_auto_flow": null,
       "grid_auto_rows": null,
       "grid_column": null,
       "grid_gap": null,
       "grid_row": null,
       "grid_template_areas": null,
       "grid_template_columns": null,
       "grid_template_rows": null,
       "height": null,
       "justify_content": null,
       "justify_items": null,
       "left": null,
       "margin": null,
       "max_height": null,
       "max_width": null,
       "min_height": null,
       "min_width": null,
       "object_fit": null,
       "object_position": null,
       "order": null,
       "overflow": null,
       "overflow_x": null,
       "overflow_y": null,
       "padding": null,
       "right": null,
       "top": null,
       "visibility": null,
       "width": null
      }
     },
     "1f5606fa1b1f4d20a258960085acbe39": {
      "model_module": "@jupyter-widgets/base",
      "model_module_version": "1.2.0",
      "model_name": "LayoutModel",
      "state": {
       "_model_module": "@jupyter-widgets/base",
       "_model_module_version": "1.2.0",
       "_model_name": "LayoutModel",
       "_view_count": null,
       "_view_module": "@jupyter-widgets/base",
       "_view_module_version": "1.2.0",
       "_view_name": "LayoutView",
       "align_content": null,
       "align_items": null,
       "align_self": null,
       "border": null,
       "bottom": null,
       "display": null,
       "flex": null,
       "flex_flow": null,
       "grid_area": null,
       "grid_auto_columns": null,
       "grid_auto_flow": null,
       "grid_auto_rows": null,
       "grid_column": null,
       "grid_gap": null,
       "grid_row": null,
       "grid_template_areas": null,
       "grid_template_columns": null,
       "grid_template_rows": null,
       "height": null,
       "justify_content": null,
       "justify_items": null,
       "left": null,
       "margin": null,
       "max_height": null,
       "max_width": null,
       "min_height": null,
       "min_width": null,
       "object_fit": null,
       "object_position": null,
       "order": null,
       "overflow": null,
       "overflow_x": null,
       "overflow_y": null,
       "padding": null,
       "right": null,
       "top": null,
       "visibility": null,
       "width": null
      }
     },
     "3c433af8be3c4ec29d14b427318047b8": {
      "model_module": "@jupyter-widgets/controls",
      "model_module_version": "1.5.0",
      "model_name": "HTMLModel",
      "state": {
       "_dom_classes": [],
       "_model_module": "@jupyter-widgets/controls",
       "_model_module_version": "1.5.0",
       "_model_name": "HTMLModel",
       "_view_count": null,
       "_view_module": "@jupyter-widgets/controls",
       "_view_module_version": "1.5.0",
       "_view_name": "HTMLView",
       "description": "",
       "description_tooltip": null,
       "layout": "IPY_MODEL_1489f989b4714efbb92bbdf70f10c020",
       "placeholder": "​",
       "style": "IPY_MODEL_85d21fd1b9de4db7b05aa4e4c5046096",
       "value": " 100/100 [00:28&lt;00:00,  3.61it/s]"
      }
     },
     "4c9160c4342942e29996a721d6e874b7": {
      "model_module": "@jupyter-widgets/controls",
      "model_module_version": "1.5.0",
      "model_name": "HBoxModel",
      "state": {
       "_dom_classes": [],
       "_model_module": "@jupyter-widgets/controls",
       "_model_module_version": "1.5.0",
       "_model_name": "HBoxModel",
       "_view_count": null,
       "_view_module": "@jupyter-widgets/controls",
       "_view_module_version": "1.5.0",
       "_view_name": "HBoxView",
       "box_style": "",
       "children": [
        "IPY_MODEL_fad0ba8d64a54597820ad3f6cffd25df",
        "IPY_MODEL_0c434fa28ff94920be0596a9d5af8410",
        "IPY_MODEL_3c433af8be3c4ec29d14b427318047b8"
       ],
       "layout": "IPY_MODEL_06700f9d4bc549c28aa8efd435e59440"
      }
     },
     "85d21fd1b9de4db7b05aa4e4c5046096": {
      "model_module": "@jupyter-widgets/controls",
      "model_module_version": "1.5.0",
      "model_name": "DescriptionStyleModel",
      "state": {
       "_model_module": "@jupyter-widgets/controls",
       "_model_module_version": "1.5.0",
       "_model_name": "DescriptionStyleModel",
       "_view_count": null,
       "_view_module": "@jupyter-widgets/base",
       "_view_module_version": "1.2.0",
       "_view_name": "StyleView",
       "description_width": ""
      }
     },
     "a351b53b981647e591521a034d3b2ad0": {
      "model_module": "@jupyter-widgets/base",
      "model_module_version": "1.2.0",
      "model_name": "LayoutModel",
      "state": {
       "_model_module": "@jupyter-widgets/base",
       "_model_module_version": "1.2.0",
       "_model_name": "LayoutModel",
       "_view_count": null,
       "_view_module": "@jupyter-widgets/base",
       "_view_module_version": "1.2.0",
       "_view_name": "LayoutView",
       "align_content": null,
       "align_items": null,
       "align_self": null,
       "border": null,
       "bottom": null,
       "display": null,
       "flex": null,
       "flex_flow": null,
       "grid_area": null,
       "grid_auto_columns": null,
       "grid_auto_flow": null,
       "grid_auto_rows": null,
       "grid_column": null,
       "grid_gap": null,
       "grid_row": null,
       "grid_template_areas": null,
       "grid_template_columns": null,
       "grid_template_rows": null,
       "height": null,
       "justify_content": null,
       "justify_items": null,
       "left": null,
       "margin": null,
       "max_height": null,
       "max_width": null,
       "min_height": null,
       "min_width": null,
       "object_fit": null,
       "object_position": null,
       "order": null,
       "overflow": null,
       "overflow_x": null,
       "overflow_y": null,
       "padding": null,
       "right": null,
       "top": null,
       "visibility": null,
       "width": null
      }
     },
     "c15fa6aed2a94507a4beeda6120ab081": {
      "model_module": "@jupyter-widgets/controls",
      "model_module_version": "1.5.0",
      "model_name": "ProgressStyleModel",
      "state": {
       "_model_module": "@jupyter-widgets/controls",
       "_model_module_version": "1.5.0",
       "_model_name": "ProgressStyleModel",
       "_view_count": null,
       "_view_module": "@jupyter-widgets/base",
       "_view_module_version": "1.2.0",
       "_view_name": "StyleView",
       "bar_color": null,
       "description_width": ""
      }
     },
     "c340a8986ed64180b41a63c641a278eb": {
      "model_module": "@jupyter-widgets/controls",
      "model_module_version": "1.5.0",
      "model_name": "DescriptionStyleModel",
      "state": {
       "_model_module": "@jupyter-widgets/controls",
       "_model_module_version": "1.5.0",
       "_model_name": "DescriptionStyleModel",
       "_view_count": null,
       "_view_module": "@jupyter-widgets/base",
       "_view_module_version": "1.2.0",
       "_view_name": "StyleView",
       "description_width": ""
      }
     },
     "fad0ba8d64a54597820ad3f6cffd25df": {
      "model_module": "@jupyter-widgets/controls",
      "model_module_version": "1.5.0",
      "model_name": "HTMLModel",
      "state": {
       "_dom_classes": [],
       "_model_module": "@jupyter-widgets/controls",
       "_model_module_version": "1.5.0",
       "_model_name": "HTMLModel",
       "_view_count": null,
       "_view_module": "@jupyter-widgets/controls",
       "_view_module_version": "1.5.0",
       "_view_name": "HTMLView",
       "description": "",
       "description_tooltip": null,
       "layout": "IPY_MODEL_a351b53b981647e591521a034d3b2ad0",
       "placeholder": "​",
       "style": "IPY_MODEL_c340a8986ed64180b41a63c641a278eb",
       "value": "Finding best initial lr: 100%"
      }
     }
    },
    "version_major": 2,
    "version_minor": 0
   }
  }
 },
 "nbformat": 4,
 "nbformat_minor": 5
}
