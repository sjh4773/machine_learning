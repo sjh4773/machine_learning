{
  "nbformat": 4,
  "nbformat_minor": 0,
  "metadata": {
    "colab": {
      "name": "lgbm_전력량예측.ipynb",
      "private_outputs": true,
      "provenance": [],
      "collapsed_sections": []
    },
    "kernelspec": {
      "name": "python3",
      "display_name": "Python 3"
    },
    "language_info": {
      "name": "python"
    },
    "accelerator": "GPU"
  },
  "cells": [
    {
      "cell_type": "code",
      "metadata": {
        "id": "4M7AUuW26N80"
      },
      "source": [
        "import numpy as np\n",
        "import pandas as pd\n",
        "import pandas_datareader.data as pdr\n",
        "import matplotlib.pyplot as plt\n",
        "\n",
        "import datetime\n",
        "\n",
        "from sklearn.metrics import mean_absolute_error\n",
        "\n",
        "from lightgbm import LGBMRegressor\n",
        "from sklearn.model_selection import KFold\n",
        "\n",
        "import lightgbm as lgb\n",
        "\n",
        "import copy\n",
        "import warnings\n",
        "warnings.simplefilter('ignore')\n",
        "from sklearn.model_selection import train_test_split\n",
        "from sklearn.preprocessing import StandardScaler, MinMaxScaler"
      ],
      "execution_count": null,
      "outputs": []
    },
    {
      "cell_type": "code",
      "metadata": {
        "id": "aBBgw2Z07h_P"
      },
      "source": [
        "train_df=pd.read_csv('/content/drive/MyDrive/energy/train.csv',encoding='cp949')\n",
        "test_df=pd.read_csv('/content/drive/MyDrive/energy/test.csv',encoding='cp949')\n",
        "submission_df=pd.read_csv('/content/drive/MyDrive/energy/sample_submission.csv',encoding='cp949')"
      ],
      "execution_count": null,
      "outputs": []
    },
    {
      "cell_type": "code",
      "metadata": {
        "id": "6Hs5KlGJ_G5d"
      },
      "source": [
        "train_df.dtypes"
      ],
      "execution_count": null,
      "outputs": []
    },
    {
      "cell_type": "code",
      "metadata": {
        "id": "65DW-cd__JHD"
      },
      "source": [
        "train_df.isna().sum()"
      ],
      "execution_count": null,
      "outputs": []
    },
    {
      "cell_type": "code",
      "metadata": {
        "id": "5KxmWBV1_MuV"
      },
      "source": [
        "test_df.isna().sum()"
      ],
      "execution_count": null,
      "outputs": []
    },
    {
      "cell_type": "code",
      "metadata": {
        "id": "zV4D42xe_Pv4"
      },
      "source": [
        "temp_df = train_df[['num', '비전기냉방설비운영', '태양광보유']]\n",
        "ice={}\n",
        "hot={}\n",
        "count=0\n",
        "for i in range(0, len(train_df), len(train_df)//60):\n",
        "    count += 1\n",
        "    ice[count] = train_df.loc[i, '비전기냉방설비운영']\n",
        "    hot[count] = train_df.loc[i, '태양광보유']"
      ],
      "execution_count": null,
      "outputs": []
    },
    {
      "cell_type": "code",
      "metadata": {
        "id": "0Uqtx8q1ALTM"
      },
      "source": [
        "test_EDA = copy.deepcopy(test_df)"
      ],
      "execution_count": null,
      "outputs": []
    },
    {
      "cell_type": "code",
      "metadata": {
        "id": "-lTjIEspAtqp"
      },
      "source": [
        "for i in range(len(test_df)):\n",
        "    test_EDA.loc[i, '비전기냉방설비운영']=ice[test_df['num'][i]]\n",
        "    test_EDA.loc[i, '태양광보유']=hot[test_df['num'][i]]"
      ],
      "execution_count": null,
      "outputs": []
    },
    {
      "cell_type": "code",
      "metadata": {
        "id": "nVhnh2vxCCQL"
      },
      "source": [
        "test_EDA= test_EDA.interpolate(method='values')"
      ],
      "execution_count": null,
      "outputs": []
    },
    {
      "cell_type": "code",
      "metadata": {
        "id": "qY0FDGxmCCXo"
      },
      "source": [
        "def change_date(date_one_time):\n",
        "    dateformat = \"%Y-%m-%d %H\"\n",
        "    convert_one_time = datetime.datetime.strptime(date_one_time, dateformat)\n",
        "    return convert_one_time\n",
        "\n",
        "def insert_dateindex(df):\n",
        "    date_time=df['date_time']\n",
        "    convert_time=date_time.map(change_date)\n",
        "    date_index=pd.DatetimeIndex(convert_time)\n",
        "    df.index=date_index\n",
        "    return df\n",
        "\n",
        "def change_date_df(df):\n",
        "    date_time=df['date_time']\n",
        "    convert_time=date_time.map(change_date)\n",
        "    df['date_time']=convert_time\n",
        "    return df"
      ],
      "execution_count": null,
      "outputs": []
    },
    {
      "cell_type": "code",
      "metadata": {
        "id": "jdhj7AqrCCaw"
      },
      "source": [
        "test_EDA"
      ],
      "execution_count": null,
      "outputs": []
    },
    {
      "cell_type": "code",
      "metadata": {
        "id": "HK_X1omECCda"
      },
      "source": [
        "train_EDA=copy.deepcopy(train_df)"
      ],
      "execution_count": null,
      "outputs": []
    },
    {
      "cell_type": "code",
      "metadata": {
        "id": "34l0uLoSDo0a"
      },
      "source": [
        "def time(x):\n",
        "    return int(x[-2:])\n",
        "\n",
        "train_EDA['time'] = train_EDA['date_time'].apply(lambda x: time(x))\n",
        "test_EDA['time'] = test_EDA['date_time'].apply(lambda x: time(x))\n",
        "\n",
        "def weekday(x):\n",
        "    return pd.to_datetime(x[:10]).weekday()\n",
        "\n",
        "train_EDA['weekday'] = train_EDA['date_time'].apply(lambda x: weekday(x))\n",
        "test_EDA['weekday'] = test_EDA['date_time'].apply(lambda x: weekday(x))"
      ],
      "execution_count": null,
      "outputs": []
    },
    {
      "cell_type": "code",
      "metadata": {
        "id": "XaO8EhZnEuYO"
      },
      "source": [
        "train_EDA.weekday.unique()"
      ],
      "execution_count": null,
      "outputs": []
    },
    {
      "cell_type": "code",
      "metadata": {
        "id": "vGUiaP1pEyaZ"
      },
      "source": [
        "train_EDA=insert_dateindex(train_EDA)"
      ],
      "execution_count": null,
      "outputs": []
    },
    {
      "cell_type": "code",
      "metadata": {
        "id": "QzQKTB3JE7Y6"
      },
      "source": [
        "train_EDA"
      ],
      "execution_count": null,
      "outputs": []
    },
    {
      "cell_type": "code",
      "metadata": {
        "id": "eNAFRR_wFJUX"
      },
      "source": [
        "train_EDA[train_EDA['num']==1].loc[:,'전력사용량(kWh)'].plot()\n",
        "plt.show()"
      ],
      "execution_count": null,
      "outputs": []
    },
    {
      "cell_type": "code",
      "metadata": {
        "id": "lK25WFPUFWIC"
      },
      "source": [
        "n=60\n",
        "for i in range(n):\n",
        "    plt.figure(i,figsize=(10,4))\n",
        "    train_EDA[train_EDA['num']==i+1].loc[:,'전력사용량(kWh)'].plot()\n",
        "    plt.title(f\"num {i}\")\n",
        "\n",
        "plt.show()"
      ],
      "execution_count": null,
      "outputs": []
    },
    {
      "cell_type": "code",
      "metadata": {
        "id": "wOf1bmKuFslS"
      },
      "source": [
        "train_EDA.columns.tolist()"
      ],
      "execution_count": null,
      "outputs": []
    },
    {
      "cell_type": "code",
      "metadata": {
        "id": "GEqqbaL-GBXk"
      },
      "source": [
        "drop_list=['date_time']\n",
        "new_train=train_EDA.drop(drop_list,axis=1)"
      ],
      "execution_count": null,
      "outputs": []
    },
    {
      "cell_type": "code",
      "metadata": {
        "id": "7uDRwl2VGK8N"
      },
      "source": [
        "new_train"
      ],
      "execution_count": null,
      "outputs": []
    },
    {
      "cell_type": "code",
      "metadata": {
        "id": "2qbRc7McGL_H"
      },
      "source": [
        "train_x = new_train.drop('전력사용량(kWh)', axis=1)\n",
        "train_y = new_train[['전력사용량(kWh)']]"
      ],
      "execution_count": null,
      "outputs": []
    },
    {
      "cell_type": "code",
      "metadata": {
        "id": "zAj4SvTXGeEL"
      },
      "source": [
        "from sklearn.metrics import r2_score"
      ],
      "execution_count": null,
      "outputs": []
    },
    {
      "cell_type": "code",
      "metadata": {
        "id": "8iCyLwvlHAK3"
      },
      "source": [
        "from matplotlib import font_manager, rc\n",
        "#font_path = \"C:/Windows/Fonts/NanumPen.ttf\"\n",
        "font_path = \"/content/drive/MyDrive/energy/NanumPen.ttf\"\n",
        "font = font_manager.FontProperties(fname=font_path).get_name()\n",
        "rc('font', family=font)\n"
      ],
      "execution_count": null,
      "outputs": []
    },
    {
      "cell_type": "code",
      "metadata": {
        "id": "NDSy1bG6HCVY"
      },
      "source": [
        "def Simple_lightGBM(x,y):\n",
        "    X_train, X_valid, y_train, y_valid = train_test_split(x, y, test_size=0.25, random_state=21)\n",
        "\n",
        "    eval_set = [(X_train, y_train), (X_valid, y_valid)]\n",
        "    lgbm_model=LGBMRegressor(n_estimators=1000,max_depth=20,)\n",
        "\n",
        "    lgbm_model.fit(X_train, y_train, eval_set=[(X_train,y_train), (X_valid,y_valid)], early_stopping_rounds=30, verbose=100)\n",
        "\n",
        "    lgb.plot_importance(lgbm_model)"
      ],
      "execution_count": null,
      "outputs": []
    },
    {
      "cell_type": "code",
      "metadata": {
        "id": "NM4J4uNiIPlh"
      },
      "source": [
        "import matplotlib \n",
        "matplotlib.font_manager._rebuild()\n",
        "\n",
        "Simple_lightGBM(train_x, train_y)"
      ],
      "execution_count": null,
      "outputs": []
    },
    {
      "cell_type": "code",
      "metadata": {
        "id": "wI-iPiauITft"
      },
      "source": [
        "def run_model(train_x,train_y):\n",
        "  cross=KFold(n_splits=5, shuffle=True, random_state=42)\n",
        "  folds=[]\n",
        "  for train_idx, valid_idx in cross.split(train_x, train_y):\n",
        "      folds.append((train_idx, valid_idx))\n",
        "    \n",
        "  models={}\n",
        "  for fold in range(5):\n",
        "      print(f'===================={fold+1}=======================')\n",
        "      train_idx, valid_idx=folds[fold]\n",
        "      X_train=train_x.iloc[train_idx, :]\n",
        "      y_train=train_y.iloc[train_idx, :]\n",
        "      X_valid=train_x.iloc[valid_idx, :]\n",
        "      y_valid=train_y.iloc[valid_idx, :]\n",
        "      \n",
        "      model=LGBMRegressor(n_estimators=100)\n",
        "      model.fit(X_train, y_train, eval_set=[(X_train, y_train), (X_valid, y_valid)], \n",
        "              early_stopping_rounds=30, verbose=100)\n",
        "      models[fold]=model\n",
        "      \n",
        "      print(f'================================================\\n\\n')\n",
        "\n",
        "  return models"
      ],
      "execution_count": null,
      "outputs": []
    },
    {
      "cell_type": "code",
      "metadata": {
        "id": "Tc2nqaLoMCY4"
      },
      "source": [
        "models=run_model(train_x,train_y)"
      ],
      "execution_count": null,
      "outputs": []
    },
    {
      "cell_type": "code",
      "metadata": {
        "id": "BW7CXoOmMNA1"
      },
      "source": [
        "train_EDA"
      ],
      "execution_count": null,
      "outputs": []
    },
    {
      "cell_type": "code",
      "metadata": {
        "id": "5Ts17AyvMWIJ"
      },
      "source": [
        "drop_list=['date_time','강수량(mm)','일조(hr)','비전기냉방설비운영','태양광보유']\n",
        "new_train=train_EDA.drop(drop_list,axis=1)\n",
        "train_x=new_train.drop('전력사용량(kWh)', axis=1)\n",
        "train_y=new_train[['전력사용량(kWh)']]"
      ],
      "execution_count": null,
      "outputs": []
    },
    {
      "cell_type": "code",
      "metadata": {
        "id": "CNxJLqiHSXEW"
      },
      "source": [
        "models2=run_model(train_x,train_y)"
      ],
      "execution_count": null,
      "outputs": []
    },
    {
      "cell_type": "code",
      "metadata": {
        "id": "N3cSz4ZJSbe6"
      },
      "source": [
        "drop_list=['date_time','강수량(mm, 6시간)','일조(hr, 3시간)','비전기냉방설비운영','태양광보유']\n",
        "new_test=test_EDA.drop(drop_list,axis=1)"
      ],
      "execution_count": null,
      "outputs": []
    },
    {
      "cell_type": "code",
      "metadata": {
        "id": "n9_iqys5SosK"
      },
      "source": [
        "submission_1 = copy.deepcopy(submission_df)"
      ],
      "execution_count": null,
      "outputs": []
    },
    {
      "cell_type": "code",
      "metadata": {
        "id": "274K5IysSssW"
      },
      "source": [
        "for i in range(5):\n",
        "    submission_1['answer'] += models2[i].predict(new_test)/5"
      ],
      "execution_count": null,
      "outputs": []
    },
    {
      "cell_type": "code",
      "metadata": {
        "id": "PRLLUq84S1z8"
      },
      "source": [
        "submission_1.to_csv('lgbm_submission1.csv', index=False) # score : \t18.2238002804"
      ],
      "execution_count": null,
      "outputs": []
    },
    {
      "cell_type": "code",
      "metadata": {
        "id": "U7UR612QTMQr"
      },
      "source": [
        "!pip install optuna"
      ],
      "execution_count": null,
      "outputs": []
    },
    {
      "cell_type": "code",
      "metadata": {
        "id": "ncfHuZVSTOE4"
      },
      "source": [
        "import optuna\n",
        "def objective(trial):\n",
        "    # data, target = sklearn.datasets.load_breast_cancer(return_X_y=True)\n",
        "    x_train, test_x, y_train, test_y = train_test_split(train_x, train_y, test_size=0.25)\n",
        "    dtrain = lgb.Dataset(x_train, label=y_train)\n",
        " \n",
        "    param = {\n",
        "        #objective': 'binary',\n",
        "        'objective': 'regression',\n",
        "        'metric': \"mape\",\n",
        "        'lambda_l1': trial.suggest_loguniform('lambda_l1', 1e-8, 10.0),\n",
        "        'lambda_l2': trial.suggest_loguniform('lambda_l2', 1e-8, 10.0),\n",
        "        'num_leaves': trial.suggest_int('num_leaves', 2, 256),\n",
        "        'feature_fraction': trial.suggest_uniform('feature_fraction', 0.4, 1.0),\n",
        "        'bagging_fraction': trial.suggest_uniform('bagging_fraction', 0.4, 1.0),\n",
        "        'bagging_freq': trial.suggest_int('bagging_freq', 1, 7),\n",
        "        'min_child_samples': trial.suggest_int('min_child_samples', 5, 100),\n",
        "    }\n",
        " \n",
        "    gbm = lgb.train(param, dtrain)\n",
        "    preds = gbm.predict(test_x)\n",
        "    pred_labels = np.rint(preds)\n",
        "    accuracy = r2_score(test_y, pred_labels)\n",
        "    return accuracy\n",
        " \n",
        "study = optuna.create_study(direction='maximize')\n",
        "study.optimize(objective, n_trials=100)\n",
        " \n",
        "print('Number of finished trials:', len(study.trials))\n",
        "print('Best trial:', study.best_trial.params)"
      ],
      "execution_count": null,
      "outputs": []
    },
    {
      "cell_type": "code",
      "metadata": {
        "id": "gfd_qGcI8vQh"
      },
      "source": [
        "def new_model(train_x,train_y):\n",
        "  cross=KFold(n_splits=5, shuffle=True, random_state=42)\n",
        "  lgbm_params={'lambda_l1': 0.0004618352643903076, 'lambda_l2': 0.0025320311842192953, 'num_leaves': 231, 'feature_fraction': 0.9663031052460144, 'bagging_fraction': 0.9298440283087137, 'bagging_freq': 4, 'min_child_samples': 19}\n",
        "\n",
        "  folds=[]\n",
        "  for train_idx, valid_idx in cross.split(train_x, train_y):\n",
        "      folds.append((train_idx, valid_idx))\n",
        "    \n",
        "  models={}\n",
        "  for fold in range(5):\n",
        "      print(f'===================={fold+1}=======================')\n",
        "      train_idx, valid_idx=folds[fold]\n",
        "      X_train=train_x.iloc[train_idx, :]\n",
        "      y_train=train_y.iloc[train_idx, :]\n",
        "      X_valid=train_x.iloc[valid_idx, :]\n",
        "      y_valid=train_y.iloc[valid_idx, :]\n",
        "      \n",
        "      model=LGBMRegressor(**lgbm_params)\n",
        "      model.fit(X_train, y_train, eval_set=[(X_train, y_train), (X_valid, y_valid)], \n",
        "              early_stopping_rounds=30, verbose=100)\n",
        "      models[fold]=model\n",
        "      \n",
        "      print(f'================================================\\n\\n')\n",
        "\n",
        "  return models"
      ],
      "execution_count": null,
      "outputs": []
    },
    {
      "cell_type": "code",
      "metadata": {
        "id": "BZ1wKIqN8vWp"
      },
      "source": [
        "\n",
        "drop_list=['date_time','강수량(mm)','일조(hr)','비전기냉방설비운영','태양광보유']\n",
        "new_train=train_EDA.drop(drop_list,axis=1)\n",
        "#x_drop_list=['전력사용량(kWh)']\n",
        "train_x=new_train.drop('전력사용량(kWh)', axis=1)\n",
        "train_y=new_train[['전력사용량(kWh)']]"
      ],
      "execution_count": null,
      "outputs": []
    },
    {
      "cell_type": "code",
      "metadata": {
        "id": "uiRAk_En8y-r"
      },
      "source": [
        "models3=new_model(train_x,train_y)"
      ],
      "execution_count": null,
      "outputs": []
    },
    {
      "cell_type": "code",
      "metadata": {
        "id": "Gu951GXB8mMy"
      },
      "source": [
        "submission_2=copy.deepcopy(submission_df)\n",
        "for i in range(5):\n",
        "    submission_2['answer'] += models3[i].predict(new_test)/5 \n",
        "\n",
        "submission_2.to_csv('optuna_lgbm_submission1.csv', index=False) \n",
        "#score \t9.4211862456"
      ],
      "execution_count": null,
      "outputs": []
    }
  ]
}